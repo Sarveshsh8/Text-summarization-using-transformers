{
  "nbformat": 4,
  "nbformat_minor": 0,
  "metadata": {
    "colab": {
      "name": "SummarizationText2.ipynb",
      "provenance": []
    },
    "kernelspec": {
      "name": "python3",
      "display_name": "Python 3"
    },
    "language_info": {
      "name": "python"
    },
    "accelerator": "GPU",
    "widgets": {
      "application/vnd.jupyter.widget-state+json": {
        "f5daa8b5265a45bbb5d170b0ab3625f3": {
          "model_module": "@jupyter-widgets/controls",
          "model_name": "HBoxModel",
          "state": {
            "_view_name": "HBoxView",
            "_dom_classes": [],
            "_model_name": "HBoxModel",
            "_view_module": "@jupyter-widgets/controls",
            "_model_module_version": "1.5.0",
            "_view_count": null,
            "_view_module_version": "1.5.0",
            "box_style": "",
            "layout": "IPY_MODEL_aa9a2f0015614fec825758a35ee9654d",
            "_model_module": "@jupyter-widgets/controls",
            "children": [
              "IPY_MODEL_b6e5b9fc818e4ef6bb3e0b42a6a7f549",
              "IPY_MODEL_dca06c7418e244a6acccbd079720e1bd"
            ]
          }
        },
        "aa9a2f0015614fec825758a35ee9654d": {
          "model_module": "@jupyter-widgets/base",
          "model_name": "LayoutModel",
          "state": {
            "_view_name": "LayoutView",
            "grid_template_rows": null,
            "right": null,
            "justify_content": null,
            "_view_module": "@jupyter-widgets/base",
            "overflow": null,
            "_model_module_version": "1.2.0",
            "_view_count": null,
            "flex_flow": null,
            "width": null,
            "min_width": null,
            "border": null,
            "align_items": null,
            "bottom": null,
            "_model_module": "@jupyter-widgets/base",
            "top": null,
            "grid_column": null,
            "overflow_y": null,
            "overflow_x": null,
            "grid_auto_flow": null,
            "grid_area": null,
            "grid_template_columns": null,
            "flex": null,
            "_model_name": "LayoutModel",
            "justify_items": null,
            "grid_row": null,
            "max_height": null,
            "align_content": null,
            "visibility": null,
            "align_self": null,
            "height": null,
            "min_height": null,
            "padding": null,
            "grid_auto_rows": null,
            "grid_gap": null,
            "max_width": null,
            "order": null,
            "_view_module_version": "1.2.0",
            "grid_template_areas": null,
            "object_position": null,
            "object_fit": null,
            "grid_auto_columns": null,
            "margin": null,
            "display": null,
            "left": null
          }
        },
        "b6e5b9fc818e4ef6bb3e0b42a6a7f549": {
          "model_module": "@jupyter-widgets/controls",
          "model_name": "FloatProgressModel",
          "state": {
            "_view_name": "ProgressView",
            "style": "IPY_MODEL_1962d72c642d42cd93ad877d3d52e86e",
            "_dom_classes": [],
            "description": "Downloading: 100%",
            "_model_name": "FloatProgressModel",
            "bar_style": "success",
            "max": 1649,
            "_view_module": "@jupyter-widgets/controls",
            "_model_module_version": "1.5.0",
            "value": 1649,
            "_view_count": null,
            "_view_module_version": "1.5.0",
            "orientation": "horizontal",
            "min": 0,
            "description_tooltip": null,
            "_model_module": "@jupyter-widgets/controls",
            "layout": "IPY_MODEL_6df8784e325f4a1abc8cea3cdb25f3e4"
          }
        },
        "dca06c7418e244a6acccbd079720e1bd": {
          "model_module": "@jupyter-widgets/controls",
          "model_name": "HTMLModel",
          "state": {
            "_view_name": "HTMLView",
            "style": "IPY_MODEL_deac16e502054fb9b891d9d3c8dfca22",
            "_dom_classes": [],
            "description": "",
            "_model_name": "HTMLModel",
            "placeholder": "​",
            "_view_module": "@jupyter-widgets/controls",
            "_model_module_version": "1.5.0",
            "value": " 1.65k/1.65k [00:00&lt;00:00, 3.55kB/s]",
            "_view_count": null,
            "_view_module_version": "1.5.0",
            "description_tooltip": null,
            "_model_module": "@jupyter-widgets/controls",
            "layout": "IPY_MODEL_7f0fa455a4984b3a9ea9271a3e8c7970"
          }
        },
        "1962d72c642d42cd93ad877d3d52e86e": {
          "model_module": "@jupyter-widgets/controls",
          "model_name": "ProgressStyleModel",
          "state": {
            "_view_name": "StyleView",
            "_model_name": "ProgressStyleModel",
            "description_width": "initial",
            "_view_module": "@jupyter-widgets/base",
            "_model_module_version": "1.5.0",
            "_view_count": null,
            "_view_module_version": "1.2.0",
            "bar_color": null,
            "_model_module": "@jupyter-widgets/controls"
          }
        },
        "6df8784e325f4a1abc8cea3cdb25f3e4": {
          "model_module": "@jupyter-widgets/base",
          "model_name": "LayoutModel",
          "state": {
            "_view_name": "LayoutView",
            "grid_template_rows": null,
            "right": null,
            "justify_content": null,
            "_view_module": "@jupyter-widgets/base",
            "overflow": null,
            "_model_module_version": "1.2.0",
            "_view_count": null,
            "flex_flow": null,
            "width": null,
            "min_width": null,
            "border": null,
            "align_items": null,
            "bottom": null,
            "_model_module": "@jupyter-widgets/base",
            "top": null,
            "grid_column": null,
            "overflow_y": null,
            "overflow_x": null,
            "grid_auto_flow": null,
            "grid_area": null,
            "grid_template_columns": null,
            "flex": null,
            "_model_name": "LayoutModel",
            "justify_items": null,
            "grid_row": null,
            "max_height": null,
            "align_content": null,
            "visibility": null,
            "align_self": null,
            "height": null,
            "min_height": null,
            "padding": null,
            "grid_auto_rows": null,
            "grid_gap": null,
            "max_width": null,
            "order": null,
            "_view_module_version": "1.2.0",
            "grid_template_areas": null,
            "object_position": null,
            "object_fit": null,
            "grid_auto_columns": null,
            "margin": null,
            "display": null,
            "left": null
          }
        },
        "deac16e502054fb9b891d9d3c8dfca22": {
          "model_module": "@jupyter-widgets/controls",
          "model_name": "DescriptionStyleModel",
          "state": {
            "_view_name": "StyleView",
            "_model_name": "DescriptionStyleModel",
            "description_width": "",
            "_view_module": "@jupyter-widgets/base",
            "_model_module_version": "1.5.0",
            "_view_count": null,
            "_view_module_version": "1.2.0",
            "_model_module": "@jupyter-widgets/controls"
          }
        },
        "7f0fa455a4984b3a9ea9271a3e8c7970": {
          "model_module": "@jupyter-widgets/base",
          "model_name": "LayoutModel",
          "state": {
            "_view_name": "LayoutView",
            "grid_template_rows": null,
            "right": null,
            "justify_content": null,
            "_view_module": "@jupyter-widgets/base",
            "overflow": null,
            "_model_module_version": "1.2.0",
            "_view_count": null,
            "flex_flow": null,
            "width": null,
            "min_width": null,
            "border": null,
            "align_items": null,
            "bottom": null,
            "_model_module": "@jupyter-widgets/base",
            "top": null,
            "grid_column": null,
            "overflow_y": null,
            "overflow_x": null,
            "grid_auto_flow": null,
            "grid_area": null,
            "grid_template_columns": null,
            "flex": null,
            "_model_name": "LayoutModel",
            "justify_items": null,
            "grid_row": null,
            "max_height": null,
            "align_content": null,
            "visibility": null,
            "align_self": null,
            "height": null,
            "min_height": null,
            "padding": null,
            "grid_auto_rows": null,
            "grid_gap": null,
            "max_width": null,
            "order": null,
            "_view_module_version": "1.2.0",
            "grid_template_areas": null,
            "object_position": null,
            "object_fit": null,
            "grid_auto_columns": null,
            "margin": null,
            "display": null,
            "left": null
          }
        },
        "ad8868e64ba9451db95161fb878d6859": {
          "model_module": "@jupyter-widgets/controls",
          "model_name": "HBoxModel",
          "state": {
            "_view_name": "HBoxView",
            "_dom_classes": [],
            "_model_name": "HBoxModel",
            "_view_module": "@jupyter-widgets/controls",
            "_model_module_version": "1.5.0",
            "_view_count": null,
            "_view_module_version": "1.5.0",
            "box_style": "",
            "layout": "IPY_MODEL_4793f63f0f864582bbd6045243ad4d91",
            "_model_module": "@jupyter-widgets/controls",
            "children": [
              "IPY_MODEL_28012f5b3e884772a53c8634221b0c16",
              "IPY_MODEL_79d8b7b9515d46eca76aaab77ee2257d"
            ]
          }
        },
        "4793f63f0f864582bbd6045243ad4d91": {
          "model_module": "@jupyter-widgets/base",
          "model_name": "LayoutModel",
          "state": {
            "_view_name": "LayoutView",
            "grid_template_rows": null,
            "right": null,
            "justify_content": null,
            "_view_module": "@jupyter-widgets/base",
            "overflow": null,
            "_model_module_version": "1.2.0",
            "_view_count": null,
            "flex_flow": null,
            "width": null,
            "min_width": null,
            "border": null,
            "align_items": null,
            "bottom": null,
            "_model_module": "@jupyter-widgets/base",
            "top": null,
            "grid_column": null,
            "overflow_y": null,
            "overflow_x": null,
            "grid_auto_flow": null,
            "grid_area": null,
            "grid_template_columns": null,
            "flex": null,
            "_model_name": "LayoutModel",
            "justify_items": null,
            "grid_row": null,
            "max_height": null,
            "align_content": null,
            "visibility": null,
            "align_self": null,
            "height": null,
            "min_height": null,
            "padding": null,
            "grid_auto_rows": null,
            "grid_gap": null,
            "max_width": null,
            "order": null,
            "_view_module_version": "1.2.0",
            "grid_template_areas": null,
            "object_position": null,
            "object_fit": null,
            "grid_auto_columns": null,
            "margin": null,
            "display": null,
            "left": null
          }
        },
        "28012f5b3e884772a53c8634221b0c16": {
          "model_module": "@jupyter-widgets/controls",
          "model_name": "FloatProgressModel",
          "state": {
            "_view_name": "ProgressView",
            "style": "IPY_MODEL_e1ef88f09de94f769f9e2012c9958542",
            "_dom_classes": [],
            "description": "Downloading: 100%",
            "_model_name": "FloatProgressModel",
            "bar_style": "success",
            "max": 1222317369,
            "_view_module": "@jupyter-widgets/controls",
            "_model_module_version": "1.5.0",
            "value": 1222317369,
            "_view_count": null,
            "_view_module_version": "1.5.0",
            "orientation": "horizontal",
            "min": 0,
            "description_tooltip": null,
            "_model_module": "@jupyter-widgets/controls",
            "layout": "IPY_MODEL_785cbaf7334d4e4a8890400fda3036c0"
          }
        },
        "79d8b7b9515d46eca76aaab77ee2257d": {
          "model_module": "@jupyter-widgets/controls",
          "model_name": "HTMLModel",
          "state": {
            "_view_name": "HTMLView",
            "style": "IPY_MODEL_a1b653cfa22f433698871d8b2f755a80",
            "_dom_classes": [],
            "description": "",
            "_model_name": "HTMLModel",
            "placeholder": "​",
            "_view_module": "@jupyter-widgets/controls",
            "_model_module_version": "1.5.0",
            "value": " 1.22G/1.22G [00:23&lt;00:00, 51.9MB/s]",
            "_view_count": null,
            "_view_module_version": "1.5.0",
            "description_tooltip": null,
            "_model_module": "@jupyter-widgets/controls",
            "layout": "IPY_MODEL_e019cbe4a1ab4c3da60a2b4aec59762a"
          }
        },
        "e1ef88f09de94f769f9e2012c9958542": {
          "model_module": "@jupyter-widgets/controls",
          "model_name": "ProgressStyleModel",
          "state": {
            "_view_name": "StyleView",
            "_model_name": "ProgressStyleModel",
            "description_width": "initial",
            "_view_module": "@jupyter-widgets/base",
            "_model_module_version": "1.5.0",
            "_view_count": null,
            "_view_module_version": "1.2.0",
            "bar_color": null,
            "_model_module": "@jupyter-widgets/controls"
          }
        },
        "785cbaf7334d4e4a8890400fda3036c0": {
          "model_module": "@jupyter-widgets/base",
          "model_name": "LayoutModel",
          "state": {
            "_view_name": "LayoutView",
            "grid_template_rows": null,
            "right": null,
            "justify_content": null,
            "_view_module": "@jupyter-widgets/base",
            "overflow": null,
            "_model_module_version": "1.2.0",
            "_view_count": null,
            "flex_flow": null,
            "width": null,
            "min_width": null,
            "border": null,
            "align_items": null,
            "bottom": null,
            "_model_module": "@jupyter-widgets/base",
            "top": null,
            "grid_column": null,
            "overflow_y": null,
            "overflow_x": null,
            "grid_auto_flow": null,
            "grid_area": null,
            "grid_template_columns": null,
            "flex": null,
            "_model_name": "LayoutModel",
            "justify_items": null,
            "grid_row": null,
            "max_height": null,
            "align_content": null,
            "visibility": null,
            "align_self": null,
            "height": null,
            "min_height": null,
            "padding": null,
            "grid_auto_rows": null,
            "grid_gap": null,
            "max_width": null,
            "order": null,
            "_view_module_version": "1.2.0",
            "grid_template_areas": null,
            "object_position": null,
            "object_fit": null,
            "grid_auto_columns": null,
            "margin": null,
            "display": null,
            "left": null
          }
        },
        "a1b653cfa22f433698871d8b2f755a80": {
          "model_module": "@jupyter-widgets/controls",
          "model_name": "DescriptionStyleModel",
          "state": {
            "_view_name": "StyleView",
            "_model_name": "DescriptionStyleModel",
            "description_width": "",
            "_view_module": "@jupyter-widgets/base",
            "_model_module_version": "1.5.0",
            "_view_count": null,
            "_view_module_version": "1.2.0",
            "_model_module": "@jupyter-widgets/controls"
          }
        },
        "e019cbe4a1ab4c3da60a2b4aec59762a": {
          "model_module": "@jupyter-widgets/base",
          "model_name": "LayoutModel",
          "state": {
            "_view_name": "LayoutView",
            "grid_template_rows": null,
            "right": null,
            "justify_content": null,
            "_view_module": "@jupyter-widgets/base",
            "overflow": null,
            "_model_module_version": "1.2.0",
            "_view_count": null,
            "flex_flow": null,
            "width": null,
            "min_width": null,
            "border": null,
            "align_items": null,
            "bottom": null,
            "_model_module": "@jupyter-widgets/base",
            "top": null,
            "grid_column": null,
            "overflow_y": null,
            "overflow_x": null,
            "grid_auto_flow": null,
            "grid_area": null,
            "grid_template_columns": null,
            "flex": null,
            "_model_name": "LayoutModel",
            "justify_items": null,
            "grid_row": null,
            "max_height": null,
            "align_content": null,
            "visibility": null,
            "align_self": null,
            "height": null,
            "min_height": null,
            "padding": null,
            "grid_auto_rows": null,
            "grid_gap": null,
            "max_width": null,
            "order": null,
            "_view_module_version": "1.2.0",
            "grid_template_areas": null,
            "object_position": null,
            "object_fit": null,
            "grid_auto_columns": null,
            "margin": null,
            "display": null,
            "left": null
          }
        },
        "afaeab924f77495393609309644a3b50": {
          "model_module": "@jupyter-widgets/controls",
          "model_name": "HBoxModel",
          "state": {
            "_view_name": "HBoxView",
            "_dom_classes": [],
            "_model_name": "HBoxModel",
            "_view_module": "@jupyter-widgets/controls",
            "_model_module_version": "1.5.0",
            "_view_count": null,
            "_view_module_version": "1.5.0",
            "box_style": "",
            "layout": "IPY_MODEL_05fcb81ed34544a8a96d534feeddf7cf",
            "_model_module": "@jupyter-widgets/controls",
            "children": [
              "IPY_MODEL_cb7582ea53724b9da22d9e1ceb16d0d5",
              "IPY_MODEL_824cf7fa00484463948cd05b539beaf2"
            ]
          }
        },
        "05fcb81ed34544a8a96d534feeddf7cf": {
          "model_module": "@jupyter-widgets/base",
          "model_name": "LayoutModel",
          "state": {
            "_view_name": "LayoutView",
            "grid_template_rows": null,
            "right": null,
            "justify_content": null,
            "_view_module": "@jupyter-widgets/base",
            "overflow": null,
            "_model_module_version": "1.2.0",
            "_view_count": null,
            "flex_flow": null,
            "width": null,
            "min_width": null,
            "border": null,
            "align_items": null,
            "bottom": null,
            "_model_module": "@jupyter-widgets/base",
            "top": null,
            "grid_column": null,
            "overflow_y": null,
            "overflow_x": null,
            "grid_auto_flow": null,
            "grid_area": null,
            "grid_template_columns": null,
            "flex": null,
            "_model_name": "LayoutModel",
            "justify_items": null,
            "grid_row": null,
            "max_height": null,
            "align_content": null,
            "visibility": null,
            "align_self": null,
            "height": null,
            "min_height": null,
            "padding": null,
            "grid_auto_rows": null,
            "grid_gap": null,
            "max_width": null,
            "order": null,
            "_view_module_version": "1.2.0",
            "grid_template_areas": null,
            "object_position": null,
            "object_fit": null,
            "grid_auto_columns": null,
            "margin": null,
            "display": null,
            "left": null
          }
        },
        "cb7582ea53724b9da22d9e1ceb16d0d5": {
          "model_module": "@jupyter-widgets/controls",
          "model_name": "FloatProgressModel",
          "state": {
            "_view_name": "ProgressView",
            "style": "IPY_MODEL_06ed27e71d974307bed18865bc10d251",
            "_dom_classes": [],
            "description": "Downloading: 100%",
            "_model_name": "FloatProgressModel",
            "bar_style": "success",
            "max": 898822,
            "_view_module": "@jupyter-widgets/controls",
            "_model_module_version": "1.5.0",
            "value": 898822,
            "_view_count": null,
            "_view_module_version": "1.5.0",
            "orientation": "horizontal",
            "min": 0,
            "description_tooltip": null,
            "_model_module": "@jupyter-widgets/controls",
            "layout": "IPY_MODEL_c1d708d5411a4c22a4c847eea98114e8"
          }
        },
        "824cf7fa00484463948cd05b539beaf2": {
          "model_module": "@jupyter-widgets/controls",
          "model_name": "HTMLModel",
          "state": {
            "_view_name": "HTMLView",
            "style": "IPY_MODEL_da08f5f3e9f9440b92dccc26c31faa6e",
            "_dom_classes": [],
            "description": "",
            "_model_name": "HTMLModel",
            "placeholder": "​",
            "_view_module": "@jupyter-widgets/controls",
            "_model_module_version": "1.5.0",
            "value": " 899k/899k [00:02&lt;00:00, 385kB/s]",
            "_view_count": null,
            "_view_module_version": "1.5.0",
            "description_tooltip": null,
            "_model_module": "@jupyter-widgets/controls",
            "layout": "IPY_MODEL_1e3b74372a9446cc912e9db28a5e93d5"
          }
        },
        "06ed27e71d974307bed18865bc10d251": {
          "model_module": "@jupyter-widgets/controls",
          "model_name": "ProgressStyleModel",
          "state": {
            "_view_name": "StyleView",
            "_model_name": "ProgressStyleModel",
            "description_width": "initial",
            "_view_module": "@jupyter-widgets/base",
            "_model_module_version": "1.5.0",
            "_view_count": null,
            "_view_module_version": "1.2.0",
            "bar_color": null,
            "_model_module": "@jupyter-widgets/controls"
          }
        },
        "c1d708d5411a4c22a4c847eea98114e8": {
          "model_module": "@jupyter-widgets/base",
          "model_name": "LayoutModel",
          "state": {
            "_view_name": "LayoutView",
            "grid_template_rows": null,
            "right": null,
            "justify_content": null,
            "_view_module": "@jupyter-widgets/base",
            "overflow": null,
            "_model_module_version": "1.2.0",
            "_view_count": null,
            "flex_flow": null,
            "width": null,
            "min_width": null,
            "border": null,
            "align_items": null,
            "bottom": null,
            "_model_module": "@jupyter-widgets/base",
            "top": null,
            "grid_column": null,
            "overflow_y": null,
            "overflow_x": null,
            "grid_auto_flow": null,
            "grid_area": null,
            "grid_template_columns": null,
            "flex": null,
            "_model_name": "LayoutModel",
            "justify_items": null,
            "grid_row": null,
            "max_height": null,
            "align_content": null,
            "visibility": null,
            "align_self": null,
            "height": null,
            "min_height": null,
            "padding": null,
            "grid_auto_rows": null,
            "grid_gap": null,
            "max_width": null,
            "order": null,
            "_view_module_version": "1.2.0",
            "grid_template_areas": null,
            "object_position": null,
            "object_fit": null,
            "grid_auto_columns": null,
            "margin": null,
            "display": null,
            "left": null
          }
        },
        "da08f5f3e9f9440b92dccc26c31faa6e": {
          "model_module": "@jupyter-widgets/controls",
          "model_name": "DescriptionStyleModel",
          "state": {
            "_view_name": "StyleView",
            "_model_name": "DescriptionStyleModel",
            "description_width": "",
            "_view_module": "@jupyter-widgets/base",
            "_model_module_version": "1.5.0",
            "_view_count": null,
            "_view_module_version": "1.2.0",
            "_model_module": "@jupyter-widgets/controls"
          }
        },
        "1e3b74372a9446cc912e9db28a5e93d5": {
          "model_module": "@jupyter-widgets/base",
          "model_name": "LayoutModel",
          "state": {
            "_view_name": "LayoutView",
            "grid_template_rows": null,
            "right": null,
            "justify_content": null,
            "_view_module": "@jupyter-widgets/base",
            "overflow": null,
            "_model_module_version": "1.2.0",
            "_view_count": null,
            "flex_flow": null,
            "width": null,
            "min_width": null,
            "border": null,
            "align_items": null,
            "bottom": null,
            "_model_module": "@jupyter-widgets/base",
            "top": null,
            "grid_column": null,
            "overflow_y": null,
            "overflow_x": null,
            "grid_auto_flow": null,
            "grid_area": null,
            "grid_template_columns": null,
            "flex": null,
            "_model_name": "LayoutModel",
            "justify_items": null,
            "grid_row": null,
            "max_height": null,
            "align_content": null,
            "visibility": null,
            "align_self": null,
            "height": null,
            "min_height": null,
            "padding": null,
            "grid_auto_rows": null,
            "grid_gap": null,
            "max_width": null,
            "order": null,
            "_view_module_version": "1.2.0",
            "grid_template_areas": null,
            "object_position": null,
            "object_fit": null,
            "grid_auto_columns": null,
            "margin": null,
            "display": null,
            "left": null
          }
        },
        "bb89c08dee4347dda792a42b3994fcbc": {
          "model_module": "@jupyter-widgets/controls",
          "model_name": "HBoxModel",
          "state": {
            "_view_name": "HBoxView",
            "_dom_classes": [],
            "_model_name": "HBoxModel",
            "_view_module": "@jupyter-widgets/controls",
            "_model_module_version": "1.5.0",
            "_view_count": null,
            "_view_module_version": "1.5.0",
            "box_style": "",
            "layout": "IPY_MODEL_fcc746e656e846c68e2e050caf24fe30",
            "_model_module": "@jupyter-widgets/controls",
            "children": [
              "IPY_MODEL_1c2d213c26714e1fba612c1d54c5f2fd",
              "IPY_MODEL_847127d5ef104f95a98930815b77dea2"
            ]
          }
        },
        "fcc746e656e846c68e2e050caf24fe30": {
          "model_module": "@jupyter-widgets/base",
          "model_name": "LayoutModel",
          "state": {
            "_view_name": "LayoutView",
            "grid_template_rows": null,
            "right": null,
            "justify_content": null,
            "_view_module": "@jupyter-widgets/base",
            "overflow": null,
            "_model_module_version": "1.2.0",
            "_view_count": null,
            "flex_flow": null,
            "width": null,
            "min_width": null,
            "border": null,
            "align_items": null,
            "bottom": null,
            "_model_module": "@jupyter-widgets/base",
            "top": null,
            "grid_column": null,
            "overflow_y": null,
            "overflow_x": null,
            "grid_auto_flow": null,
            "grid_area": null,
            "grid_template_columns": null,
            "flex": null,
            "_model_name": "LayoutModel",
            "justify_items": null,
            "grid_row": null,
            "max_height": null,
            "align_content": null,
            "visibility": null,
            "align_self": null,
            "height": null,
            "min_height": null,
            "padding": null,
            "grid_auto_rows": null,
            "grid_gap": null,
            "max_width": null,
            "order": null,
            "_view_module_version": "1.2.0",
            "grid_template_areas": null,
            "object_position": null,
            "object_fit": null,
            "grid_auto_columns": null,
            "margin": null,
            "display": null,
            "left": null
          }
        },
        "1c2d213c26714e1fba612c1d54c5f2fd": {
          "model_module": "@jupyter-widgets/controls",
          "model_name": "FloatProgressModel",
          "state": {
            "_view_name": "ProgressView",
            "style": "IPY_MODEL_3dfbc359886f46e1bd4ad97474db1bb1",
            "_dom_classes": [],
            "description": "Downloading: 100%",
            "_model_name": "FloatProgressModel",
            "bar_style": "success",
            "max": 456318,
            "_view_module": "@jupyter-widgets/controls",
            "_model_module_version": "1.5.0",
            "value": 456318,
            "_view_count": null,
            "_view_module_version": "1.5.0",
            "orientation": "horizontal",
            "min": 0,
            "description_tooltip": null,
            "_model_module": "@jupyter-widgets/controls",
            "layout": "IPY_MODEL_519aca1e9ba8418799185e86c81657a3"
          }
        },
        "847127d5ef104f95a98930815b77dea2": {
          "model_module": "@jupyter-widgets/controls",
          "model_name": "HTMLModel",
          "state": {
            "_view_name": "HTMLView",
            "style": "IPY_MODEL_d26fa900078c489a88f1f931db6502f8",
            "_dom_classes": [],
            "description": "",
            "_model_name": "HTMLModel",
            "placeholder": "​",
            "_view_module": "@jupyter-widgets/controls",
            "_model_module_version": "1.5.0",
            "value": " 456k/456k [00:01&lt;00:00, 300kB/s]",
            "_view_count": null,
            "_view_module_version": "1.5.0",
            "description_tooltip": null,
            "_model_module": "@jupyter-widgets/controls",
            "layout": "IPY_MODEL_47482bc253ee443cad3359318b5649f0"
          }
        },
        "3dfbc359886f46e1bd4ad97474db1bb1": {
          "model_module": "@jupyter-widgets/controls",
          "model_name": "ProgressStyleModel",
          "state": {
            "_view_name": "StyleView",
            "_model_name": "ProgressStyleModel",
            "description_width": "initial",
            "_view_module": "@jupyter-widgets/base",
            "_model_module_version": "1.5.0",
            "_view_count": null,
            "_view_module_version": "1.2.0",
            "bar_color": null,
            "_model_module": "@jupyter-widgets/controls"
          }
        },
        "519aca1e9ba8418799185e86c81657a3": {
          "model_module": "@jupyter-widgets/base",
          "model_name": "LayoutModel",
          "state": {
            "_view_name": "LayoutView",
            "grid_template_rows": null,
            "right": null,
            "justify_content": null,
            "_view_module": "@jupyter-widgets/base",
            "overflow": null,
            "_model_module_version": "1.2.0",
            "_view_count": null,
            "flex_flow": null,
            "width": null,
            "min_width": null,
            "border": null,
            "align_items": null,
            "bottom": null,
            "_model_module": "@jupyter-widgets/base",
            "top": null,
            "grid_column": null,
            "overflow_y": null,
            "overflow_x": null,
            "grid_auto_flow": null,
            "grid_area": null,
            "grid_template_columns": null,
            "flex": null,
            "_model_name": "LayoutModel",
            "justify_items": null,
            "grid_row": null,
            "max_height": null,
            "align_content": null,
            "visibility": null,
            "align_self": null,
            "height": null,
            "min_height": null,
            "padding": null,
            "grid_auto_rows": null,
            "grid_gap": null,
            "max_width": null,
            "order": null,
            "_view_module_version": "1.2.0",
            "grid_template_areas": null,
            "object_position": null,
            "object_fit": null,
            "grid_auto_columns": null,
            "margin": null,
            "display": null,
            "left": null
          }
        },
        "d26fa900078c489a88f1f931db6502f8": {
          "model_module": "@jupyter-widgets/controls",
          "model_name": "DescriptionStyleModel",
          "state": {
            "_view_name": "StyleView",
            "_model_name": "DescriptionStyleModel",
            "description_width": "",
            "_view_module": "@jupyter-widgets/base",
            "_model_module_version": "1.5.0",
            "_view_count": null,
            "_view_module_version": "1.2.0",
            "_model_module": "@jupyter-widgets/controls"
          }
        },
        "47482bc253ee443cad3359318b5649f0": {
          "model_module": "@jupyter-widgets/base",
          "model_name": "LayoutModel",
          "state": {
            "_view_name": "LayoutView",
            "grid_template_rows": null,
            "right": null,
            "justify_content": null,
            "_view_module": "@jupyter-widgets/base",
            "overflow": null,
            "_model_module_version": "1.2.0",
            "_view_count": null,
            "flex_flow": null,
            "width": null,
            "min_width": null,
            "border": null,
            "align_items": null,
            "bottom": null,
            "_model_module": "@jupyter-widgets/base",
            "top": null,
            "grid_column": null,
            "overflow_y": null,
            "overflow_x": null,
            "grid_auto_flow": null,
            "grid_area": null,
            "grid_template_columns": null,
            "flex": null,
            "_model_name": "LayoutModel",
            "justify_items": null,
            "grid_row": null,
            "max_height": null,
            "align_content": null,
            "visibility": null,
            "align_self": null,
            "height": null,
            "min_height": null,
            "padding": null,
            "grid_auto_rows": null,
            "grid_gap": null,
            "max_width": null,
            "order": null,
            "_view_module_version": "1.2.0",
            "grid_template_areas": null,
            "object_position": null,
            "object_fit": null,
            "grid_auto_columns": null,
            "margin": null,
            "display": null,
            "left": null
          }
        },
        "79819778a23b431d84dc471b6425d213": {
          "model_module": "@jupyter-widgets/controls",
          "model_name": "HBoxModel",
          "state": {
            "_view_name": "HBoxView",
            "_dom_classes": [],
            "_model_name": "HBoxModel",
            "_view_module": "@jupyter-widgets/controls",
            "_model_module_version": "1.5.0",
            "_view_count": null,
            "_view_module_version": "1.5.0",
            "box_style": "",
            "layout": "IPY_MODEL_a2d12b99c2434c349730d50877b31cc8",
            "_model_module": "@jupyter-widgets/controls",
            "children": [
              "IPY_MODEL_7477701106424390af3360b700595457",
              "IPY_MODEL_a47fb765220e438b87f0546327d06234"
            ]
          }
        },
        "a2d12b99c2434c349730d50877b31cc8": {
          "model_module": "@jupyter-widgets/base",
          "model_name": "LayoutModel",
          "state": {
            "_view_name": "LayoutView",
            "grid_template_rows": null,
            "right": null,
            "justify_content": null,
            "_view_module": "@jupyter-widgets/base",
            "overflow": null,
            "_model_module_version": "1.2.0",
            "_view_count": null,
            "flex_flow": null,
            "width": null,
            "min_width": null,
            "border": null,
            "align_items": null,
            "bottom": null,
            "_model_module": "@jupyter-widgets/base",
            "top": null,
            "grid_column": null,
            "overflow_y": null,
            "overflow_x": null,
            "grid_auto_flow": null,
            "grid_area": null,
            "grid_template_columns": null,
            "flex": null,
            "_model_name": "LayoutModel",
            "justify_items": null,
            "grid_row": null,
            "max_height": null,
            "align_content": null,
            "visibility": null,
            "align_self": null,
            "height": null,
            "min_height": null,
            "padding": null,
            "grid_auto_rows": null,
            "grid_gap": null,
            "max_width": null,
            "order": null,
            "_view_module_version": "1.2.0",
            "grid_template_areas": null,
            "object_position": null,
            "object_fit": null,
            "grid_auto_columns": null,
            "margin": null,
            "display": null,
            "left": null
          }
        },
        "7477701106424390af3360b700595457": {
          "model_module": "@jupyter-widgets/controls",
          "model_name": "FloatProgressModel",
          "state": {
            "_view_name": "ProgressView",
            "style": "IPY_MODEL_d505257cfe41485fbd58d84eaecc8e31",
            "_dom_classes": [],
            "description": "Downloading: 100%",
            "_model_name": "FloatProgressModel",
            "bar_style": "success",
            "max": 26,
            "_view_module": "@jupyter-widgets/controls",
            "_model_module_version": "1.5.0",
            "value": 26,
            "_view_count": null,
            "_view_module_version": "1.5.0",
            "orientation": "horizontal",
            "min": 0,
            "description_tooltip": null,
            "_model_module": "@jupyter-widgets/controls",
            "layout": "IPY_MODEL_7874981f6680436ab2fc8ae859086018"
          }
        },
        "a47fb765220e438b87f0546327d06234": {
          "model_module": "@jupyter-widgets/controls",
          "model_name": "HTMLModel",
          "state": {
            "_view_name": "HTMLView",
            "style": "IPY_MODEL_aa3b1a1805d147da9d98c86fc873b43e",
            "_dom_classes": [],
            "description": "",
            "_model_name": "HTMLModel",
            "placeholder": "​",
            "_view_module": "@jupyter-widgets/controls",
            "_model_module_version": "1.5.0",
            "value": " 26.0/26.0 [00:00&lt;00:00, 271B/s]",
            "_view_count": null,
            "_view_module_version": "1.5.0",
            "description_tooltip": null,
            "_model_module": "@jupyter-widgets/controls",
            "layout": "IPY_MODEL_3db025e0a82c437b9eb942fb6dc3dac4"
          }
        },
        "d505257cfe41485fbd58d84eaecc8e31": {
          "model_module": "@jupyter-widgets/controls",
          "model_name": "ProgressStyleModel",
          "state": {
            "_view_name": "StyleView",
            "_model_name": "ProgressStyleModel",
            "description_width": "initial",
            "_view_module": "@jupyter-widgets/base",
            "_model_module_version": "1.5.0",
            "_view_count": null,
            "_view_module_version": "1.2.0",
            "bar_color": null,
            "_model_module": "@jupyter-widgets/controls"
          }
        },
        "7874981f6680436ab2fc8ae859086018": {
          "model_module": "@jupyter-widgets/base",
          "model_name": "LayoutModel",
          "state": {
            "_view_name": "LayoutView",
            "grid_template_rows": null,
            "right": null,
            "justify_content": null,
            "_view_module": "@jupyter-widgets/base",
            "overflow": null,
            "_model_module_version": "1.2.0",
            "_view_count": null,
            "flex_flow": null,
            "width": null,
            "min_width": null,
            "border": null,
            "align_items": null,
            "bottom": null,
            "_model_module": "@jupyter-widgets/base",
            "top": null,
            "grid_column": null,
            "overflow_y": null,
            "overflow_x": null,
            "grid_auto_flow": null,
            "grid_area": null,
            "grid_template_columns": null,
            "flex": null,
            "_model_name": "LayoutModel",
            "justify_items": null,
            "grid_row": null,
            "max_height": null,
            "align_content": null,
            "visibility": null,
            "align_self": null,
            "height": null,
            "min_height": null,
            "padding": null,
            "grid_auto_rows": null,
            "grid_gap": null,
            "max_width": null,
            "order": null,
            "_view_module_version": "1.2.0",
            "grid_template_areas": null,
            "object_position": null,
            "object_fit": null,
            "grid_auto_columns": null,
            "margin": null,
            "display": null,
            "left": null
          }
        },
        "aa3b1a1805d147da9d98c86fc873b43e": {
          "model_module": "@jupyter-widgets/controls",
          "model_name": "DescriptionStyleModel",
          "state": {
            "_view_name": "StyleView",
            "_model_name": "DescriptionStyleModel",
            "description_width": "",
            "_view_module": "@jupyter-widgets/base",
            "_model_module_version": "1.5.0",
            "_view_count": null,
            "_view_module_version": "1.2.0",
            "_model_module": "@jupyter-widgets/controls"
          }
        },
        "3db025e0a82c437b9eb942fb6dc3dac4": {
          "model_module": "@jupyter-widgets/base",
          "model_name": "LayoutModel",
          "state": {
            "_view_name": "LayoutView",
            "grid_template_rows": null,
            "right": null,
            "justify_content": null,
            "_view_module": "@jupyter-widgets/base",
            "overflow": null,
            "_model_module_version": "1.2.0",
            "_view_count": null,
            "flex_flow": null,
            "width": null,
            "min_width": null,
            "border": null,
            "align_items": null,
            "bottom": null,
            "_model_module": "@jupyter-widgets/base",
            "top": null,
            "grid_column": null,
            "overflow_y": null,
            "overflow_x": null,
            "grid_auto_flow": null,
            "grid_area": null,
            "grid_template_columns": null,
            "flex": null,
            "_model_name": "LayoutModel",
            "justify_items": null,
            "grid_row": null,
            "max_height": null,
            "align_content": null,
            "visibility": null,
            "align_self": null,
            "height": null,
            "min_height": null,
            "padding": null,
            "grid_auto_rows": null,
            "grid_gap": null,
            "max_width": null,
            "order": null,
            "_view_module_version": "1.2.0",
            "grid_template_areas": null,
            "object_position": null,
            "object_fit": null,
            "grid_auto_columns": null,
            "margin": null,
            "display": null,
            "left": null
          }
        }
      }
    }
  },
  "cells": [
    {
      "cell_type": "code",
      "metadata": {
        "id": "Noet6x2JjjuP"
      },
      "source": [
        "pip install transformers"
      ],
      "execution_count": null,
      "outputs": []
    },
    {
      "cell_type": "code",
      "metadata": {
        "id": "yaIwE7WLjv5Y"
      },
      "source": [
        "from transformers import pipeline\n",
        "from bs4 import BeautifulSoup\n",
        "import requests"
      ],
      "execution_count": 2,
      "outputs": []
    },
    {
      "cell_type": "code",
      "metadata": {
        "colab": {
          "base_uri": "https://localhost:8080/",
          "height": 265,
          "referenced_widgets": [
            "f5daa8b5265a45bbb5d170b0ab3625f3",
            "aa9a2f0015614fec825758a35ee9654d",
            "b6e5b9fc818e4ef6bb3e0b42a6a7f549",
            "dca06c7418e244a6acccbd079720e1bd",
            "1962d72c642d42cd93ad877d3d52e86e",
            "6df8784e325f4a1abc8cea3cdb25f3e4",
            "deac16e502054fb9b891d9d3c8dfca22",
            "7f0fa455a4984b3a9ea9271a3e8c7970",
            "ad8868e64ba9451db95161fb878d6859",
            "4793f63f0f864582bbd6045243ad4d91",
            "28012f5b3e884772a53c8634221b0c16",
            "79d8b7b9515d46eca76aaab77ee2257d",
            "e1ef88f09de94f769f9e2012c9958542",
            "785cbaf7334d4e4a8890400fda3036c0",
            "a1b653cfa22f433698871d8b2f755a80",
            "e019cbe4a1ab4c3da60a2b4aec59762a",
            "afaeab924f77495393609309644a3b50",
            "05fcb81ed34544a8a96d534feeddf7cf",
            "cb7582ea53724b9da22d9e1ceb16d0d5",
            "824cf7fa00484463948cd05b539beaf2",
            "06ed27e71d974307bed18865bc10d251",
            "c1d708d5411a4c22a4c847eea98114e8",
            "da08f5f3e9f9440b92dccc26c31faa6e",
            "1e3b74372a9446cc912e9db28a5e93d5",
            "bb89c08dee4347dda792a42b3994fcbc",
            "fcc746e656e846c68e2e050caf24fe30",
            "1c2d213c26714e1fba612c1d54c5f2fd",
            "847127d5ef104f95a98930815b77dea2",
            "3dfbc359886f46e1bd4ad97474db1bb1",
            "519aca1e9ba8418799185e86c81657a3",
            "d26fa900078c489a88f1f931db6502f8",
            "47482bc253ee443cad3359318b5649f0",
            "79819778a23b431d84dc471b6425d213",
            "a2d12b99c2434c349730d50877b31cc8",
            "7477701106424390af3360b700595457",
            "a47fb765220e438b87f0546327d06234",
            "d505257cfe41485fbd58d84eaecc8e31",
            "7874981f6680436ab2fc8ae859086018",
            "aa3b1a1805d147da9d98c86fc873b43e",
            "3db025e0a82c437b9eb942fb6dc3dac4"
          ]
        },
        "id": "bRbY9wdekbHd",
        "outputId": "dfcea428-c020-49c9-b6d8-38c693abd9f5"
      },
      "source": [
        "summarizer = pipeline('summarization')"
      ],
      "execution_count": 3,
      "outputs": [
        {
          "output_type": "display_data",
          "data": {
            "application/vnd.jupyter.widget-view+json": {
              "model_id": "f5daa8b5265a45bbb5d170b0ab3625f3",
              "version_minor": 0,
              "version_major": 2
            },
            "text/plain": [
              "HBox(children=(FloatProgress(value=0.0, description='Downloading', max=1649.0, style=ProgressStyle(description…"
            ]
          },
          "metadata": {
            "tags": []
          }
        },
        {
          "output_type": "stream",
          "text": [
            "\n"
          ],
          "name": "stdout"
        },
        {
          "output_type": "display_data",
          "data": {
            "application/vnd.jupyter.widget-view+json": {
              "model_id": "ad8868e64ba9451db95161fb878d6859",
              "version_minor": 0,
              "version_major": 2
            },
            "text/plain": [
              "HBox(children=(FloatProgress(value=0.0, description='Downloading', max=1222317369.0, style=ProgressStyle(descr…"
            ]
          },
          "metadata": {
            "tags": []
          }
        },
        {
          "output_type": "stream",
          "text": [
            "\n"
          ],
          "name": "stdout"
        },
        {
          "output_type": "display_data",
          "data": {
            "application/vnd.jupyter.widget-view+json": {
              "model_id": "afaeab924f77495393609309644a3b50",
              "version_minor": 0,
              "version_major": 2
            },
            "text/plain": [
              "HBox(children=(FloatProgress(value=0.0, description='Downloading', max=898822.0, style=ProgressStyle(descripti…"
            ]
          },
          "metadata": {
            "tags": []
          }
        },
        {
          "output_type": "stream",
          "text": [
            "\n"
          ],
          "name": "stdout"
        },
        {
          "output_type": "display_data",
          "data": {
            "application/vnd.jupyter.widget-view+json": {
              "model_id": "bb89c08dee4347dda792a42b3994fcbc",
              "version_minor": 0,
              "version_major": 2
            },
            "text/plain": [
              "HBox(children=(FloatProgress(value=0.0, description='Downloading', max=456318.0, style=ProgressStyle(descripti…"
            ]
          },
          "metadata": {
            "tags": []
          }
        },
        {
          "output_type": "stream",
          "text": [
            "\n"
          ],
          "name": "stdout"
        },
        {
          "output_type": "display_data",
          "data": {
            "application/vnd.jupyter.widget-view+json": {
              "model_id": "79819778a23b431d84dc471b6425d213",
              "version_minor": 0,
              "version_major": 2
            },
            "text/plain": [
              "HBox(children=(FloatProgress(value=0.0, description='Downloading', max=26.0, style=ProgressStyle(description_w…"
            ]
          },
          "metadata": {
            "tags": []
          }
        },
        {
          "output_type": "stream",
          "text": [
            "\n"
          ],
          "name": "stdout"
        }
      ]
    },
    {
      "cell_type": "code",
      "metadata": {
        "id": "2u81nnNwksDs"
      },
      "source": [
        "URL = 'https://hackernoon.com/top-9-use-cases-for-human-resources-automation-7xv35kn'"
      ],
      "execution_count": 13,
      "outputs": []
    },
    {
      "cell_type": "code",
      "metadata": {
        "id": "KxYXnw36l9lk"
      },
      "source": [
        "r = requests.get(URL)"
      ],
      "execution_count": 14,
      "outputs": []
    },
    {
      "cell_type": "code",
      "metadata": {
        "colab": {
          "base_uri": "https://localhost:8080/",
          "height": 124
        },
        "id": "8e5wViV0mMVT",
        "outputId": "65b7a304-8dd9-4a2b-d988-bd5290965b6d"
      },
      "source": [
        "r.text"
      ],
      "execution_count": 15,
      "outputs": [
        {
          "output_type": "execute_result",
          "data": {
            "application/vnd.google.colaboratory.intrinsic+json": {
              "type": "string"
            },
            "text/plain": [
              "'<!DOCTYPE html><html lang=\"en\"><head><script src=\"https://kit.fontawesome.com/b307ea084c.js\" crossorigin=\"anonymous\"></script><meta name=\"google-site-verification\" content=\"xSsN5mRM5xbHVI00M8uekCnuJ47Da0ER2mYuGhaPM9o\"/><link rel=\"stylesheet\" href=\"/fonts/HackerNoonFont/font-hackernoon.css\"/><script>var _iub = _iub || [];\\n              _iub.csConfiguration = {\"enableCcpa\":true,\"countryDetection\":true,\"ccpaAcknowledgeOnDisplay\":true,\"lang\":\"en\",\"siteId\":1848357,\"gdprAppliesGlobally\":false,\"cookiePolicyId\":18778700, \"banner\":{ \"acceptButtonDisplay\":true,\"customizeButtonDisplay\":true,\"acceptButtonColor\":\"#00d500\",\"acceptButtonCaptionColor\":\"white\",\"customizeButtonColor\":\"#212121\",\"customizeButtonCaptionColor\":\"white\",\"rejectButtonColor\":\"#0073CE\",\"rejectButtonCaptionColor\":\"white\",\"position\":\"float-bottom-left\",\"textColor\":\"white\",\"backgroundColor\":\"#000001\" }};</script><script src=\"//cdn.iubenda.com/cs/iubenda_cs.js\" charSet=\"UTF-8\" async=\"\"></script><meta name=\"viewport\" content=\"width=device-width\"/><meta charSet=\"utf-8\"/><title>Top 9 Use Cases for Human Resources Automation | Hacker Noon</title><meta name=\"description\" content=\"RPA provides firms and their HR departments with a slew of distinct and quantifiable advantages. Some prominent use cases are discussed below:\"/><meta name=\"monetization\" content=\"$ilp.uphold.com/z7rXWqEwUBrf\"/><meta property=\"og:title\" content=\"Top 9 Use Cases for Human Resources Automation | Hacker Noon\"/><meta property=\"og:description\" content=\"RPA provides firms and their HR departments with a slew of distinct and quantifiable advantages. Some prominent use cases are discussed below:\"/><meta property=\"og:image\" content=\"https://cdn.hackernoon.com/images/JT8PoynXQmYP92waUX1nYlVf9Im1-26m341m.jpeg\"/><meta property=\"og:url\" content=\"https://hackernoon.com/top-9-use-cases-for-human-resources-automation-7xv35kn\"/><meta property=\"twitter:title\" content=\"Top 9 Use Cases for Human Resources Automation | Hacker Noon\"/><meta property=\"twitter:description\" content=\"RPA provides firms and their HR departments with a slew of distinct and quantifiable advantages. Some prominent use cases are discussed below:\"/><meta property=\"twitter:image\" content=\"https://cdn.hackernoon.com/images/JT8PoynXQmYP92waUX1nYlVf9Im1-26m341m.jpeg\"/><meta name=\"twitter:card\" content=\"summary_large_image\"/><meta name=\"twitter:site\" content=\"@hackernoon\"/><script src=\"https://platform-api.sharethis.com/js/sharethis.js#property=5f035a1582708800123b415e&amp;product=inline-share-buttons\" async=\"\"></script><script type=\"application/ld+json\">{\"@context\":\"http://schema.org\",\"@type\":\"Article\",\"name\":\"Top 9 Use Cases for Human Resources Automation\",\"headline\":\"Top 9 Use Cases for Human Resources Automation\",\"author\":{\"@type\":\"Person\",\"name\":\"Maruti Techlabs \"},\"datePublished\":\"2021-06-02\",\"image\":\"https://cdn.hackernoon.com/images/JT8PoynXQmYP92waUX1nYlVf9Im1-26m341m.jpeg\",\"articleSection\":\"rpa-use-cases\",\"articleBody\":\"Robotic Process Automation (RPA) is a relatively recent technology that has fundamentally changed the way we think about routine and repetitive operations. Deloitte’s results confirmed that more than 74% of respondents are open to engaging with upcoming technologies in the near future, with almost 22% of them have already tried or implemented Robotic Process Automation. recent survey Human resources automation using RPA will allow organizations to automate transactional processes so that the HR team can focus on more strategic and meaningful responsibilities. It will enable redirection of time and resources on more productive activities such as giving face time to your employees or conflict resolution. Human Resources Automation using RPA RPA in HR operations focuses on micro-tasks, allowing it to integrate all of the processes and programs that the old systems were unable to handle effectively. This is done by running a software code that performs repetitive and high-volume operational activities on behalf of the HR work staff. The operations that it covers range from hiring new employees, processing payroll, and evaluating benefits to creating compliance reports that are all very time-consuming and labor-intensive. RPA adds accuracy and speed to data processing and can be instrumental in cutting down HR-related costs. The benefits of RPA in HR can revolutionize the industry by enhancing work efficiency and improving ROIs. 9 Real World Use Cases of Human Resources Automation RPA provides firms and their HR departments with a slew of distinct and quantifiable advantages. Some prominent use cases are discussed below: 1. CV Screening and Shortlisting One significant HR activity constitutes screening resumes and applications received for open positions. The RPA technology makes this process considerably easier by quickly consolidating applications and comparing all of the data to a list of predefined job criteria. These requirements may be viewed as predetermined guidelines that influence the whole selection process. The technology also helps with eliminating the need for redundant paperwork by using a database that stores all the potential employees’ profiles. It also automates the communication process by notifying candidates of their interview results. 2. Simplifying Onboarding Employee onboarding is another tedious task requiring simultaneous efforts of multiple people for approvals, sign-off, access rights, account creation, etc. Here, RPA for human resources automation can be used to activate a specific template for a user account’s onboarding workflow. RPA may be utilized to expedite the whole onboarding operation. Software robots may then make rule-based decisions like which onboarding materials to transmit, which credentials to issue to the new employee, and so on. HR automation best practices help in: Reducing onboarding process cost Increasing onboarding speed and efficiency Eliminating manual errors in the onboarding process, thereby increasing accuracy. 3. Employee Data Management One of the critical areas under HR job functionality is employee data management. Maintaining this database requires organized and consistent activities across databases and data formats, ranging from payroll and employee perks and benefits to company rules and regulations. Human resources automation can be leveraged to make jobs like personnel administration much easier to perform, lowering the risk of inaccurate data entry to a bare minimum. RPA additionally performs data cleaning operations regularly to maintain data consistency across numerous databases. 4. Payroll Processing It is no surprise that processing payments are among the most crucial tasks undertaken by the HR department. Unfortunately, it is a very mundane and repetitive task requiring a large amount of data entry regularly and is highly prone to manual errors. Human resources automation can streamline the payroll process by collecting and linking data from numerous systems and databases such as employee management, general ledger, accounts payable, time tracker, etc. They help in employee work-hours verification and create automated reports on the number of working hours registered, overtime, leave, timeouts, missing hours, etc. 5. Tracking Attendance By cross-checking self-reports against time documented in the business record and reporting any inconsistencies to HR management, RPA-based software robots can make attendance monitoring easier. Furthermore, bots might suggest reallocating various labor resources in the event of significant absenteeism, assisting the HR department in avoiding workflow interruptions. 6. Expense Management One of the most tedious and time-consuming tasks of HR managers is to keep track of travel, food, and other such expenditures. The task becomes even more grueling when dealing with missing receipts, late expense submissions, unforeseen expenses, unauthorized spending, etc. Using an RPA system for expenditure management helps businesses extract all of the necessary information from cost receipts automatically, thereby saving time. This also eliminates the need for them to carry around expenditure receipts because they can take photographs of them, and RPA will automatically retrieve all essential data. 7. Calculation of Shift Allowance Shift allowances are calculated through employee in-and-out swipe data stored in various HR backend systems. This data is used to generate shift allowance. Because of the vast datasets, this is an entirely manual procedure that takes a long time and has a significant risk of mistakes. RPA bots read and validate data from several backend systems automatically. Furthermore, the bots can perform this regularly, resulting in on-time allowance clearance and reduced manual efforts, and average handling time with zero mistakes. 8. Performance Management RPA can effectively handle employee performance management by reviewing and analyzing employee’s goal settings, expectations, incentives, and reward calculations. It helps the HR department keep the organization’s productivity consistently high, removes extra manual effort, and reduces employee evaluation chances. 9. Employee Exit Management While exiting an organization, several HR duties must be completed, including the preparation of leave documentation, the revocation of system access, and the full and final settlement. Any scope of error left here can result in several audit flags. RPA in HR may be pretty valuable in implementing a more efficient and well-organized off-boarding process. This is done by pre-determination of all the tasks involved in the exit process. The software extracts all the essential details from the various backend systems and sends emails to all the relevant departments for the next steps. Concluding Thoughts The scope and are continuously growing, and it is no longer restricted to certain aspects of a business. Human resources automation leads to increased accuracy, considerable labor savings, and faster processing times, resulting in happier workers and customers. RoI of RPA\"}</script><meta name=\"next-head-count\" content=\"16\"/><noscript data-n-css=\"\"></noscript><link rel=\"preload\" href=\"/_next/static/chunks/webpack-e480fcbd8374e4f3e253.js\" as=\"script\"/><link rel=\"preload\" href=\"/_next/static/chunks/framework.1abeba43b6b34bf37f97.js\" as=\"script\"/><link rel=\"preload\" href=\"/_next/static/chunks/commons.81a31809d5c26f56951e.js\" as=\"script\"/><link rel=\"preload\" href=\"/_next/static/chunks/d0878c3ec4ef78de959b521400569ebfadfc8839.467cdada6226a92bd374.js\" as=\"script\"/><link rel=\"preload\" href=\"/_next/static/chunks/main-89c0bd11d2d7575698f3.js\" as=\"script\"/><link rel=\"preload\" href=\"/_next/static/chunks/484bcb1e.d47b6ec735ccc340f838.js\" as=\"script\"/><link rel=\"preload\" href=\"/_next/static/chunks/ff239f9d.9ac8349135f0b00c4e83.js\" as=\"script\"/><link rel=\"preload\" href=\"/_next/static/chunks/5e95f259d0ab9931cfe6cd49a9d7d2bb9a550f9f.da7fc3adf22e513a328b.js\" as=\"script\"/><link rel=\"preload\" href=\"/_next/static/chunks/b9dd6d35ce8e0b7ad3e8165d02bd6f44c6c14c21.3439c48f1226a685dcbd.js\" as=\"script\"/><link rel=\"preload\" href=\"/_next/static/chunks/f7dbb9c9481a9274d80a789401a811f717a9a087.e3161c1d88265558933e.js\" as=\"script\"/><link rel=\"preload\" href=\"/_next/static/chunks/pages/_app-0f6a69d3bd8f7c125405.js\" as=\"script\"/><link rel=\"preload\" href=\"/_next/static/chunks/75fc9c18.80deb01cf3fb6596151f.js\" as=\"script\"/><link rel=\"preload\" href=\"/_next/static/chunks/0f1ac474.424891774248987d0493.js\" as=\"script\"/><link rel=\"preload\" href=\"/_next/static/chunks/dd7572af9309768534fbfff4b75cb2767fb58ff4.5ca2f06374242ab4125e.js\" as=\"script\"/><link rel=\"preload\" href=\"/_next/static/chunks/0f00930341e3e3a1d3abb5b622e604e03f23a281.1228152102b7a41c92e9.js\" as=\"script\"/><link rel=\"preload\" href=\"/_next/static/chunks/7b0c3bf41eaace59a68b31a2818018362f812381.c9b8d2fec8c5a2b4171a.js\" as=\"script\"/><link rel=\"preload\" href=\"/_next/static/chunks/4dacb214b8fa362e0b1b0d8fda72c57205adcc11.c44d2854aba5d0b7247a.js\" as=\"script\"/><link rel=\"preload\" href=\"/_next/static/chunks/0d504def4949421c09d54a3f2f526e2647138e59.6a02093719e8f12e51f5.js\" as=\"script\"/><link rel=\"preload\" href=\"/_next/static/chunks/d70c7d513bd0ca311e4052f9bb82482e10009741.169b15f0b95a87a698b5.js\" as=\"script\"/><link rel=\"preload\" href=\"/_next/static/chunks/a275ceac2bfe25899ff865253c978ba4738aede0.d511f740c29f35c26156.js\" as=\"script\"/><link rel=\"preload\" href=\"/_next/static/chunks/90be9110614fb878c5f31fc279ea1b447b8bc922.257aaffb627013f6859c.js\" as=\"script\"/><link rel=\"preload\" href=\"/_next/static/chunks/pages/%5Bslug%5D-297c8288021f866d90b5.js\" as=\"script\"/><style data-styled=\"\" data-styled-version=\"5.1.0\">.jNYqFz{display:none;position:absolute;bottom:0;left:10%;right:10%;-webkit-transform:translateY(100%);-ms-transform:translateY(100%);transform:translateY(100%);background:#020;color:#0f0;font-family:\"IBM Plex Mono\",monospace;-webkit-text-decoration:none;text-decoration:none;font-weight:bold;padding:40px;z-index:9999;-webkit-box-pack:center;-webkit-justify-content:center;-ms-flex-pack:center;justify-content:center;-webkit-align-items:center;-webkit-box-align:center;-ms-flex-align:center;align-items:center;max-height:calc(100vh - 100px);overflow-x:auto;}/*!sc*/\\n.jNYqFz.active{display:-webkit-box;display:-webkit-flex;display:-ms-flexbox;display:flex;}/*!sc*/\\n.jNYqFz .section{display:none;margin:0 15px;}/*!sc*/\\n.jNYqFz .section.active{display:-webkit-box;display:-webkit-flex;display:-ms-flexbox;display:flex;}/*!sc*/\\n.jNYqFz section{display:-webkit-box;display:-webkit-flex;display:-ms-flexbox;display:flex;margin:0 15px;}/*!sc*/\\n.jNYqFz .line{position:absolute;top:50%;right:0;height:2px;width:10px;background:#0f0;-webkit-transform:translateY(-50%);-ms-transform:translateY(-50%);transform:translateY(-50%);}/*!sc*/\\n.jNYqFz header{display:-webkit-box;display:-webkit-flex;display:-ms-flexbox;display:flex;-webkit-box-pack:center;-webkit-justify-content:center;-ms-flex-pack:center;justify-content:center;-webkit-align-items:center;-webkit-box-align:center;-ms-flex-align:center;align-items:center;padding-right:25px;border-right:2px solid #0f0;font-size:20px;position:relative;}/*!sc*/\\n.jNYqFz header:before{content:\"\";position:absolute;bottom:0;right:0;height:2px;width:10px;background:#0f0;-webkit-transform:translateX(100%);-ms-transform:translateX(100%);transform:translateX(100%);}/*!sc*/\\n.jNYqFz header:after{content:\"\";position:absolute;top:0;right:0;height:2px;width:10px;background:#0f0;-webkit-transform:translateX(100%);-ms-transform:translateX(100%);transform:translateX(100%);}/*!sc*/\\n.jNYqFz header a{font-size:20px;margin:0;}/*!sc*/\\n.jNYqFz ul{padding:10px 0 10px 5px;white-space:nowrap;display:-webkit-box;display:-webkit-flex;display:-ms-flexbox;display:flex;-webkit-flex-direction:column;-ms-flex-direction:column;flex-direction:column;-webkit-box-pack:center;-webkit-justify-content:center;-ms-flex-pack:center;justify-content:center;}/*!sc*/\\n.jNYqFz ul li{padding:0 !important;max-width:300px;display:-webkit-box;display:-webkit-flex;display:-ms-flexbox;display:flex;}/*!sc*/\\n.jNYqFz li a{padding:5px 15px;overflow-wrap:break-word;white-space:normal;}/*!sc*/\\ndata-styled.g1[id=\"DropdownNav__Layout-lhyy45-0\"]{content:\"jNYqFz,\"}/*!sc*/\\n.eHbrSf{display:none;background:#020;-webkit-transform:translateX(100%);-ms-transform:translateX(100%);transform:translateX(100%);height:100vh;position:absolute;top:60px;right:0;-webkit-transition:-webkit-transform 0.2s ease-in-out;-webkit-transition:transform 0.2s ease-in-out;transition:transform 0.2s ease-in-out;touch-action:auto;overflow-y:scroll;}/*!sc*/\\n@media (max-width:869px){.eHbrSf{width:100%;}}/*!sc*/\\n.eHbrSf section{margin-bottom:20px;}/*!sc*/\\n.eHbrSf header{display:-webkit-box;display:-webkit-flex;display:-ms-flexbox;display:flex;-webkit-box-pack:justify;-webkit-justify-content:space-between;-ms-flex-pack:justify;justify-content:space-between;font-size:1.8rem;position:relative;}/*!sc*/\\n.eHbrSf header button{color:#0f0;padding:0 22px;font-size:2rem;background-color:transparent;border:0;}/*!sc*/\\n.eHbrSf ul{list-style:none;display:-webkit-box;display:-webkit-flex;display:-ms-flexbox;display:flex;padding:0;margin:0;width:100%;-webkit-flex-direction:column;-ms-flex-direction:column;flex-direction:column;}/*!sc*/\\n.eHbrSf ul li{border-bottom:1px solid #0f0;}/*!sc*/\\n.eHbrSf ul li:first-child a{color:white;}/*!sc*/\\n.eHbrSf a{color:#0f0;display:block;padding:20px 10px;white-space:normal;}/*!sc*/\\n.eHbrSf a:focus{text-shadow:2px 2px 0 #0b0;}/*!sc*/\\ndata-styled.g2[id=\"NestedMobileNav__Layout-sc-1t0a8oo-0\"]{content:\"eHbrSf,\"}/*!sc*/\\n.hErJxS li{display:grid;grid-template-columns:1fr auto;}/*!sc*/\\n.hErJxS li > button{color:#0f0;padding:0 22px;font-size:2rem;background-color:transparent;border:0;}/*!sc*/\\n.gxAheh li{display:grid;grid-template-columns:1fr;}/*!sc*/\\n.gxAheh li > button{color:#0f0;padding:0 22px;font-size:2rem;background-color:transparent;border:0;}/*!sc*/\\ndata-styled.g3[id=\"LinksList__Layout-j3vs07-0\"]{content:\"hErJxS,gxAheh,\"}/*!sc*/\\n.iIPKKj{background-color:#003b00;-webkit-box-pack:center;-webkit-justify-content:center;-ms-flex-pack:center;justify-content:center;font-family:\\'IBM Plex Mono\\',monospace;font-weight:bold;font-size:1.4rem;display:none;position:relative;}/*!sc*/\\n@media screen and (min-width:870px){.iIPKKj{display:-webkit-box;display:-webkit-flex;display:-ms-flexbox;display:flex;}}/*!sc*/\\n.iIPKKj ul{list-style:none;display:-webkit-box;display:-webkit-flex;display:-ms-flexbox;display:flex;padding:0;margin:0;}/*!sc*/\\n.iIPKKj ul li{padding:10px 15px;}/*!sc*/\\n.iIPKKj ul li.sponsor a{color:#f6f7f9;}/*!sc*/\\n.iIPKKj ul li:hover > div,.iIPKKj ul li > div:hover{display:-webkit-box;display:-webkit-flex;display:-ms-flexbox;display:flex;}/*!sc*/\\n.iIPKKj a{color:#0f0;}/*!sc*/\\n.iIPKKj a:focus{text-shadow:2px 2px 0 #0b0;}/*!sc*/\\ndata-styled.g4[id=\"SubNav__Layout-sc-1va6hiz-0\"]{content:\"iIPKKj,\"}/*!sc*/\\n.jmzeuS{position:absolute;left:0;right:0;height:45px;background-color:#fff;display:-webkit-box;display:-webkit-flex;display:-ms-flexbox;display:flex;-webkit-align-items:center;-webkit-box-align:center;-ms-flex-align:center;align-items:center;-webkit-box-pack:justify;-webkit-justify-content:space-between;-ms-flex-pack:justify;justify-content:space-between;z-index:99;box-shadow:0 0 15px rgba(0,0,0,0.15);font-family:\"IBM Plex Mono\",monospace;-webkit-transform:translateY(-100%);-ms-transform:translateY(-100%);transform:translateY(-100%);-webkit-transition:all 200ms ease-in-out;transition:all 200ms ease-in-out;opacity:0;}/*!sc*/\\n.jmzeuS.hide{-webkit-transform:translateY(0);-ms-transform:translateY(0);transform:translateY(0);opacity:1;}/*!sc*/\\n.jmzeuS .icon{height:24px;margin-right:10px;}/*!sc*/\\n.jmzeuS a.profile{padding:0;background-image:linear-gradient( transparent 0%,transparent calc(50% - 9px),rgba(0,255,0,0.35) calc(50% - 9px),rgba(0,255,0,0.35) 100% );-webkit-transition:background-position 120ms ease-in-out,padding 120ms ease-in-out;transition:background-position 120ms ease-in-out,padding 120ms ease-in-out;background-size:100% 200%;background-position:0 0;word-break:break-word;margin-left:10px;}/*!sc*/\\n.jmzeuS a.profile:hover{background-image:linear-gradient( transparent 0%,transparent calc(50% - 9px),rgba(0,255,0,1) calc(50% - 9px),rgba(0,255,0,1) 100% );background-position:0 100%;}/*!sc*/\\n.jmzeuS .icon img{height:24px;}/*!sc*/\\n.jmzeuS .title{padding-left:10px;display:-webkit-box;display:-webkit-flex;display:-ms-flexbox;display:flex;-webkit-align-items:center;-webkit-box-align:center;-ms-flex-align:center;align-items:center;white-space:nowrap;overflow:hidden;font-size:16px;font-weight:bold;}/*!sc*/\\n.jmzeuS .st-last{display:inline-block !important;}/*!sc*/\\n.jmzeuS a.next{font-size:16px;border:2px solid #ccc;padding:1px 10px;}/*!sc*/\\n.jmzeuS .sharing{position:relative;padding-right:20px;white-space:nowrap;overflow:hidden;height:45px;display:-webkit-box;display:-webkit-flex;display:-ms-flexbox;display:flex;-webkit-align-items:center;-webkit-box-align:center;-ms-flex-align:center;align-items:center;}/*!sc*/\\n.jmzeuS .sharing .st-inline-share-buttons{display:-webkit-box !important;display:-webkit-flex !important;display:-ms-flexbox !important;display:flex !important;height:45px;-webkit-align-items:center;-webkit-box-align:center;-ms-flex-align:center;align-items:center;}/*!sc*/\\n.jmzeuS .sharing .st-btn{background-color:transparent !important;background-size:contain;background-repeat:no-repeat;background-position:center;height:20px !important;width:20px;margin:0 0 0 4px;padding:0 !important;border-radius:0 !important;}/*!sc*/\\n.jmzeuS .sharing .st-total{margin-right:7px;}/*!sc*/\\n.jmzeuS .sharing .st-btn[data-network=\"twitter\"]{background-image:url(/social-icons/twitter-new.png) !important;-webkit-transform:translateX(2px);-ms-transform:translateX(2px);transform:translateX(2px);}/*!sc*/\\n.jmzeuS .sharing .st-btn[data-network=\"facebook\"]{background-image:url(/social-icons/facebook-new.png) !important;}/*!sc*/\\n.jmzeuS .sharing .st-btn[data-network=\"linkedin\"]{background-image:url(/social-icons/linkedin-new.png) !important;}/*!sc*/\\n.jmzeuS .sharing .st-btn[data-network=\"email\"]{background-image:url(/social-icons/email-new.png) !important;-webkit-transform:translateY(3px);-ms-transform:translateY(3px);transform:translateY(3px);}/*!sc*/\\n.jmzeuS .sharing .st-btn img{display:none !important;}/*!sc*/\\n.jmzeuS .st-btn:hover{opacity:1 !important;top:0 !important;}/*!sc*/\\n@media screen and (max-width:1100px){.jmzeuS{min-height:80px;-webkit-flex-direction:column;-ms-flex-direction:column;flex-direction:column;-webkit-align-items:flex-start;-webkit-box-align:flex-start;-ms-flex-align:flex-start;align-items:flex-start;padding-top:10px;padding-right:10px;}.jmzeuS .title{overflow:hidden;width:100%;}.jmzeuS .sharing{width:100%;-webkit-box-pack:center;-webkit-justify-content:center;-ms-flex-pack:center;justify-content:center;}}/*!sc*/\\ndata-styled.g5[id=\"StoryNav__Layout-sc-12ttt65-0\"]{content:\"jmzeuS,\"}/*!sc*/\\n.kwOOJX{display:none;-webkit-flex-direction:column;-ms-flex-direction:column;flex-direction:column;-webkit-box-pack:center;-webkit-justify-content:center;-ms-flex-pack:center;justify-content:center;background:#003b00;-webkit-transform:translateX(100%);-ms-transform:translateX(100%);transform:translateX(100%);height:100vh;padding-top:60px;position:absolute;top:0;right:0;-webkit-transition:-webkit-transform 0.2s ease-in-out;-webkit-transition:transform 0.2s ease-in-out;transition:transform 0.2s ease-in-out;}/*!sc*/\\n@media (max-width:869px){.kwOOJX{width:100%;}}/*!sc*/\\n.kwOOJX a{color:#0f0;}/*!sc*/\\n.kwOOJX .profile,.kwOOJX .cta-button{z-index:10;position:absolute;top:10px;left:10px;}/*!sc*/\\n.kwOOJX .profile img{box-shadow:0 0.15em #0b0,0 -0.15em #0b0,0.15em 0 #0b0,-0.15em 0 #0b0;width:40px;}/*!sc*/\\ndata-styled.g8[id=\"Menu__Layout-sc-4oc915-0\"]{content:\"kwOOJX,\"}/*!sc*/\\n.iiQQHc{background-color:#003b00;-webkit-box-pack:center;-webkit-justify-content:center;-ms-flex-pack:center;justify-content:center;font-family:\\'IBM Plex Mono\\',monospace;font-weight:bold;font-size:1.4rem;display:-webkit-box;display:-webkit-flex;display:-ms-flexbox;display:flex;touch-action:auto;overflow-y:scroll;}/*!sc*/\\n@media screen and (min-width:870px){.iiQQHc{display:none;}}/*!sc*/\\n.iiQQHc ul{list-style:none;display:-webkit-box;display:-webkit-flex;display:-ms-flexbox;display:flex;padding:0;margin:0;width:100%;-webkit-flex-direction:column;-ms-flex-direction:column;flex-direction:column;}/*!sc*/\\n.iiQQHc ul li{border-bottom:1px solid #0f0;}/*!sc*/\\n.iiQQHc ul li:first-child a{color:#f6f7f9;}/*!sc*/\\n.iiQQHc a{color:#0f0;display:block;padding:20px 10px;}/*!sc*/\\n.iiQQHc a:focus{text-shadow:2px 2px 0 #0b0;}/*!sc*/\\ndata-styled.g9[id=\"Menu__MobileTagNavLayout-sc-4oc915-1\"]{content:\"iiQQHc,\"}/*!sc*/\\n.dTzENj{display:-webkit-box;display:-webkit-flex;display:-ms-flexbox;display:flex;-webkit-box-pack:center;-webkit-justify-content:center;-ms-flex-pack:center;justify-content:center;-webkit-align-items:center;-webkit-box-align:center;-ms-flex-align:center;align-items:center;width:60px;height:60px;background:transparent;border:none;cursor:pointer;padding:0;z-index:10;font-size:3rem;}/*!sc*/\\n.dTzENj i{color:#003b00;z-index:1;}/*!sc*/\\ndata-styled.g10[id=\"Burger__Layout-sc-10d1lcj-0\"]{content:\"dTzENj,\"}/*!sc*/\\n.heQsGx{z-index:101;}/*!sc*/\\n@media screen and (min-width:870px){.heQsGx{display:none;}}/*!sc*/\\ndata-styled.g11[id=\"MobileMenu__Layout-sc-1fdxtq8-0\"]{content:\"heQsGx,\"}/*!sc*/\\n.efUaPu{background-color:#212428;color:#0f0;border:2px solid #212428;border-radius:2px;font-size:1.6rem;font-weight:600;padding:0.6rem 1.2rem;display:inline-block;cursor:pointer;display:-webkit-box;display:-webkit-flex;display:-ms-flexbox;display:flex;-webkit-align-items:center;-webkit-box-align:center;-ms-flex-align:center;align-items:center;-webkit-box-pack:center;-webkit-justify-content:center;-ms-flex-pack:center;justify-content:center;position:relative;outline:none;line-height:1.3;}/*!sc*/\\n.efUaPu svg,.efUaPu i{font-size:1.6rem;}/*!sc*/\\n.efUaPu svg + span,.efUaPu i + span{margin-left:5px;margin-top:0;}/*!sc*/\\n.efUaPu:hover{background-color:#62ff86;background-image:linear-gradient( #d04b36 0%, #d04b36 16.6666%, #e36511 16.6666%, #e36511 33.333%, #ffba00 33.333%, #ffba00 50%, #00b180 50%, #00b180 66.6666%, #147aab 66.6666%, #147aab 83.3333%, #675997 83.3333%, #675997 100% );color:#212428;}/*!sc*/\\n.efUaPu:active{background-color:#0f0;border-color:#212428;color:#212428;}/*!sc*/\\n.efUaPu:active,.efUaPu:focus{outline:none;}/*!sc*/\\n.efUaPu[disabled]{opacity:0.75;cursor:not-allowed;background-color:transparent;}/*!sc*/\\n.efUaPu[disabled]:hover{box-shadow:none;}/*!sc*/\\n.efUaPu.newsletter-form-button{color:#0f0;background-color:#212428;margin-bottom:0;margin-top:10px;border:4px solid #d5d5d5;cursor:pointer;min-width:151px;height:38px;font-size:16px;line-height:21px;font-weight:normal;border-radius:0;}/*!sc*/\\n@media (min-width:576px){.efUaPu.newsletter-form-button{margin-top:0;}}/*!sc*/\\n.efUaPu.newsletter-form-button:hover{background-color:#3c3c3b;}/*!sc*/\\ndata-styled.g12[id=\"Button-ugfqup-0\"]{content:\"efUaPu,\"}/*!sc*/\\n.spuRJ{position:-webkit-sticky;position:sticky;top:0;z-index:5;-webkit-transition:-webkit-transform 200ms ease-in-out;-webkit-transition:transform 200ms ease-in-out;transition:transform 200ms ease-in-out;-webkit-transform:translateY(0);-ms-transform:translateY(0);transform:translateY(0);}/*!sc*/\\n@media screen and (min-width:870px){.spuRJ{-webkit-transform:translateY(0);-ms-transform:translateY(0);transform:translateY(0);}}/*!sc*/\\n.spuRJ .mainNav{background-color:#0f0;background-image:linear-gradient( #d04b36 0%, #d04b36 16.6666%, #e36511 16.6666%, #e36511 33.333%, #ffba00 33.333%, #ffba00 50%, #00b180 50%, #00b180 66.6666%, #147aab 66.6666%, #147aab 83.3333%, #675997 83.3333%, #675997 100% );display:-webkit-box;display:-webkit-flex;display:-ms-flexbox;display:flex;-webkit-align-items:center;-webkit-box-align:center;-ms-flex-align:center;align-items:center;}/*!sc*/\\n.spuRJ .mainNav .logo{display:-webkit-box;display:-webkit-flex;display:-ms-flexbox;display:flex;margin:10px auto 10px 20px;}/*!sc*/\\n.spuRJ .mainNav .logo img{image-rendering:pixelated;}/*!sc*/\\n.spuRJ .mainNav .logo + form + div,.spuRJ .mainNav > .profile,.spuRJ .mainNav > .cta-button{display:none;margin-right:1rem;}/*!sc*/\\n@media screen and (min-width:870px){.spuRJ .mainNav .logo + form + div,.spuRJ .mainNav > .profile,.spuRJ .mainNav > .cta-button{display:-webkit-box;display:-webkit-flex;display:-ms-flexbox;display:flex;}}/*!sc*/\\n.spuRJ .mainNav .search-container{position:relative;margin-right:1rem;}/*!sc*/\\n.spuRJ .mainNav .search-container input{background:#212428;border:none;padding:10px 20px 10px 10px;border-radius:2px;font-size:1.6rem;font-weight:bold;-webkit-transition:all 120ms ease-in-out;transition:all 120ms ease-in-out;outline-color:#0b0;color:#0f0;}/*!sc*/\\n.spuRJ .mainNav .search-container input::-webkit-input-placeholder{color:#0b0;}/*!sc*/\\n.spuRJ .mainNav .search-container input::-moz-placeholder{color:#0b0;}/*!sc*/\\n.spuRJ .mainNav .search-container input:-ms-input-placeholder{color:#0b0;}/*!sc*/\\n.spuRJ .mainNav .search-container input::placeholder{color:#0b0;}/*!sc*/\\n.spuRJ .mainNav .search-container.active input{max-width:200px;width:100%;outline-color:#0f0;}/*!sc*/\\n@media screen and (min-width:870px){.spuRJ .mainNav .search-container.active input{max-width:250px;}}/*!sc*/\\n.spuRJ .mainNav .search-container img{position:absolute;top:50%;right:10px;width:19px;-webkit-transform:translate(0,-50%);-ms-transform:translate(0,-50%);transform:translate(0,-50%);cursor:pointer;}/*!sc*/\\n.spuRJ .mainNav > a:not(.logo):not(.cta-button):not(.profile){padding:0 10px;color:#003b00;display:-webkit-box;display:-webkit-flex;display:-ms-flexbox;display:flex;}/*!sc*/\\n.spuRJ .mainNav .profile .profileImage{max-height:40px;display:block;box-shadow:0 0.15em #212428,0 -0.15em #212428,0.15em 0 #212428,-0.15em 0 #212428;}/*!sc*/\\n.spuRJ .mainNav .profile .profileImage:hover,.spuRJ .mainNav .profile .profileImage:focus{box-shadow:0 0.15em #003b00,0 -0.15em #003b00,0.15em 0 #003b00,-0.15em 0 #003b00;}/*!sc*/\\n.spuRJ .mainNav > a > img{max-height:40px;}/*!sc*/\\n.spuRJ .mainNav > a > img.desktop{display:none;}/*!sc*/\\n@media screen and (min-width:870px){.spuRJ .mainNav > a > img.desktop{display:block;}.spuRJ .mainNav > a > img.mobile{display:none;}}/*!sc*/\\n.spuRJ .react-loading-skeleton{position:relative;top:-7px;}/*!sc*/\\ndata-styled.g14[id=\"Header__Layout-le0go0-0\"]{content:\"spuRJ,\"}/*!sc*/\\n.fQfsFn{margin-left:1rem;margin-right:1rem;display:-webkit-box;display:-webkit-flex;display:-ms-flexbox;display:flex;-webkit-align-items:stretch;-webkit-box-align:stretch;-ms-flex-align:stretch;align-items:stretch;}/*!sc*/\\n.fQfsFn > a{font-family:\\'IBM Plex Mono\\',monospace;}/*!sc*/\\n@media screen and (max-width:700px){.fQfsFn{display:none;}}/*!sc*/\\n.fQfsFn > *{margin-left:10px;}/*!sc*/\\ndata-styled.g15[id=\"Header__AuthButtons-le0go0-1\"]{content:\"fQfsFn,\"}/*!sc*/\\n.ejwIzg{display:-webkit-box;display:-webkit-flex;display:-ms-flexbox;display:flex;}/*!sc*/\\n.ejwIzg > *{background:none;display:-webkit-box;display:-webkit-flex;display:-ms-flexbox;display:flex;-webkit-align-items:flex-end;-webkit-box-align:flex-end;-ms-flex-align:flex-end;align-items:flex-end;margin-left:15px;}/*!sc*/\\n.ejwIzg > * .email-icon{position:relative;top:2px;}/*!sc*/\\n.ejwIzg img{max-width:24px;image-rendering:pixelated;}/*!sc*/\\ndata-styled.g16[id=\"SocialLinks-sc-1bbo2b4-0\"]{content:\"ejwIzg,\"}/*!sc*/\\n.dcgsMq{display:-webkit-box;display:-webkit-flex;display:-ms-flexbox;display:flex;-webkit-flex-wrap:wrap;-ms-flex-wrap:wrap;flex-wrap:wrap;}/*!sc*/\\n.dcgsMq > *{background:none;display:-webkit-box;display:-webkit-flex;display:-ms-flexbox;display:flex;-webkit-align-items:flex-end;-webkit-box-align:flex-end;-ms-flex-align:flex-end;align-items:flex-end;margin-left:15px;}/*!sc*/\\n.dcgsMq > * .email-icon{position:relative;top:2px;}/*!sc*/\\n.dcgsMq img{max-width:24px;image-rendering:pixelated;}/*!sc*/\\n.dcgsMq > *{margin-left:0 !important;margin-right:10px;}/*!sc*/\\ndata-styled.g17[id=\"Follow__Layout-sc-12l5d2g-0\"]{content:\"dcgsMq,\"}/*!sc*/\\n.bbTsEM{display:grid;grid-gap:20px;width:100%;}/*!sc*/\\n.bbTsEM h2{margin-bottom:0;}/*!sc*/\\n.bbTsEM h2:first-child{margin-top:0;}/*!sc*/\\n.bbTsEM fieldset{border:0;padding:0;margin:0;}/*!sc*/\\n.bbTsEM fieldset[disabled]{opacity:0.5;}/*!sc*/\\n.bbTsEM input:not([type=\"checkbox\"]),.bbTsEM textarea,.bbTsEM select{width:100%;padding:0.5rem;font-size:1.8rem;border-radius:2px;padding:0.8rem;border:2px solid transparent;background-color:#f6f7f9;}/*!sc*/\\n.bbTsEM input:not([type=\"checkbox\"])::-webkit-input-placeholder,.bbTsEM textarea::-webkit-input-placeholder,.bbTsEM select::-webkit-input-placeholder{color:#8595ad;}/*!sc*/\\n.bbTsEM input:not([type=\"checkbox\"])::-moz-placeholder,.bbTsEM textarea::-moz-placeholder,.bbTsEM select::-moz-placeholder{color:#8595ad;}/*!sc*/\\n.bbTsEM input:not([type=\"checkbox\"]):-ms-input-placeholder,.bbTsEM textarea:-ms-input-placeholder,.bbTsEM select:-ms-input-placeholder{color:#8595ad;}/*!sc*/\\n.bbTsEM input:not([type=\"checkbox\"])::placeholder,.bbTsEM textarea::placeholder,.bbTsEM select::placeholder{color:#8595ad;}/*!sc*/\\n.bbTsEM input:not([type=\"checkbox\"]):hover,.bbTsEM textarea:hover,.bbTsEM select:hover{box-shadow:0px 2px 3px 0 rgba(0,0,0,0.1);}/*!sc*/\\n.bbTsEM input:not([type=\"checkbox\"]):focus,.bbTsEM textarea:focus,.bbTsEM select:focus{outline:0;border-color:#c2cad6;box-shadow:0px 2px 3px 0 rgba(0,0,0,0.1);}/*!sc*/\\n.bbTsEM .react-select input,.bbTsEM .react-select input:hover,.bbTsEM .react-select input:focus{border:0;box-shadow:none;}/*!sc*/\\n.bbTsEM label{font-size:1.2rem;margin-bottom:10px;display:inline-block;}/*!sc*/\\n.bbTsEM .inline{display:-webkit-box;display:-webkit-flex;display:-ms-flexbox;display:flex;-webkit-align-items:center;-webkit-box-align:center;-ms-flex-align:center;align-items:center;}/*!sc*/\\n.bbTsEM .inline > *{margin:0 10px 0 0;cursor:pointer;}/*!sc*/\\n.bbTsEM .inline label{font-size:1.4rem;}/*!sc*/\\n.bbTsEM span{font-size:1.6rem;display:block;min-height:20px;}/*!sc*/\\n.bbTsEM footer{display:-webkit-box;display:-webkit-flex;display:-ms-flexbox;display:flex;-webkit-align-items:center;-webkit-box-align:center;-ms-flex-align:center;align-items:center;-webkit-box-pack:justify;-webkit-justify-content:space-between;-ms-flex-pack:justify;justify-content:space-between;}/*!sc*/\\n.bbTsEM.newsletter-form{color:#ffffff;display:-webkit-box;display:-webkit-flex;display:-ms-flexbox;display:flex;-webkit-flex-direction:column;-ms-flex-direction:column;flex-direction:column;grid-gap:0;text-align:center;}/*!sc*/\\n@media (min-width:768px){.bbTsEM.newsletter-form{text-align:left;width:auto;}}/*!sc*/\\n.bbTsEM.newsletter-form h2{margin:0;font-family:\"HackerNoon\",sans-serif;color:#00ff00;font-size:16px;}/*!sc*/\\n@media (min-width:576px){.bbTsEM.newsletter-form h2{font-size:24px;line-height:25px;}}/*!sc*/\\n.bbTsEM.newsletter-form p{margin-top:17px;font-size:12px;line-height:16px;font-style:italic;color:#ffffff;}/*!sc*/\\n.bbTsEM.newsletter-form label{margin-bottom:0;}/*!sc*/\\n.bbTsEM.newsletter-form .newsletter-form-input{background:#003b00;border:1px solid #d5d5d5;padding:8px 10px;border-radius:0;font-size:16px;font-weight:bold;-webkit-transition:all 120ms ease-in-out;transition:all 120ms ease-in-out;outline:none;color:#e5e5e5;width:100%;height:38px;text-align:center;}/*!sc*/\\n@media (min-width:576px){.bbTsEM.newsletter-form .newsletter-form-input{width:304px;}}/*!sc*/\\n@media (min-width:768px){.bbTsEM.newsletter-form .newsletter-form-input{text-align:left;}}/*!sc*/\\ndata-styled.g18[id=\"Form-nn4gmb-0\"]{content:\"bbTsEM,\"}/*!sc*/\\n.kajqce{width:100%;padding:0.5rem;font-size:1.8rem;border-radius:2px;padding:0.8rem;border:2px solid transparent;background-color:#f6f7f9;}/*!sc*/\\n.kajqce::-webkit-input-placeholder{color:#c2cad6;}/*!sc*/\\n.kajqce::-moz-placeholder{color:#c2cad6;}/*!sc*/\\n.kajqce:-ms-input-placeholder{color:#c2cad6;}/*!sc*/\\n.kajqce::placeholder{color:#c2cad6;}/*!sc*/\\n.kajqce:hover{box-shadow:0px 2px 3px 0 rgba(0,0,0,0.1);}/*!sc*/\\n.kajqce:focus{outline:0;border-color:#c2cad6;box-shadow:0px 2px 3px 0 rgba(0,0,0,0.1);}/*!sc*/\\ndata-styled.g19[id=\"Form__Input-nn4gmb-1\"]{content:\"kajqce,\"}/*!sc*/\\n.dSDdGT{display:-webkit-box;display:-webkit-flex;display:-ms-flexbox;display:flex;-webkit-flex-direction:column;-ms-flex-direction:column;flex-direction:column;}/*!sc*/\\n@media (min-width:576px){.dSDdGT{-webkit-flex-direction:row;-ms-flex-direction:row;flex-direction:row;}}/*!sc*/\\ndata-styled.g21[id=\"SubscriptionForm__SubscriptionField-xmqark-0\"]{content:\"dSDdGT,\"}/*!sc*/\\n.iLaExz{color:#ffffff;font-size:9.5px !important;margin-top:10px;display:-webkit-box !important;display:-webkit-flex !important;display:-ms-flexbox !important;display:flex !important;-webkit-align-items:start;-webkit-box-align:start;-ms-flex-align:start;align-items:start;font-style:italic;font-weight:400;line-height:13px;text-align:left;}/*!sc*/\\n.iLaExz input{margin-right:10px;}/*!sc*/\\n@media (min-width:576px){.iLaExz input{-webkit-align-items:center;-webkit-box-align:center;-ms-flex-align:center;align-items:center;}}/*!sc*/\\ndata-styled.g22[id=\"SubscriptionForm__StyledRequiredField-xmqark-1\"]{content:\"iLaExz,\"}/*!sc*/\\n.dksVax{background-color:#3c3c3b;min-height:259px;display:-webkit-box;display:-webkit-flex;display:-ms-flexbox;display:flex;-webkit-align-items:center;-webkit-box-align:center;-ms-flex-align:center;align-items:center;-webkit-box-pack:center;-webkit-justify-content:center;-ms-flex-pack:center;justify-content:center;padding:20px 0;}/*!sc*/\\ndata-styled.g24[id=\"Footer__FooterLayout-sc-1n15wjs-0\"]{content:\"dksVax,\"}/*!sc*/\\n.dOxaqc{display:-webkit-box;display:-webkit-flex;display:-ms-flexbox;display:flex;font-family:\"IBM Plex Mono\",monospace;-webkit-flex-direction:column;-ms-flex-direction:column;flex-direction:column;}/*!sc*/\\n@media (min-width:1200px){.dOxaqc{-webkit-flex-direction:row;-ms-flex-direction:row;flex-direction:row;}}/*!sc*/\\ndata-styled.g25[id=\"Footer__FooterInner-sc-1n15wjs-1\"]{content:\"dOxaqc,\"}/*!sc*/\\n.dlFpUX{text-align:center;margin-top:40px;}/*!sc*/\\n@media (min-width:576px){.dlFpUX{-webkit-flex:0 0 50%;-ms-flex:0 0 50%;flex:0 0 50%;}}/*!sc*/\\n@media (min-width:768px){.dlFpUX{-webkit-flex:auto;-ms-flex:auto;flex:auto;text-align:left;margin:0 15px;}}/*!sc*/\\n@media (min-width:1200px){.dlFpUX{margin:0 10px;}}/*!sc*/\\n@media (min-width:1366px){.dlFpUX{margin:0 30px;}}/*!sc*/\\ndata-styled.g26[id=\"Footer__FooterItems-sc-1n15wjs-2\"]{content:\"dlFpUX,\"}/*!sc*/\\n.gDzbPH{font-family:\"HackerNoon\",sans-serif;margin:0;line-height:1;color:#00ff00;font-size:24px;line-height:25px;font-weight:400;}/*!sc*/\\ndata-styled.g27[id=\"Footer__FooterHeadings-sc-1n15wjs-3\"]{content:\"gDzbPH,\"}/*!sc*/\\n.iARieR{color:#ffffff;margin:10px 0 0;padding:0;line-height:20.8px;}/*!sc*/\\ndata-styled.g28[id=\"Footer__FooterList-sc-1n15wjs-4\"]{content:\"iARieR,\"}/*!sc*/\\n.cSPwMx{list-style:none;margin-top:3px;margin-bottom:3px;font-size:16px;color:#ffffff;}/*!sc*/\\ndata-styled.g29[id=\"Footer__FooterListItem-sc-1n15wjs-5\"]{content:\"cSPwMx,\"}/*!sc*/\\n.fdiECD{-webkit-text-decoration:none;text-decoration:none;padding-bottom:2px;color:inherit;font-size:inherit;line-height:21px;position:relative;}/*!sc*/\\n.fdiECD::before{content:\"\";display:block;position:absolute;bottom:0;left:0;right:0;width:0;height:2px;background-color:#00ff00;-webkit-transition:all 0.4s ease;transition:all 0.4s ease;}/*!sc*/\\n.fdiECD:hover::before{width:100%;}/*!sc*/\\ndata-styled.g30[id=\"Footer__FancyLink-sc-1n15wjs-6\"]{content:\"fdiECD,\"}/*!sc*/\\n.YpFFA{-webkit-order:2;-ms-flex-order:2;order:2;}/*!sc*/\\n@media (min-width:576px){.YpFFA{display:-webkit-box;display:-webkit-flex;display:-ms-flexbox;display:flex;-webkit-flex-wrap:wrap;-ms-flex-wrap:wrap;flex-wrap:wrap;}}/*!sc*/\\n@media (min-width:1200px){.YpFFA{-webkit-order:1;-ms-flex-order:1;order:1;-webkit-flex:0 0 56%;-ms-flex:0 0 56%;flex:0 0 56%;}}/*!sc*/\\n@media (min-width:1366px){.YpFFA{-webkit-flex:auto;-ms-flex:auto;flex:auto;}}/*!sc*/\\ndata-styled.g31[id=\"Footer__FooterGroups-sc-1n15wjs-7\"]{content:\"YpFFA,\"}/*!sc*/\\n.NOvpi{-webkit-order:1;-ms-flex-order:1;order:1;margin:0 15px;}/*!sc*/\\n@media (min-width:768px){.NOvpi{margin-bottom:20px;display:-webkit-box;display:-webkit-flex;display:-ms-flexbox;display:flex;-webkit-flex-direction:column;-ms-flex-direction:column;flex-direction:column;-webkit-align-items:center;-webkit-box-align:center;-ms-flex-align:center;align-items:center;}}/*!sc*/\\n@media (min-width:1200px){.NOvpi{-webkit-order:2;-ms-flex-order:2;order:2;-webkit-flex:0 0 44%;-ms-flex:0 0 44%;flex:0 0 44%;margin-bottom:0;}}/*!sc*/\\n@media (min-width:1366px){.NOvpi{margin-left:77px;margin-right:30px;-webkit-flex:auto;-ms-flex:auto;flex:auto;}}/*!sc*/\\ndata-styled.g32[id=\"Footer__FooterNewsletter-sc-1n15wjs-8\"]{content:\"NOvpi,\"}/*!sc*/\\n.ghbZqd{display:-webkit-box;display:-webkit-flex;display:-ms-flexbox;display:flex;-webkit-box-pack:center;-webkit-justify-content:center;-ms-flex-pack:center;justify-content:center;margin-top:25px;}/*!sc*/\\ndata-styled.g33[id=\"Footer__StyledFollow-sc-1n15wjs-9\"]{content:\"ghbZqd,\"}/*!sc*/\\n.goBpyq{min-height:100vh;display:-webkit-box;display:-webkit-flex;display:-ms-flexbox;display:flex;-webkit-flex-direction:column;-ms-flex-direction:column;flex-direction:column;width:100%;}/*!sc*/\\ndata-styled.g34[id=\"Page__Layout-hhevz5-0\"]{content:\"goBpyq,\"}/*!sc*/\\n.dzzaNg{-webkit-flex:1;-ms-flex:1;flex:1;display:-webkit-box;display:-webkit-flex;display:-ms-flexbox;display:flex;-webkit-box-pack:center;-webkit-justify-content:center;-ms-flex-pack:center;justify-content:center;-webkit-align-items:flex-start;-webkit-box-align:flex-start;-ms-flex-align:flex-start;align-items:flex-start;position:relative;}/*!sc*/\\n@media (max-width:480px){.dzzaNg{padding:1rem 2rem;}}/*!sc*/\\ndata-styled.g35[id=\"Page__Content-hhevz5-1\"]{content:\"dzzaNg,\"}/*!sc*/\\n.edxnaq{padding:2px 0 1px 0;cursor:pointer;background-image:linear-gradient( transparent 0%,transparent calc(50% - 9px),rgba(0,255,0,0.35) calc(50% - 9px),rgba(0,255,0,0.35) 100% );-webkit-transition:all 120ms ease-in-out;transition:all 120ms ease-in-out;background-size:100% 200%;background-position:0 0;word-break:break-word;}/*!sc*/\\n.edxnaq:hover{background-image:linear-gradient( transparent 0%,transparent calc(50% - 9px),#0f0 calc(50% - 9px),#0f0 100% );background-position:0 100%;}/*!sc*/\\n.edxnaq:focus{text-shadow:1px 1px 0 #0b0;}/*!sc*/\\ndata-styled.g37[id=\"Link-k8dxie-0\"]{content:\"edxnaq,\"}/*!sc*/\\n.hPgNlb{display:grid;grid-template-columns:75px 1fr;grid-gap:20px;-webkit-align-content:start;-ms-flex-line-pack:start;align-content:start;margin-bottom:20px;grid-column:1 / span 1 !important;grid-row:span 5;justify-items:start;-webkit-align-items:start;-webkit-box-align:start;-ms-flex-align:start;align-items:start;padding-right:10px;}/*!sc*/\\n@media screen and (max-width:768px){.hPgNlb{grid-gap:10px;}}/*!sc*/\\n@media screen and (min-width:768px){.hPgNlb{grid-template-columns:1fr;}}/*!sc*/\\n.hPgNlb + *{margin-top:0;}/*!sc*/\\n.hPgNlb + blockquote,.hPgNlb + .code-container{grid-column:2 / -2 !important;}/*!sc*/\\n.hPgNlb > a{display:-webkit-box;display:-webkit-flex;display:-ms-flexbox;display:flex;-webkit-align-items:flex-start;-webkit-box-align:flex-start;-ms-flex-align:flex-start;align-items:flex-start;background-color:white;}/*!sc*/\\n.hPgNlb > a > .profileImage{max-width:75px;object-fit:cover;box-shadow:0 0.2em #c2cad6,0 -0.2em #c2cad6,0.2em 0 #c2cad6,-0.2em 0 #c2cad6;}/*!sc*/\\n.hPgNlb h3{margin:0 0 2rem;font-size:1.8rem;}/*!sc*/\\n.hPgNlb h3 small{display:block;margin-top:0.5rem;}/*!sc*/\\n.hPgNlb p{font-size:1.6rem;font-style:italic;}/*!sc*/\\n.hPgNlb .superpeer-link{background:transparent;border:3px solid #212428;font-weight:900;font-size:14px;display:block;width:100%;text-align:center;padding:20px 0;margin-top:25px;font-family:\\'IBM Plex Mono\\',monospace;display:-webkit-box;display:-webkit-flex;display:-ms-flexbox;display:flex;-webkit-box-pack:center;-webkit-justify-content:center;-ms-flex-pack:center;justify-content:center;-webkit-align-items:center;-webkit-box-align:center;-ms-flex-align:center;align-items:center;-webkit-transition:all 120ms ease-in-out;transition:all 120ms ease-in-out;}/*!sc*/\\n.hPgNlb .superpeer-link i{font-size:34px;-webkit-transform:translateY(3px);-ms-transform:translateY(3px);transform:translateY(3px);line-height:1;margin-right:15px;}/*!sc*/\\n.hPgNlb .superpeer-link:hover{background:#0f0;}/*!sc*/\\n.hPgNlb .superpeer-link .book{font-size:16px;line-height:1.3;}/*!sc*/\\n.hPgNlb .superpeer-link .book .line{padding:2px 0 1px 0;cursor:pointer;background-image:linear-gradient( transparent 0%,transparent calc(50% - 9px),rgba(0,255,0,0.35) calc(50% - 9px),rgba(0,255,0,0.35) 100% );-webkit-transition:all 120ms ease-in-out;transition:all 120ms ease-in-out;background-size:100% 200%;background-position:0 0;word-break:break-word;}/*!sc*/\\ndata-styled.g38[id=\"Profile__Layout-sc-1j6ysg0-0\"]{content:\"hPgNlb,\"}/*!sc*/\\n.jBeNHn{padding:0;border:none;background:none;cursor:pointer;-webkit-transition:0.3s;transition:0.3s;top:5px;right:0;border:none;background:transparent;cursor:pointer;}/*!sc*/\\n.jBeNHn .__react_component_tooltip{pointer-events:auto !important;cursor:pointer;}/*!sc*/\\n.jBeNHn a{color:#f6f7f9;}/*!sc*/\\n.jBeNHn i.fa-bookmark{vertical-align:bottom;display:block;font-weight:300;color:#3c3c3b;}/*!sc*/\\n.jBeNHn i.fa-bookmark.bookmarked{font-weight:900;color:#1ecf57;}/*!sc*/\\n.jBeNHn.bookmarked .fa-bookmark{font-weight:900;color:#1ecf57;}/*!sc*/\\n.jBeNHn .__react_component_tooltip{pointer-events:auto !important;cursor:pointer;}/*!sc*/\\ndata-styled.g40[id=\"Bookmark__Layout-sc-9eyvkj-0\"]{content:\"jBeNHn,\"}/*!sc*/\\n@media screen and (min-width:768px){.iGFhHb{grid-column:3;}}/*!sc*/\\n.iGFhHb .reactions{display:-webkit-box;display:-webkit-flex;display:-ms-flexbox;display:flex;-webkit-align-items:center;-webkit-box-align:center;-ms-flex-align:center;align-items:center;}/*!sc*/\\n.iGFhHb .reactions label{font-family:\"IBM Plex Mono\",monospace;font-size:20px;font-weight:bold;line-height:20px;height:20px;margin-right:10px;}/*!sc*/\\n.iGFhHb .emojis{display:-webkit-box;display:-webkit-flex;display:-ms-flexbox;display:flex;-webkit-box-flex:1;-webkit-flex-grow:1;-ms-flex-positive:1;flex-grow:1;}/*!sc*/\\n.iGFhHb .emojis .emoji-container{display:-webkit-box;display:-webkit-flex;display:-ms-flexbox;display:flex;-webkit-box-pack:center;-webkit-justify-content:center;-ms-flex-pack:center;justify-content:center;-webkit-align-items:center;-webkit-box-align:center;-ms-flex-align:center;align-items:center;margin-right:7px;position:relative;}/*!sc*/\\n.iGFhHb .emojis .emoji{position:relative;}/*!sc*/\\n.iGFhHb .emojis .emoji-animation{position:absolute;-webkit-transform:translate(-50%,-50%) scale(0.2);-ms-transform:translate(-50%,-50%) scale(0.2);transform:translate(-50%,-50%) scale(0.2);opacity:0;}/*!sc*/\\n.iGFhHb .emojis .icon-1{-webkit-filter:grayscale(0);filter:grayscale(0);height:8px;top:5%;left:10%;}/*!sc*/\\n.iGFhHb .emojis .icon-1.float{-webkit-animation:float 1s linear 1;animation:float 1s linear 1;-webkit-animation-delay:100ms;animation-delay:100ms;}/*!sc*/\\n.iGFhHb .emojis .icon-2{-webkit-filter:grayscale(0);filter:grayscale(0);height:12px;top:35%;left:80%;}/*!sc*/\\n.iGFhHb .emojis .icon-2.float{-webkit-animation:float 1s linear 1;animation:float 1s linear 1;-webkit-animation-delay:100ms;animation-delay:100ms;}/*!sc*/\\n.iGFhHb .emojis .icon-3{-webkit-filter:grayscale(0);filter:grayscale(0);height:10px;top:75%;left:30%;}/*!sc*/\\n.iGFhHb .emojis .icon-3.float{-webkit-animation:float 1s linear 1;animation:float 1s linear 1;-webkit-animation-delay:100ms;animation-delay:100ms;}/*!sc*/\\n@-webkit-keyframes float{0%{-webkit-transform:translate(-50%,-50%) scale(0.2);-ms-transform:translate(-50%,-50%) scale(0.2);transform:translate(-50%,-50%) scale(0.2);opacity:0;}35%{-webkit-transform:translate(-50%,-30px) scale(1.5);-ms-transform:translate(-50%,-30px) scale(1.5);transform:translate(-50%,-30px) scale(1.5);opacity:1;}100%{-webkit-transform:translate(-50%,-45px) scale(2.75);-ms-transform:translate(-50%,-45px) scale(2.75);transform:translate(-50%,-45px) scale(2.75);opacity:0;}}/*!sc*/\\n@keyframes float{0%{-webkit-transform:translate(-50%,-50%) scale(0.2);-ms-transform:translate(-50%,-50%) scale(0.2);transform:translate(-50%,-50%) scale(0.2);opacity:0;}35%{-webkit-transform:translate(-50%,-30px) scale(1.5);-ms-transform:translate(-50%,-30px) scale(1.5);transform:translate(-50%,-30px) scale(1.5);opacity:1;}100%{-webkit-transform:translate(-50%,-45px) scale(2.75);-ms-transform:translate(-50%,-45px) scale(2.75);transform:translate(-50%,-45px) scale(2.75);opacity:0;}}/*!sc*/\\n.iGFhHb .emojis span{display:block;font-family:\"IBM Plex Mono\",monospace;font-size:16px;font-weight:bold;line-height:20px;height:20px;margin-right:3px;display:none;}/*!sc*/\\n.iGFhHb .emojis img{height:30px;-webkit-filter:grayscale(1);filter:grayscale(1);opacity:0.5;-webkit-transform:scale(1);-ms-transform:scale(1);transform:scale(1);-webkit-transition:all 120ms ease-in-out;transition:all 120ms ease-in-out;cursor:pointer;}/*!sc*/\\n.iGFhHb .emojis img:hover{-webkit-filter:grayscale(0);filter:grayscale(0);opacity:1;}/*!sc*/\\n.iGFhHb .emojis img.active{-webkit-filter:grayscale(0);filter:grayscale(0);opacity:1;-webkit-transform:scale(1.2);-ms-transform:scale(1.2);transform:scale(1.2);}/*!sc*/\\ndata-styled.g41[id=\"StoryReactions__Layout-sc-148l719-0\"]{content:\"iGFhHb,\"}/*!sc*/\\n.bUOwyd{font-size:1.4rem;text-align:center;color:#3c3c3b;-webkit-transition:color 200ms ease;transition:color 200ms ease;display:grid;grid-gap:20px;grid-column:1 / -1 !important;}/*!sc*/\\n@media screen and (min-width:768px){.bUOwyd{font-size:1.6rem;grid-template-columns:auto 1fr;}}/*!sc*/\\n.bUOwyd .bookmark{margin-left:auto;}/*!sc*/\\n.bUOwyd > div{display:-webkit-box;display:-webkit-flex;display:-ms-flexbox;display:flex;-webkit-align-items:center;-webkit-box-align:center;-ms-flex-align:center;align-items:center;-webkit-box-pack:end;-webkit-justify-content:flex-end;-ms-flex-pack:end;justify-content:flex-end;}/*!sc*/\\n.bUOwyd > div:first-child span{margin-left:10px;}/*!sc*/\\n.bUOwyd > div:first-child a{margin-left:15px;border-radius:2px;padding:2px 4px;position:relative;-webkit-align-self:baseline;-ms-flex-item-align:baseline;align-self:baseline;}/*!sc*/\\n.bUOwyd > div:first-child a.edit-story{border:2px solid #0f0;}/*!sc*/\\n.bUOwyd > div:first-child a.story-stats{border:2px solid #0f0;}/*!sc*/\\n.bUOwyd > div:first-child a.date{margin-left:0;padding:4px 0;}/*!sc*/\\n.bUOwyd > div:last-child{justify-self:end;}/*!sc*/\\n.bUOwyd small{margin-right:10px;}/*!sc*/\\n.bUOwyd .stat{background:#f6f7f9;color:#3c3c3b;padding:4px 10px;margin:0 10px;}/*!sc*/\\ndata-styled.g42[id=\"StoryMeta__Layout-sc-1z0kit8-0\"]{content:\"bUOwyd,\"}/*!sc*/\\n.jIvNCa{margin:2rem auto;max-width:550px;display:-webkit-box;display:-webkit-flex;display:-ms-flexbox;display:flex;font-size:1.2rem;font-weight:lighter;}/*!sc*/\\n.jIvNCa .avatar{margin-right:1rem;}/*!sc*/\\n.jIvNCa .avatar a > img{object-fit:cover;box-shadow:0 0.4em #8595ad,0 -0.4em #8595ad,0.4em 0 #8595ad,-0.4em 0 #8595ad;}/*!sc*/\\n.jIvNCa .author-info{display:-webkit-box;display:-webkit-flex;display:-ms-flexbox;display:flex;-webkit-flex-flow:column;-ms-flex-flow:column;flex-flow:column;-webkit-align-items:flex-start;-webkit-box-align:flex-start;-ms-flex-align:flex-start;align-items:flex-start;-webkit-flex-wrap:wrap;-ms-flex-wrap:wrap;flex-wrap:wrap;-webkit-transition:all 0.3s ease-in;transition:all 0.3s ease-in;width:100%;}/*!sc*/\\n.jIvNCa .author-info span:first-of-type{margin-bottom:auto;}/*!sc*/\\n.jIvNCa .handle{-webkit-text-decoration:underline;text-decoration:underline;}/*!sc*/\\n.jIvNCa .bio{color:#82858a;font-style:italic;}/*!sc*/\\n.jIvNCa .bio-cta{justify-self:flex-end;background-color:#003b00;display:block;text-align:center;width:100%;padding:1rem 0.5rem;border:2px solid transparent;color:#0f0;}/*!sc*/\\n.jIvNCa .bio-cta i{margin-right:0.5rem;}/*!sc*/\\n.jIvNCa .bio-cta:hover{border:2px solid #0f0;}/*!sc*/\\ndata-styled.g43[id=\"AuthorBio__Layout-sc-8qvprw-0\"]{content:\"jIvNCa,\"}/*!sc*/\\n.kVtHZZ{font-family:\\'IBM Plex Mono\\',monospace;background:#f6f7f9;color:#3c3c3b;font-weight:bold;padding:5px;display:inline-block;font-size:1rem;-webkit-text-decoration:none;text-decoration:none;display:-webkit-box;display:-webkit-flex;display:-ms-flexbox;display:flex;-webkit-align-items:center;-webkit-box-align:center;-ms-flex-align:center;align-items:center;width:auto;line-height:1em;box-shadow:0 0.2em #c2cad6,0 -0.2em #c2cad6,0.2em 0 #c2cad6,-0.2em 0 #c2cad6;padding:10px;font-size:1.2rem;margin:0 10px 10px 0;}/*!sc*/\\n.kVtHZZ:hover{background:#0f0;color:#3c3c3b;box-shadow:0 0.2em #0b0,0 -0.2em #0b0,0.2em 0 #0b0,-0.2em 0 #0b0;-webkit-transition:all 120ms ease-in-out;transition:all 120ms ease-in-out;}/*!sc*/\\n@media screen and (min-width:768px){.kVtHZZ{font-size:1.4rem;}}/*!sc*/\\ndata-styled.g44[id=\"StoryTag__Layout-l8xrl1-0\"]{content:\"kVtHZZ,\"}/*!sc*/\\n.hkGvok{grid-gap:0px;grid-template-rows:1fr;grid-template-columns:61.8% auto;border-top:1px solid #e8e8e8;border-left:1px solid #e8e8e8;font-family:\"IBM Plex Mono\",monospace;font-size:small;}/*!sc*/\\n@media screen and (min-width:550px){.hkGvok{display:grid;}}/*!sc*/\\n.hkGvok a{-webkit-text-decoration:underline;text-decoration:underline;}/*!sc*/\\n.hkGvok div{padding:10px 20px;}/*!sc*/\\n.hkGvok div.bold{font-size:medium;padding-left:25px;font-weight:600;border-right:1px solid #e8e8e8;}/*!sc*/\\n.hkGvok div.centered.centered{text-align:center;}/*!sc*/\\n.hkGvok div.related{border-bottom:1px solid #e8e8e8;border-right:1px solid #e8e8e8;}/*!sc*/\\n@media screen and (max-width:550px){.hkGvok div.related:not(.centered){border-bottom:none;}}/*!sc*/\\n@media screen and (max-width:550px){.hkGvok div.table-head.centered{display:none;}.hkGvok div.table-head:first-child{border-bottom:1px solid #e8e8e8;}}/*!sc*/\\n.hkGvok div.ad.ad a{color:black;text-shadow:-1px 0 #b4feb6,0 1px #b4feb6,1px 0 #b4feb6,0 -1px #b4feb6;}/*!sc*/\\ndata-styled.g45[id=\"RelatedStories__Layout-q790b3-0\"]{content:\"hkGvok,\"}/*!sc*/\\n.fsbpZf .fullscreen-enabled{display:-webkit-box;display:-webkit-flex;display:-ms-flexbox;display:flex;-webkit-align-items:center;-webkit-box-align:center;-ms-flex-align:center;align-items:center;-webkit-box-pack:center;-webkit-justify-content:center;-ms-flex-pack:center;justify-content:center;}/*!sc*/\\n.fsbpZf .fullscreen-enabled .img{max-width:100%;max-height:100%;}/*!sc*/\\n.fsbpZf .fullscreen-enabled .img:hover{-webkit-transform:scale(0.98);-ms-transform:scale(0.98);transform:scale(0.98);}/*!sc*/\\ndata-styled.g48[id=\"FullScreenToggleImage__Layout-yxmb5o-0\"]{content:\"fsbpZf,\"}/*!sc*/\\n.idPiOQ{text-align:center;font-family:\\'IBM Plex Mono\\',monospace;}/*!sc*/\\n.idPiOQ p{margin:0;font-size:1.34rem;font-style:italic;}/*!sc*/\\n.idPiOQ img{max-width:100%;}/*!sc*/\\n.idPiOQ a{background-color:#212428;border:4px solid #0f0;color:#0f0;display:inline-block;font-weight:bold;margin-bottom:10px;max-width:440px;padding:0.25em 0.5em;width:100%;-webkit-transition:font-size 0.3s ease;transition:font-size 0.3s ease;}/*!sc*/\\n@media screen and (min-width:768px){.idPiOQ a{-webkit-align-items:center;-webkit-box-align:center;-ms-flex-align:center;align-items:center;font-size:3rem;max-width:none;width:initial;}}/*!sc*/\\n.idPiOQ a:hover{background-color:#3c3c3b;}/*!sc*/\\n@media screen and (min-width:768px){.idPiOQ a:hover{font-size:3.5rem;}}/*!sc*/\\n@media screen and (min-width:768px){.idPiOQ p{font-size:1.6rem;}}/*!sc*/\\ndata-styled.g49[id=\"CallToAction__Layout-sc-1bzkg2-0\"]{content:\"idPiOQ,\"}/*!sc*/\\n.ChiNr{display:grid;max-width:1200px;width:100%;margin:0 auto 4.5rem;grid-gap:3rem 2.5rem;grid-template-columns:1fr;margin-top:1.5rem;}/*!sc*/\\n.ChiNr > h1{margin-bottom:0;margin-top:0;grid-column:1 / -1;}/*!sc*/\\n@media screen and (min-width:768px){.ChiNr > h1{text-align:center;}}/*!sc*/\\n.ChiNr section > h2,.ChiNr section > h3,.ChiNr section > h4{display:-webkit-box;display:-webkit-flex;display:-ms-flexbox;display:flex;-webkit-align-items:center;-webkit-box-align:center;-ms-flex-align:center;align-items:center;text-align:center;grid-column:1 / -1;font-weight:900;font-size:24px;text-transform:uppercase;}/*!sc*/\\n.ChiNr section > h2:before,.ChiNr section > h3:before,.ChiNr section > h4:before,.ChiNr section > h2:after,.ChiNr section > h3:after,.ChiNr section > h4:after{content:\"\";-webkit-flex:1;-ms-flex:1;flex:1;border-bottom:3px solid #3c3c3b;}/*!sc*/\\n.ChiNr section > h2:before,.ChiNr section > h3:before,.ChiNr section > h4:before{margin-right:30px;}/*!sc*/\\n.ChiNr section > h2:after,.ChiNr section > h3:after,.ChiNr section > h4:after{margin-left:30px;}/*!sc*/\\n@media screen and (max-width:320px){.ChiNr{margin:0;}}/*!sc*/\\n@media screen and (min-width:768px){.ChiNr{grid-template-columns:1fr 3fr 1fr;grid-gap:2.5rem 25px;margin-top:25px;}.ChiNr > *{grid-column:2 / -2;}}/*!sc*/\\n.ChiNr > pre{overflow-x:scroll;}/*!sc*/\\n.ChiNr pre{white-space:unset;font-size:1.4rem;}/*!sc*/\\n@media screen and (min-width:768px){.ChiNr pre{font-size:1.6rem;}}/*!sc*/\\n.ChiNr .code-container pre{white-space:pre-wrap;}/*!sc*/\\n.ChiNr .previewWarning,.ChiNr .previewWarning > a{color:#a09a00;text-align:center;}/*!sc*/\\n.ChiNr ul,.ChiNr ol{padding-left:20px;margin:0;}/*!sc*/\\n.ChiNr .paragraph pre,.ChiNr ul pre,.ChiNr ol pre{display:inline;font-family:monospace;background-color:#eee;padding:3px;white-space:pre-wrap;line-height:1.6;}/*!sc*/\\n.ChiNr .edit-story{text-align:center;margin:-40px 0 0 0;}/*!sc*/\\n.ChiNr .code-container{min-width:0;grid-column:1 / -1;padding:10px;}/*!sc*/\\n.ChiNr .code-container pre{overflow-x:scroll !important;display:block;overflow-x:auto;background:black;color:#eaeaea;padding:30px;}/*!sc*/\\n.ChiNr figure,.ChiNr .image-container:not(.feat){display:-webkit-box;display:-webkit-flex;display:-ms-flexbox;display:flex;-webkit-flex-direction:column;-ms-flex-direction:column;flex-direction:column;-webkit-align-items:center;-webkit-box-align:center;-ms-flex-align:center;align-items:center;}/*!sc*/\\n.ChiNr > figure{margin:0 auto;}/*!sc*/\\n.ChiNr > figure > figcaption{font-size:1rem;}/*!sc*/\\n.ChiNr figure img,.ChiNr .image-container img{max-width:100%;height:auto;cursor:pointer;-webkit-transition:-webkit-transform 0.2s;-webkit-transition:transform 0.2s;transition:transform 0.2s;}/*!sc*/\\n.ChiNr figure img:hover,.ChiNr .image-container img:hover{-webkit-transform:scale(1.02);-ms-transform:scale(1.02);transform:scale(1.02);}/*!sc*/\\n.ChiNr figure.feat,.ChiNr .image-container.feat{grid-column:1 / -1;}/*!sc*/\\n.ChiNr figure.feat img,.ChiNr .image-container.feat img,.ChiNr figure.feat .lazy-load-image-background,.ChiNr .image-container.feat .lazy-load-image-background{width:100%;}/*!sc*/\\n@media screen and (min-width:768px){.ChiNr figure.feat .react-loading-skeleton,.ChiNr .image-container.feat .react-loading-skeleton{height:450px !important;}}/*!sc*/\\n.ChiNr .youtube-container{position:relative;padding-bottom:56.25%;padding-top:25px;height:0;}/*!sc*/\\n.ChiNr .youtube-container iframe{position:absolute;top:0;left:0;width:100%;height:100%;}/*!sc*/\\n.ChiNr > .codepen-container,.ChiNr > .codesandbox-container{grid-column:1 / -1;}/*!sc*/\\n.ChiNr > .codepen-container iframe,.ChiNr > .codesandbox-container iframe{border:none;border-radius:5px;box-shadow:0 0 10px rgba(0,0,0,0.1);width:100%;height:500px;}/*!sc*/\\n.ChiNr > blockquote{font-size:2rem;font-style:italic;margin-left:0;margin-right:0;padding:2rem 0;grid-column:1 / -1;text-align:center;}/*!sc*/\\n@media screen and (min-width:768px){.ChiNr > blockquote{font-size:2.5rem;}}/*!sc*/\\n@media screen and (min-width:768px){.ChiNr .reactions{grid-column:3;}}/*!sc*/\\n.ChiNr .paragraph{min-width:0;margin:0;word-wrap:break-word;}/*!sc*/\\n.ChiNr .paragraph a,.ChiNr .slogging a,.ChiNr blockquote a,.ChiNr p a,.ChiNr .h2 a,.ChiNr .h3 a,.ChiNr .h4 a,.ChiNr ul li a,.ChiNr ol li a,.ChiNr h2 a,.ChiNr h3 a{padding:2px 0 1px 0;background-image:linear-gradient( transparent 0%,transparent calc(50% - 9px),rgba(0,255,0,0.35) calc(50% - 9px),rgba(0,255,0,0.35) 100% );-webkit-transition:background-position 120ms ease-in-out,padding 120ms ease-in-out;transition:background-position 120ms ease-in-out,padding 120ms ease-in-out;background-size:100% 200%;background-position:0 0;word-break:break-word;}/*!sc*/\\n.ChiNr .paragraph a:hover,.ChiNr .slogging a:hover,.ChiNr blockquote a:hover,.ChiNr p a:hover,.ChiNr .h2 a:hover,.ChiNr .h3 a:hover,.ChiNr .h4 a:hover,.ChiNr ul li a:hover,.ChiNr ol li a:hover,.ChiNr h2 a:hover,.ChiNr h3 a:hover{background-image:linear-gradient( transparent 0%,transparent calc(50% - 9px),rgba(0,255,0,1) calc(50% - 9px),rgba(0,255,0,1) 100% );background-position:0 100%;}/*!sc*/\\n.ChiNr .paragraph a:focus,.ChiNr .slogging a:focus,.ChiNr blockquote a:focus,.ChiNr p a:focus,.ChiNr .h2 a:focus,.ChiNr .h3 a:focus,.ChiNr .h4 a:focus,.ChiNr ul li a:focus,.ChiNr ol li a:focus,.ChiNr h2 a:focus,.ChiNr h3 a:focus{text-shadow:1px 1px 0 #0b0;}/*!sc*/\\n.ChiNr .tags{display:-webkit-box;display:-webkit-flex;display:-ms-flexbox;display:flex;-webkit-box-pack:center;-webkit-justify-content:center;-ms-flex-pack:center;justify-content:center;-webkit-flex-wrap:wrap;-ms-flex-wrap:wrap;flex-wrap:wrap;}/*!sc*/\\n.ChiNr .skeleton.meta{grid-column:1 / -1;display:grid;grid-template-columns:auto 1fr;}/*!sc*/\\n.ChiNr .skeleton.meta > div{display:-webkit-box;display:-webkit-flex;display:-ms-flexbox;display:flex;-webkit-align-items:center;-webkit-box-align:center;-ms-flex-align:center;align-items:center;}/*!sc*/\\n.ChiNr .skeleton.meta > div:first-child{justify-self:start;}/*!sc*/\\n.ChiNr .skeleton.meta > div:last-child{justify-self:end;}/*!sc*/\\n.ChiNr footer{margin-top:50px;}/*!sc*/\\n.ChiNr footer .share{display:-webkit-box;display:-webkit-flex;display:-ms-flexbox;display:flex;-webkit-box-pack:end;-webkit-justify-content:flex-end;-ms-flex-pack:end;justify-content:flex-end;margin-bottom:20px;font-size:1.6rem;}/*!sc*/\\n.ChiNr footer ~ section h4{display:-webkit-box;display:-webkit-flex;display:-ms-flexbox;display:flex;-webkit-align-items:center;-webkit-box-align:center;-ms-flex-align:center;align-items:center;text-align:center;}/*!sc*/\\n.ChiNr footer ~ section h4:before,.ChiNr footer ~ section h4:after{content:\"\";-webkit-flex:1;-ms-flex:1;flex:1;border-bottom:2px solid #c2cad6;}/*!sc*/\\n.ChiNr footer ~ section h4:before{margin-right:0.5em;}/*!sc*/\\n.ChiNr footer ~ section h4:after{margin-left:0.5em;}/*!sc*/\\n.ChiNr .twitter-tweet{margin:0 auto;}/*!sc*/\\n.ChiNr .slack .mr-3 img{border-radius:6px;}/*!sc*/\\n.ChiNr .slack .reactions{display:-webkit-box;display:-webkit-flex;display:-ms-flexbox;display:flex;padding:6px;}/*!sc*/\\n.ChiNr .slack .reactions .reaction{background:rgb(237,237,237);border:1px solid transparent;border-radius:8px;padding:4px;margin:4px;font-size:18px;}/*!sc*/\\n.ChiNr .slack .reactions .reaction:hover{cursor:default;background:transparent;border:1px solid black;}/*!sc*/\\n.ChiNr .slack .reactions .reaction-count{font-size:14px;}/*!sc*/\\n.ChiNr .bottom-reactions{display:-webkit-box;display:-webkit-flex;display:-ms-flexbox;display:flex;-webkit-align-items:center;-webkit-box-align:center;-ms-flex-align:center;align-items:center;-webkit-box-pack:center;-webkit-justify-content:center;-ms-flex-pack:center;justify-content:center;}/*!sc*/\\n.ChiNr .bottom-reactions .reactions{display:-webkit-box;display:-webkit-flex;display:-ms-flexbox;display:flex;padding-top:10px;-webkit-align-items:center;-webkit-box-align:center;-ms-flex-align:center;align-items:center;}/*!sc*/\\n.ChiNr .bottom-reactions .reactions label{width:50px;text-align:right;margin-right:15px;}/*!sc*/\\n.ChiNr .bottom-reactions .reactions .emoji-container{margin-right:15px;}/*!sc*/\\ndata-styled.g50[id=\"Story__Layout-sc-1k5ahq9-0\"]{content:\"ChiNr,\"}/*!sc*/\\nhtml{line-height:1.15;-webkit-text-size-adjust:100%;}/*!sc*/\\nbody{margin:0;}/*!sc*/\\nmain{display:block;}/*!sc*/\\nh1{font-size:2em;margin:0.67em 0;}/*!sc*/\\nhr{box-sizing:content-box;height:0;overflow:visible;}/*!sc*/\\npre{font-family:monospace,monospace;font-size:1em;}/*!sc*/\\na{background-color:transparent;}/*!sc*/\\nabbr[title]{border-bottom:none;-webkit-text-decoration:underline;text-decoration:underline;-webkit-text-decoration:underline dotted;text-decoration:underline dotted;}/*!sc*/\\nb,strong{font-weight:bolder;}/*!sc*/\\ncode,kbd,samp{font-family:monospace,monospace;font-size:1em;}/*!sc*/\\nsmall{font-size:80%;}/*!sc*/\\nsub,sup{font-size:75%;line-height:0;position:relative;vertical-align:baseline;}/*!sc*/\\nsub{bottom:-0.25em;}/*!sc*/\\nsup{top:-0.5em;}/*!sc*/\\nimg{border-style:none;}/*!sc*/\\nbutton,input,optgroup,select,textarea{font-family:inherit;font-size:100%;line-height:1.15;margin:0;}/*!sc*/\\nbutton,input{overflow:visible;}/*!sc*/\\nbutton,select{text-transform:none;}/*!sc*/\\nbutton,[type=\"button\"],[type=\"reset\"],[type=\"submit\"]{-webkit-appearance:button;}/*!sc*/\\nbutton::-moz-focus-inner,[type=\"button\"]::-moz-focus-inner,[type=\"reset\"]::-moz-focus-inner,[type=\"submit\"]::-moz-focus-inner{border-style:none;padding:0;}/*!sc*/\\nbutton:-moz-focusring,[type=\"button\"]:-moz-focusring,[type=\"reset\"]:-moz-focusring,[type=\"submit\"]:-moz-focusring{outline:1px dotted ButtonText;}/*!sc*/\\nfieldset{padding:0.35em 0.75em 0.625em;}/*!sc*/\\nlegend{box-sizing:border-box;color:inherit;display:table;max-width:100%;padding:0;white-space:normal;}/*!sc*/\\nprogress{vertical-align:baseline;}/*!sc*/\\ntextarea{overflow:auto;}/*!sc*/\\n[type=\"checkbox\"],[type=\"radio\"]{box-sizing:border-box;padding:0;}/*!sc*/\\n[type=\"number\"]::-webkit-inner-spin-button,[type=\"number\"]::-webkit-outer-spin-button{height:auto;}/*!sc*/\\n[type=\"search\"]{-webkit-appearance:textfield;outline-offset:-2px;}/*!sc*/\\n[type=\"search\"]::-webkit-search-decoration{-webkit-appearance:none;}/*!sc*/\\n::-webkit-file-upload-button{-webkit-appearance:button;font:inherit;}/*!sc*/\\ndetails{display:block;}/*!sc*/\\nsummary{display:list-item;}/*!sc*/\\ntemplate{display:none;}/*!sc*/\\n[hidden]{display:none;}/*!sc*/\\ndata-styled.g52[id=\"sc-global-ecVvVt1\"]{content:\"sc-global-ecVvVt1,\"}/*!sc*/\\nhtml{box-sizing:border-box;font-size:10px;line-height:1.666;}/*!sc*/\\n*,*:before,*:after{box-sizing:inherit;}/*!sc*/\\nbody{padding:0;margin:0;font-size:1.75rem;font-family:\\'IBM Plex Sans\\',sans-serif;color:#3c3c3b;-webkit-transition:background-color 200ms ease;transition:background-color 200ms ease;-webkit-transition:color 200ms ease;transition:color 200ms ease;}/*!sc*/\\nh1,h2,h3{-webkit-letter-spacing:0px;-moz-letter-spacing:0px;-ms-letter-spacing:0px;letter-spacing:0px;font-family:\\'IBM Plex Mono\\',monospace;line-height:1.4;}/*!sc*/\\nh1{font-size:1.75em;}/*!sc*/\\nh2{font-size:1.25em;}/*!sc*/\\na,button{outline:none;}/*!sc*/\\na{color:#3c3c3b;-webkit-transition:color 200ms ease;transition:color 200ms ease;-webkit-text-decoration:none;text-decoration:none;}/*!sc*/\\na[disabled]{opacity:0.75;cursor:not-allowed;}/*!sc*/\\ninput{color:#3c3c3b;}/*!sc*/\\nbody.dark-mode{background-color:#212428;color:#f6f7f9;}/*!sc*/\\nbody.dark-mode .bg-white{background-color:#212428;}/*!sc*/\\nbody.dark-mode .text-black{color:#f6f7f9;}/*!sc*/\\nbody.dark-mode a:not(.cta-button){color:#f6f7f9;}/*!sc*/\\nbody.dark-mode .paragraph code,body.dark-mode main > div > ul code{color:#3c3c3b;}/*!sc*/\\nbody.dark-mode code{color:#3c3c3b;}/*!sc*/\\nbody.dark-mode .tags a,body.dark-mode .tag a{color:#c1cad4;background-color:#212428;}/*!sc*/\\nbody.dark-mode .paragraph a:hover,body.dark-mode h3 a:hover,body.dark-mode .paragraph a:focus,body.dark-mode h3 a:focus{background-image:linear-gradient( transparent 0%, transparent calc(50% - 9px), rgba(0,255,0,1) calc(50% - 9px), rgba(0,255,0,1) 100% );color:#212428;}/*!sc*/\\nbody.dark-mode .mainNav{background-color:#0b0;}/*!sc*/\\nbody.dark-mode .mainNav .tippy-box li a,body.dark-mode .mainNav .tippy-box button{background-color:#0b0;color:#f6f7f9;}/*!sc*/\\nbody.dark-mode .mainNav .tippy-box li a:hover,body.dark-mode .mainNav .tippy-box button:hover{background-color:#62ff86;}/*!sc*/\\nbody.dark-mode button.subscribe{color:#f6f7f9;border:2px solid #f6f7f9;}/*!sc*/\\nbody.dark-mode button.subscribe:hover{background-color:#0b0;}/*!sc*/\\nbody.dark-mode > div > div > footer{background-color:#3c3c3b !important;}/*!sc*/\\nbody.dark-mode .story-nav{background:#0b0;color:#000;}/*!sc*/\\nbody.dark-mode .story-nav a{color:#000;}/*!sc*/\\nbody.dark-mode .story-nav .st-total{color:#000 !important;}/*!sc*/\\nbody.dark-mode i.fa-bookmark{color:#c1cad4;}/*!sc*/\\n@media screen and (min-width:768px){body{font-size:2rem;}h1{font-size:2em;}h2{font-size:1.5em;}}/*!sc*/\\n.lazy-load-image-background.opacity{opacity:0;}/*!sc*/\\n.lazy-load-image-background.opacity.lazy-load-image-loaded{opacity:1;-webkit-transition:opacity .3s;transition:opacity .3s;}/*!sc*/\\n.ReactModal__Overlay{z-index:5;display:-webkit-box;display:-webkit-flex;display:-ms-flexbox;display:flex;-webkit-box-pack:center;-webkit-justify-content:center;-ms-flex-pack:center;justify-content:center;-webkit-align-items:center;-webkit-box-align:center;-ms-flex-align:center;align-items:center;}/*!sc*/\\n.ReactModal__Content{position:static !important;border:2px solid #3c3c3b !important;border-radius:2px !important;box-shadow:2px 2px 0px #cdcdcd,-2px -2px 0px #ffffff;}/*!sc*/\\ndata-styled.g53[id=\"sc-global-bFLLME1\"]{content:\"sc-global-bFLLME1,\"}/*!sc*/\\n</style></head><body><div id=\"__next\"><div class=\"Page__Layout-hhevz5-0 goBpyq\"><header class=\"Header__Layout-le0go0-0 spuRJ\"><div class=\"mainNav\"><a class=\"logo\" tabindex=\"2\" href=\"/\"><img src=\"/hn-logo.png\" alt=\"Hackernoon logo\" class=\"desktop\" width=\"248px\" height=\"40px\" loading=\"lazy\"/><img src=\"/hn-icon.png\" alt=\"Hackernoon logo\" class=\"mobile\" width=\"37px\" height=\"40px\" loading=\"lazy\"/></a><form class=\"search-container active\"><input name=\"searchvalue\" placeholder=\"Search...\" tabindex=\"1\"/><img src=\"/search-new.png\" alt=\"Search icon\" width=\"19\" height=\"19\" loading=\"lazy\"/></form><div class=\"Header__AuthButtons-le0go0-1 fQfsFn\"><a href=\"https://app.hackernoon.com/new\" class=\"Button-ugfqup-0 efUaPu\">Start Writing</a></div><div class=\"MobileMenu__Layout-sc-1fdxtq8-0 heQsGx\"><div data-focus-guard=\"true\" tabindex=\"-1\" style=\"width:1px;height:0px;padding:0;overflow:hidden;position:fixed;top:1px;left:1px\"></div><div data-focus-guard=\"true\" tabindex=\"-1\" style=\"width:1px;height:0px;padding:0;overflow:hidden;position:fixed;top:1px;left:1px\"></div><div data-focus-lock-disabled=\"disabled\"><button aria-label=\"Toggle menu\" aria-expanded=\"false\" aria-controls=\"main-menu\" class=\"Burger__Layout-sc-10d1lcj-0 dTzENj\"><i aria-hidden=\"true\" class=\"fas fa-bars\"></i></button><nav aria-hidden=\"true\" class=\"Menu__Layout-sc-4oc915-0 kwOOJX\"><a href=\"https://app.hackernoon.com/login\" class=\"cta-button\">Start Writing</a><div class=\"Menu__MobileTagNavLayout-sc-4oc915-1 iiQQHc\"><ul class=\"LinksList__Layout-j3vs07-0 hErJxS\"><li class=\"\"><a href=\"/tagged\">Read</a><button><i aria-hidden=\"true\" class=\"fa fa-angle-right\"></i></button><div class=\"NestedMobileNav__Layout-sc-1t0a8oo-0 eHbrSf dropdownNav\"><section><header><a href=\"/tagged/tech\">Tech</a><button><i aria-hidden=\"true\" class=\"fas fa-times\"></i></button></header><ul class=\"LinksList__Layout-j3vs07-0 gxAheh\"><li class=\"\"><a href=\"/tagged/ai\">AI</a></li><li class=\"\"><a href=\"/tagged/automation\">Automation</a></li><li class=\"\"><a href=\"/tagged/business\">Business</a></li><li class=\"\"><a href=\"/tagged/data\">Data</a></li><li class=\"\"><a href=\"/tagged/data-science\">Data Science</a></li><li class=\"\"><a href=\"/tagged/deep-fakes\">Deep Fakes</a></li><li class=\"\"><a href=\"/tagged/economics\">Economics</a></li><li class=\"\"><a href=\"/tagged/entrepreneurship\">Entrepreneurship</a></li><li class=\"\"><a href=\"/tagged/future\">Future</a></li><li class=\"\"><a href=\"/tagged/founders\">Founders</a></li><li class=\"\"><a href=\"/tagged/funding\">Funding</a></li><li class=\"\"><a href=\"/tagged/iot\">Iot</a></li><li class=\"\"><a href=\"/tagged/management\">Management</a></li><li class=\"\"><a href=\"/tagged/marketing\">Marketing</a></li><li class=\"\"><a href=\"/rick-and-morty-and-the-meaning-of-life-6640df17e263\">Meaning of Life</a></li><li class=\"\"><a href=\"/tagged/robotics\">Robotics</a></li><li class=\"\"><a href=\"/tagged/self-driving-cars\">Self-Driving Cars</a></li><li class=\"\"><a href=\"/tagged/startups\">Startups</a></li><li class=\"\"><a href=\"/tagged/venture-capital\">Venture Capital</a></li><li class=\"\"><a href=\"/tagged/virtual-reality\">Virtual Reality</a></li></ul></section><section><header><a href=\"/tagged/software-development\">Software</a></header><ul class=\"LinksList__Layout-j3vs07-0 gxAheh\"><li class=\"\"><a href=\"/tagged/agile\">Agile</a></li><li class=\"\"><a href=\"/tagged/api\">APIs</a></li><li class=\"\"><a href=\"/tagged/software-architecture\">Architecture</a></li><li class=\"\"><a href=\"/tagged/c\">C</a></li><li class=\"\"><a href=\"/tagged/coding\">Coding</a></li><li class=\"\"><a href=\"/tagged/engineering\">Engineering</a></li><li class=\"\"><a href=\"/tagged/java\">Java</a></li><li class=\"\"><a href=\"/tagged/javascript\">Javascript</a></li><li class=\"\"><a href=\"/tagged/lisk\">Lisk</a></li><li class=\"\"><a href=\"/four-startup-engineering-killers-1fb5c498391d\">Killers</a></li><li class=\"\"><a href=\"/tagged/mvp\">MVP</a></li><li class=\"\"><a href=\"/tagged/nodejs\">NodeJS</a></li><li class=\"\"><a href=\"/tagged/open-source\">Open Source</a></li><li class=\"\"><a href=\"/tagged/php\">PHP</a></li><li class=\"\"><a href=\"/tagged/programming\">Programming</a></li><li class=\"\"><a href=\"/tagged/python\">Python</a></li><li class=\"\"><a href=\"/tagged/react\">React</a></li><li class=\"\"><a href=\"/tagged/ruby\">Ruby</a></li><li class=\"\"><a href=\"/tagged/sql\">SQL</a></li><li class=\"\"><a href=\"/tagged/swift\">Swift</a></li><li class=\"\"><a href=\"/tagged/vim\">Vim</a></li></ul></section><section><header><a href=\"/tagged/decentralization\">Decentralization</a></header><ul class=\"LinksList__Layout-j3vs07-0 gxAheh\"><li class=\"\"><a href=\"/tagged/altcoins\">Altcoins</a></li><li class=\"\"><a href=\"/tagged/bitcoin\">Bitcoin</a></li><li class=\"\"><a href=\"/tagged/bitcoin-spotlight\">Bitcoin Spotlight</a></li><li class=\"\"><a href=\"/tagged/blockchain\">Blockchain</a></li><li class=\"\"><a href=\"https://coil.com?ref=hackernoon.com\" target=\"_blank\">Coil</a></li><li class=\"\"><a href=\"/tagged/cryptocurrency\">Cryptocurrency</a></li><li class=\"\"><a href=\"/tagged/cardano\">Cardano</a></li><li class=\"\"><a href=\"/tagged/dapps\">DApps</a></li><li class=\"\"><a href=\"/decentralizing-everything-never-seems-to-work-2bb0461bd168\">Does It Work?</a></li><li class=\"\"><a href=\"/tagged/decentralized-web\">DWeb</a></li><li class=\"\"><a href=\"/tagged/eos\">EOS</a></li><li class=\"\"><a href=\"/tagged/ethereum\">Ethereum</a></li><li class=\"\"><a href=\"/tagged/finance\">Finance</a></li><li class=\"\"><a href=\"https://bit.ly/2Pomq1x\" target=\"_blank\">Free TON</a></li><li class=\"\"><a href=\"/tagged/libra\">Libra</a></li><li class=\"\"><a href=\"/why-everyone-missed-the-most-important-invention-in-the-last-500-years-c90b0151c169\">Mind Blown</a></li><li class=\"\"><a href=\"/tagged/ripple\">Ripple</a></li><li class=\"\"><a href=\"/tagged/space\">Space</a></li><li class=\"\"><a href=\"/tagged/tether\">Tether</a></li><li class=\"\"><a href=\"/how-to-decentralize-twitter-956a37da\">Twitter</a></li></ul></section></div></li><li class=\"sponsor\"><a href=\"/tagged/hackernoon-top-story\">Top Stories</a><button><i aria-hidden=\"true\" class=\"fa fa-angle-right\"></i></button></li><li class=\"sponsor\"><a href=\"https://publish.hackernoon.com\" target=\"_blank\">Write</a><button><i aria-hidden=\"true\" class=\"fa fa-angle-right\"></i></button></li><li class=\"sponsor\"><a href=\"/tagged/hackernoon-podcast\">Listen</a><button><i aria-hidden=\"true\" class=\"fa fa-angle-right\"></i></button></li><li class=\"\"><a href=\"https://bit.ly/3rG0tZy\" target=\"_blank\">Learn</a><button><i aria-hidden=\"true\" class=\"fa fa-angle-right\"></i></button><div class=\"NestedMobileNav__Layout-sc-1t0a8oo-0 eHbrSf dropdownNav\"><section><header><a href=\"https://bit.ly/3aOybUa\" target=\"_blank\">Web Development</a><button><i aria-hidden=\"true\" class=\"fas fa-times\"></i></button></header><ul class=\"LinksList__Layout-j3vs07-0 gxAheh\"><li class=\"\"><a href=\"https://bit.ly/3rFSgEM\" target=\"_blank\">Become a Cloud Developer 🔗</a></li><li class=\"\"><a href=\"https://bit.ly/3t14msY\" target=\"_blank\">300 Scholarships - School of Cloud Computing 🔗</a></li><li class=\"\"><a href=\"https://bit.ly/2Z2V9mB\" target=\"_blank\">Become A Fullstack Developer 🔗</a></li><li class=\"\"><a href=\"https://bit.ly/2Z5P4FY\" target=\"_blank\">Become Android Developer🔗</a></li><li class=\"\"><a href=\"/how-to-learn-design-patterns-and-pretty-much-anything-else-9c5af6ceaba4\">Design Patterns</a></li><li class=\"\"><a href=\"/the-feynman-learning-technique-how-to-learn-anything-well-v9x3w7f\">Feynman Technique</a></li><li class=\"\"><a href=\"/learn-to-code-in-30-days-my-personal-journey-yv3y3ua0\">In 30 Days</a></li><li class=\"\"><a href=\"/things-i-learned-from-6-months-of-coding-8w1772dbx\">In 6 Months</a></li><li class=\"\"><a href=\"/tagged/learning-to-code\">Learning to Code</a></li><li class=\"\"><a href=\"/learning-how-to-learn-is-more-important-than-learning-to-code-gy9c3u5c\">Learning to Learn</a></li><li class=\"\"><a href=\"/8-free-online-games-to-help-you-learn-coding-vf1k3wld\">Learning via Games</a></li><li class=\"\"><a href=\"https://bit.ly/3qclfj2\" target=\"_blank\">Cybersecurity 🔗</a></li></ul></section><section><header><a href=\"https://bit.ly/3p6Xtna\" target=\"_blank\">Data Science</a></header><ul class=\"LinksList__Layout-j3vs07-0 gxAheh\"></ul></section><section><header><a href=\"https://bit.ly/2IEtq3D\" target=\"_blank\">Languages</a></header><ul class=\"LinksList__Layout-j3vs07-0 gxAheh\"><li class=\"\"><a href=\"/search?query=learn+blockchain\">Blockchain</a></li><li class=\"\"><a href=\"/search?query=learn%20C#\">C C# C++</a></li><li class=\"\"><a href=\"/search?query=learn%20go\">Go</a></li><li class=\"\"><a href=\"https://bit.ly/3q9Egm6\" target=\"_blank\">HTML &amp; CSS🔗</a></li><li class=\"\"><a href=\"https://bit.ly/2Z5Q1y2\" target=\"_blank\">Javascript🔗</a></li><li class=\"\"><a href=\"/search?query=learn%20php\">PHP</a></li><li class=\"\"><a href=\"https://bit.ly/3p2Wkx7\" target=\"_blank\">Python 🔗</a></li><li class=\"\"><a href=\"/search?query=learn%20ruby-on-rails\">Ruby on Rails</a></li><li class=\"\"><a href=\"https://bit.ly/2Z01G1w\" target=\"_blank\">SQL 🔗</a></li><li class=\"\"><a href=\"https://bit.ly/3rG0tZy\" target=\"_blank\">In Partnership With Udacity</a></li></ul></section></div></li><li class=\"sponsor\"><a href=\"/live\">Live</a><button><i aria-hidden=\"true\" class=\"fa fa-angle-right\"></i></button></li><li class=\"sponsor\"><a href=\"https://sponsor.hackernoon.com/\" target=\"_blank\">Advertise</a><button><i aria-hidden=\"true\" class=\"fa fa-angle-right\"></i></button><div class=\"NestedMobileNav__Layout-sc-1t0a8oo-0 eHbrSf dropdownNav\"><section><header><a href=\"https://sponsor.hackernoon.com/brand-as-author\" target=\"_blank\">Post</a><button><i aria-hidden=\"true\" class=\"fas fa-times\"></i></button></header><ul class=\"LinksList__Layout-j3vs07-0 gxAheh\"><li class=\"\"><a href=\"https://sponsor.hackernoon.com/brand-as-author\" target=\"_blank\">Corporate Blog Posts</a></li><li class=\"\"><a href=\"https://sponsor.hackernoon.com/brand-as-author\" target=\"_blank\">Tech News Release</a></li></ul></section><section><header><a href=\"https://sponsor.hackernoon.com\" target=\"_blank\">Place an Ad</a></header><ul class=\"LinksList__Layout-j3vs07-0 gxAheh\"><li class=\"\"><a href=\"https://sponsor.hackernoon.com/ad-by-tag\" target=\"_blank\">Targeted Niche Marketing</a></li><li class=\"\"><a href=\"https://sponsor.hackernoon.com/billboard\" target=\"_blank\">Sitewide Takeover</a></li></ul></section></div></li><li class=\"\"><a href=\"https://about.hackernoon.com/\" target=\"_blank\">About</a><button><i aria-hidden=\"true\" class=\"fa fa-angle-right\"></i></button><div class=\"NestedMobileNav__Layout-sc-1t0a8oo-0 eHbrSf dropdownNav\"><section><header><a href=\"https://about.hackernoon.com/\" target=\"_blank\">About</a><button><i aria-hidden=\"true\" class=\"fas fa-times\"></i></button></header><ul class=\"LinksList__Layout-j3vs07-0 gxAheh\"><li class=\"\"><a href=\"https://readwrite.com/2020/06/10/hacker-noon-adds-quantitative-social-proof-and-web-monetization-standards/\" target=\"_blank\">A Story</a></li><li class=\"\"><a href=\"https://careers.hackernoon.com/\" target=\"_blank\">Careers</a></li><li class=\"\"><a href=\"/@David\">CEO</a></li><li class=\"\"><a href=\"/@linh\">COO</a></li><li class=\"\"><a href=\"/@Dane\">CPO</a></li><li class=\"\"><a href=\"https://www.startengine.com/hackernoon\" target=\"_blank\">Equity Crowdfunding</a></li><li class=\"\"><a href=\"/hacker-noon-faqs-with-six-word-answers-aw1ls3z1q\">In Six Words or Less</a></li><li class=\"\"><a href=\"https://www.linkedin.com/company/hackernoon\" target=\"_blank\">LinkedIn</a></li><li class=\"\"><a href=\"https://www.instagram.com/hackernoon/\" target=\"_blank\">On the Gram</a></li><li class=\"\"><a href=\"https://podcast.hackernoon.com/\" target=\"_blank\">Our Podcast</a></li><li class=\"\"><a href=\"https://giphy.com/hackernoon\" target=\"_blank\">Tech GIFs</a></li></ul></section><section><header><a href=\"https://auth.hackernoon.com\" target=\"_blank\">Write</a></header><ul class=\"LinksList__Layout-j3vs07-0 gxAheh\"><li class=\"\"><a href=\"https://app.hackernoon.com/profile/rewards\" target=\"_blank\">Add Coil Meta Tag</a></li><li class=\"\"><a href=\"/three-things-about-headlines-3wc23ztl\">Better Headlines</a></li><li class=\"\"><a href=\"https://help.hackernoon.com/app/page/1HNTGwm_UAfdEv9nEKmZHjQHRJtYgLnMIEZ6Vw_ZRZvQ\" target=\"_blank\">Create Your Own Call To Action</a></li><li class=\"\"><a href=\"https://help.hackernoon.com/\" target=\"_blank\">Help Section</a></li><li class=\"\"><a href=\"https://publish.hackernoon.com/\" target=\"_blank\">Get Published</a></li><li class=\"\"><a href=\"https://help.hackernoon.com/app/page/1-wg7bxonxAFWdTYl5G4gJwvWLo0iWfBi-XKbdjcYva0\" target=\"_blank\">Submit a Story Checklist</a></li><li class=\"\"><a href=\"https://help.hackernoon.com/app/page/1fWmAG6zSc-EuxBhHYt-tUIR0wfefRxkmpVRD46byKTw\" target=\"_blank\">Troubleshooting Account Creation</a></li><li class=\"\"><a href=\"/how-to-get-published-on-hacker-noon-a-step-by-step-guide-zcp36rz\">Writing Guide</a></li><li class=\"\"><a href=\"https://auth.hackernoon.com\" target=\"_blank\">Write Now</a></li></ul></section><section><header><a href=\"https://noonies.tech\" target=\"_blank\">Noonies 2020</a></header><ul class=\"LinksList__Layout-j3vs07-0 gxAheh\"><li class=\"\"><a href=\"https://noonies.tech/#internet\" target=\"_blank\">Back to the Internet</a></li><li class=\"\"><a href=\"https://noonies.tech/#blockchain\" target=\"_blank\">Decentralization</a></li><li class=\"\"><a href=\"/wtf-are-the-noonies-kjh3yv9\">FAQ</a></li><li class=\"\"><a href=\"https://noonies.tech/#heroes\" target=\"_blank\">Future Heroes</a></li><li class=\"\"><a href=\"/tagged/noonies\">Interviews</a></li><li class=\"\"><a href=\"/podcast-the-2020-noonies-are-here-and-even-greener-than-last-year-vle3y4c\">Podcast</a></li><li class=\"\"><a href=\"https://noonies.tech/#development\" target=\"_blank\">Software</a></li><li class=\"\"><a href=\"/tagged/noonies\">Stories</a></li><li class=\"\"><a href=\"https://noonies.tech/#tech\" target=\"_blank\">Technology</a></li><li class=\"\"><a href=\"https://www.youtube.com/watch?v=A9cdOVuOfp8\" target=\"_blank\">Video</a></li><li class=\"\"><a href=\"https://noonies.hackernoon.com/\" target=\"_blank\">2019 Inaugerial Winners</a></li></ul></section></div></li><li class=\"\"><a href=\"/companies\">Tech Companies</a><button><i aria-hidden=\"true\" class=\"fa fa-angle-right\"></i></button><div class=\"NestedMobileNav__Layout-sc-1t0a8oo-0 eHbrSf dropdownNav\"><section><header><a href=\"/new-feature-alert-913-tech-company-news-pages-on-hacker-noon-th1334q2\">A to F</a><button><i aria-hidden=\"true\" class=\"fas fa-times\"></i></button></header><ul class=\"LinksList__Layout-j3vs07-0 gxAheh\"><li class=\"\"><a href=\"/company/adobe\">Adobe</a></li><li class=\"\"><a href=\"/company/alphabet\">Alphabet</a></li><li class=\"\"><a href=\"/company/amazon\">Amazon</a></li><li class=\"\"><a href=\"/company/apache\">Apache</a></li><li class=\"\"><a href=\"/company/apple\">Apple</a></li><li class=\"\"><a href=\"/company/att\">ATT</a></li><li class=\"\"><a href=\"/company/bankofamerica\">BoA</a></li><li class=\"\"><a href=\"/company/coinbase\">Coinbase</a></li><li class=\"\"><a href=\"/company/comcast\">Comcast</a></li><li class=\"\"><a href=\"/company/ebay\">Ebay</a></li><li class=\"\"><a href=\"/company/facebook\">Facebook</a></li><li class=\"\"><a href=\"/company/foxconn\">Foxconn</a></li></ul></section><section><header><a href=\"/new-feature-alert-913-tech-company-news-pages-on-hacker-noon-th1334q2\">G to N</a></header><ul class=\"LinksList__Layout-j3vs07-0 gxAheh\"><li class=\"\"><a href=\"/company/google\">Google</a></li><li class=\"\"><a href=\"/company/hp\">HP</a></li><li class=\"\"><a href=\"/company/huawei\">Huawei</a></li><li class=\"\"><a href=\"/company/ibm\">IBM</a></li><li class=\"\"><a href=\"/company/intel\">Intel</a></li><li class=\"\"><a href=\"/company/intuit\">Intuit</a></li><li class=\"\"><a href=\"/company/lenovogroup\">Lenovo</a></li><li class=\"\"><a href=\"/company/mcdonald\">McDonalds</a></li><li class=\"\"><a href=\"/company/microsoft\">Microsoft</a></li><li class=\"\"><a href=\"/company/netapp\">NetApp</a></li><li class=\"\"><a href=\"/company/netflix\">Netflix</a></li><li class=\"\"><a href=\"/company/nvidia?ref=hackernoon.com\">Nvidia</a></li></ul></section><section><header><a href=\"/new-feature-alert-913-tech-company-news-pages-on-hacker-noon-th1334q2\">O to Z</a></header><ul class=\"LinksList__Layout-j3vs07-0 gxAheh\"><li class=\"\"><a href=\"/company/oracle\">Oracle</a></li><li class=\"\"><a href=\"/company/pfizer\">Pfizer</a></li><li class=\"\"><a href=\"/company/samsung\">Samsung</a></li><li class=\"\"><a href=\"/company/sony\">Sony</a></li><li class=\"\"><a href=\"/company/tesla\">Tesla</a></li><li class=\"\"><a href=\"/company/texasinstruments\">Texas Instruments</a></li><li class=\"\"><a href=\"/company/tencent\">Tencent</a></li><li class=\"\"><a href=\"/company/3m\">3m</a></li><li class=\"\"><a href=\"/company/twitter\">Twitter</a></li><li class=\"\"><a href=\"/company/uber\">Uber</a></li><li class=\"\"><a href=\"/about-tech-company-news-pages-by-hacker-noon-uwu34bh\">Learn More</a></li><li class=\"\"><a href=\"/new-feature-alert-913-tech-company-news-pages-on-hacker-noon-th1334q2\">More Tech Companies</a></li></ul></section></div></li><li class=\"sponsor\"><a href=\"https://slogging.com\" target=\"_blank\">Slogging</a><button><i aria-hidden=\"true\" class=\"fa fa-angle-right\"></i></button></li><li class=\"\"><a href=\"https://help.hackernoon.com/\" target=\"_blank\">Help</a><button><i aria-hidden=\"true\" class=\"fa fa-angle-right\"></i></button><div class=\"NestedMobileNav__Layout-sc-1t0a8oo-0 eHbrSf dropdownNav\"><section><header><a href=\"https://help.hackernoon.com/284e303783eb4b758a3a0b756daf30d3\" target=\"_blank\">For Writers</a><button><i aria-hidden=\"true\" class=\"fas fa-times\"></i></button></header><ul class=\"LinksList__Layout-j3vs07-0 gxAheh\"><li class=\"\"><a href=\"https://help.hackernoon.com/submit-a-story-checklist\" target=\"_blank\">Submit a Story Checklist</a></li><li class=\"\"><a href=\"https://help.hackernoon.com/republishing-guide\" target=\"_blank\">Republishing Guideline</a></li><li class=\"\"><a href=\"https://help.hackernoon.com/your-profile-page\" target=\"_blank\">Understand Your Profile</a></li><li class=\"\"><a href=\"https://help.hackernoon.com/distribution\" target=\"_blank\">Story Distribution</a></li><li class=\"\"><a href=\"https://help.hackernoon.com/account-settings\" target=\"_blank\">Account Settings</a></li><li class=\"\"><a href=\"https://help.hackernoon.com/editorial-guideline\" target=\"_blank\">Editorial Guidelines</a></li><li class=\"\"><a href=\"https://help.hackernoon.com/use-our-editor\" target=\"_blank\">Our Text Editor</a></li><li class=\"\"><a href=\"https://help.hackernoon.com/why-was-my-story-rejected\" target=\"_blank\">Story Rejected?</a></li><li class=\"\"><a href=\"https://help.hackernoon.com/make-your-own-call-to-action-with-the-writer-ad-on-the-story-page-and-profile-page\" target=\"_blank\">Writer Ad</a></li></ul></section><section><header><a href=\"https://help.hackernoon.com/b22b7b1f997e432a81887c2d0b5d1ad2\" target=\"_blank\">For Readers</a></header><ul class=\"LinksList__Layout-j3vs07-0 gxAheh\"><li class=\"\"><a href=\"https://help.hackernoon.com/customize-your-tech-brief\" target=\"_blank\">Customize Your Tech Brief</a></li><li class=\"\"><a href=\"/archives/yesterday\">Archive</a></li><li class=\"\"><a href=\"https://help.hackernoon.com/bookmark-stories\" target=\"_blank\">Bookmarks</a></li><li class=\"\"><a href=\"https://help.hackernoon.com/react-with-emojis\" target=\"_blank\">Emoji Reactions</a></li><li class=\"\"><a href=\"https://help.hackernoon.com/getting-started\" target=\"_blank\">Getting Started</a></li><li class=\"\"><a href=\"https://help.hackernoon.com/is-hacker-noon-free-to-read\" target=\"_blank\">Is this really ALL free?</a></li><li class=\"\"><a href=\"/search?query=\">Learn Anything</a></li><li class=\"\"><a href=\"https://help.hackernoon.com/navigate-hacker-noon\" target=\"_blank\">Navigate Tips</a></li><li class=\"\"><a href=\"/signup\">Signup</a></li></ul></section></div></li></ul></div></nav></div><div data-focus-guard=\"true\" tabindex=\"-1\" style=\"width:1px;height:0px;padding:0;overflow:hidden;position:fixed;top:1px;left:1px\"></div></div></div><div class=\"SubNav__Layout-sc-1va6hiz-0 iIPKKj subNav\"><ul class=\"LinksList__Layout-j3vs07-0 gxAheh\"><li class=\"\"><a href=\"/tagged\">Read</a><div class=\"DropdownNav__Layout-lhyy45-0 jNYqFz dropdownNav\"><section><header><a href=\"/tagged/tech\">Tech</a><div class=\"line\"></div></header><ul class=\"LinksList__Layout-j3vs07-0 gxAheh\"><li class=\"\"><a href=\"/tagged/ai\">AI</a></li><li class=\"\"><a href=\"/tagged/automation\">Automation</a></li><li class=\"\"><a href=\"/tagged/business\">Business</a></li><li class=\"\"><a href=\"/tagged/data\">Data</a></li><li class=\"\"><a href=\"/tagged/data-science\">Data Science</a></li><li class=\"\"><a href=\"/tagged/deep-fakes\">Deep Fakes</a></li><li class=\"\"><a href=\"/tagged/economics\">Economics</a></li><li class=\"\"><a href=\"/tagged/entrepreneurship\">Entrepreneurship</a></li><li class=\"\"><a href=\"/tagged/future\">Future</a></li><li class=\"\"><a href=\"/tagged/founders\">Founders</a></li><li class=\"\"><a href=\"/tagged/funding\">Funding</a></li><li class=\"\"><a href=\"/tagged/iot\">Iot</a></li><li class=\"\"><a href=\"/tagged/management\">Management</a></li><li class=\"\"><a href=\"/tagged/marketing\">Marketing</a></li><li class=\"\"><a href=\"/rick-and-morty-and-the-meaning-of-life-6640df17e263\">Meaning of Life</a></li><li class=\"\"><a href=\"/tagged/robotics\">Robotics</a></li><li class=\"\"><a href=\"/tagged/self-driving-cars\">Self-Driving Cars</a></li><li class=\"\"><a href=\"/tagged/startups\">Startups</a></li><li class=\"\"><a href=\"/tagged/venture-capital\">Venture Capital</a></li><li class=\"\"><a href=\"/tagged/virtual-reality\">Virtual Reality</a></li></ul></section><section><header><a href=\"/tagged/software-development\">Software</a><div class=\"line\"></div></header><ul class=\"LinksList__Layout-j3vs07-0 gxAheh\"><li class=\"\"><a href=\"/tagged/agile\">Agile</a></li><li class=\"\"><a href=\"/tagged/api\">APIs</a></li><li class=\"\"><a href=\"/tagged/software-architecture\">Architecture</a></li><li class=\"\"><a href=\"/tagged/c\">C</a></li><li class=\"\"><a href=\"/tagged/coding\">Coding</a></li><li class=\"\"><a href=\"/tagged/engineering\">Engineering</a></li><li class=\"\"><a href=\"/tagged/java\">Java</a></li><li class=\"\"><a href=\"/tagged/javascript\">Javascript</a></li><li class=\"\"><a href=\"/tagged/lisk\">Lisk</a></li><li class=\"\"><a href=\"/four-startup-engineering-killers-1fb5c498391d\">Killers</a></li><li class=\"\"><a href=\"/tagged/mvp\">MVP</a></li><li class=\"\"><a href=\"/tagged/nodejs\">NodeJS</a></li><li class=\"\"><a href=\"/tagged/open-source\">Open Source</a></li><li class=\"\"><a href=\"/tagged/php\">PHP</a></li><li class=\"\"><a href=\"/tagged/programming\">Programming</a></li><li class=\"\"><a href=\"/tagged/python\">Python</a></li><li class=\"\"><a href=\"/tagged/react\">React</a></li><li class=\"\"><a href=\"/tagged/ruby\">Ruby</a></li><li class=\"\"><a href=\"/tagged/sql\">SQL</a></li><li class=\"\"><a href=\"/tagged/swift\">Swift</a></li><li class=\"\"><a href=\"/tagged/vim\">Vim</a></li></ul></section><section><header><a href=\"/tagged/decentralization\">Decentralization</a><div class=\"line\"></div></header><ul class=\"LinksList__Layout-j3vs07-0 gxAheh\"><li class=\"\"><a href=\"/tagged/altcoins\">Altcoins</a></li><li class=\"\"><a href=\"/tagged/bitcoin\">Bitcoin</a></li><li class=\"\"><a href=\"/tagged/bitcoin-spotlight\">Bitcoin Spotlight</a></li><li class=\"\"><a href=\"/tagged/blockchain\">Blockchain</a></li><li class=\"\"><a href=\"https://coil.com?ref=hackernoon.com\" target=\"_blank\">Coil</a></li><li class=\"\"><a href=\"/tagged/cryptocurrency\">Cryptocurrency</a></li><li class=\"\"><a href=\"/tagged/cardano\">Cardano</a></li><li class=\"\"><a href=\"/tagged/dapps\">DApps</a></li><li class=\"\"><a href=\"/decentralizing-everything-never-seems-to-work-2bb0461bd168\">Does It Work?</a></li><li class=\"\"><a href=\"/tagged/decentralized-web\">DWeb</a></li><li class=\"\"><a href=\"/tagged/eos\">EOS</a></li><li class=\"\"><a href=\"/tagged/ethereum\">Ethereum</a></li><li class=\"\"><a href=\"/tagged/finance\">Finance</a></li><li class=\"\"><a href=\"https://bit.ly/2Pomq1x\" target=\"_blank\">Free TON</a></li><li class=\"\"><a href=\"/tagged/libra\">Libra</a></li><li class=\"\"><a href=\"/why-everyone-missed-the-most-important-invention-in-the-last-500-years-c90b0151c169\">Mind Blown</a></li><li class=\"\"><a href=\"/tagged/ripple\">Ripple</a></li><li class=\"\"><a href=\"/tagged/space\">Space</a></li><li class=\"\"><a href=\"/tagged/tether\">Tether</a></li><li class=\"\"><a href=\"/how-to-decentralize-twitter-956a37da\">Twitter</a></li></ul></section></div></li><li class=\"sponsor\"><a href=\"/tagged/hackernoon-top-story\">Top Stories</a></li><li class=\"sponsor\"><a href=\"https://publish.hackernoon.com\" target=\"_blank\">Write</a></li><li class=\"sponsor\"><a href=\"/tagged/hackernoon-podcast\">Listen</a></li><li class=\"\"><a href=\"https://bit.ly/3rG0tZy\" target=\"_blank\">Learn</a><div class=\"DropdownNav__Layout-lhyy45-0 jNYqFz dropdownNav\"><section><header><a href=\"https://bit.ly/3aOybUa\" target=\"_blank\">Web Development</a><div class=\"line\"></div></header><ul class=\"LinksList__Layout-j3vs07-0 gxAheh\"><li class=\"\"><a href=\"https://bit.ly/3rFSgEM\" target=\"_blank\">Become a Cloud Developer 🔗</a></li><li class=\"\"><a href=\"https://bit.ly/3t14msY\" target=\"_blank\">300 Scholarships - School of Cloud Computing 🔗</a></li><li class=\"\"><a href=\"https://bit.ly/2Z2V9mB\" target=\"_blank\">Become A Fullstack Developer 🔗</a></li><li class=\"\"><a href=\"https://bit.ly/2Z5P4FY\" target=\"_blank\">Become Android Developer🔗</a></li><li class=\"\"><a href=\"/how-to-learn-design-patterns-and-pretty-much-anything-else-9c5af6ceaba4\">Design Patterns</a></li><li class=\"\"><a href=\"/the-feynman-learning-technique-how-to-learn-anything-well-v9x3w7f\">Feynman Technique</a></li><li class=\"\"><a href=\"/learn-to-code-in-30-days-my-personal-journey-yv3y3ua0\">In 30 Days</a></li><li class=\"\"><a href=\"/things-i-learned-from-6-months-of-coding-8w1772dbx\">In 6 Months</a></li><li class=\"\"><a href=\"/tagged/learning-to-code\">Learning to Code</a></li><li class=\"\"><a href=\"/learning-how-to-learn-is-more-important-than-learning-to-code-gy9c3u5c\">Learning to Learn</a></li><li class=\"\"><a href=\"/8-free-online-games-to-help-you-learn-coding-vf1k3wld\">Learning via Games</a></li><li class=\"\"><a href=\"https://bit.ly/3qclfj2\" target=\"_blank\">Cybersecurity 🔗</a></li></ul></section><section><header><a href=\"https://bit.ly/3p6Xtna\" target=\"_blank\">Data Science</a><div class=\"line\"></div></header><ul class=\"LinksList__Layout-j3vs07-0 gxAheh\"></ul></section><section><header><a href=\"https://bit.ly/2IEtq3D\" target=\"_blank\">Languages</a><div class=\"line\"></div></header><ul class=\"LinksList__Layout-j3vs07-0 gxAheh\"><li class=\"\"><a href=\"/search?query=learn+blockchain\">Blockchain</a></li><li class=\"\"><a href=\"/search?query=learn%20C#\">C C# C++</a></li><li class=\"\"><a href=\"/search?query=learn%20go\">Go</a></li><li class=\"\"><a href=\"https://bit.ly/3q9Egm6\" target=\"_blank\">HTML &amp; CSS🔗</a></li><li class=\"\"><a href=\"https://bit.ly/2Z5Q1y2\" target=\"_blank\">Javascript🔗</a></li><li class=\"\"><a href=\"/search?query=learn%20php\">PHP</a></li><li class=\"\"><a href=\"https://bit.ly/3p2Wkx7\" target=\"_blank\">Python 🔗</a></li><li class=\"\"><a href=\"/search?query=learn%20ruby-on-rails\">Ruby on Rails</a></li><li class=\"\"><a href=\"https://bit.ly/2Z01G1w\" target=\"_blank\">SQL 🔗</a></li><li class=\"\"><a href=\"https://bit.ly/3rG0tZy\" target=\"_blank\">In Partnership With Udacity</a></li></ul></section></div></li><li class=\"sponsor\"><a href=\"/live\">Live</a></li><li class=\"sponsor\"><a href=\"https://sponsor.hackernoon.com/\" target=\"_blank\">Advertise</a><div class=\"DropdownNav__Layout-lhyy45-0 jNYqFz dropdownNav\"><section><header><a href=\"https://sponsor.hackernoon.com/brand-as-author\" target=\"_blank\">Post</a><div class=\"line\"></div></header><ul class=\"LinksList__Layout-j3vs07-0 gxAheh\"><li class=\"\"><a href=\"https://sponsor.hackernoon.com/brand-as-author\" target=\"_blank\">Corporate Blog Posts</a></li><li class=\"\"><a href=\"https://sponsor.hackernoon.com/brand-as-author\" target=\"_blank\">Tech News Release</a></li></ul></section><section><header><a href=\"https://sponsor.hackernoon.com\" target=\"_blank\">Place an Ad</a><div class=\"line\"></div></header><ul class=\"LinksList__Layout-j3vs07-0 gxAheh\"><li class=\"\"><a href=\"https://sponsor.hackernoon.com/ad-by-tag\" target=\"_blank\">Targeted Niche Marketing</a></li><li class=\"\"><a href=\"https://sponsor.hackernoon.com/billboard\" target=\"_blank\">Sitewide Takeover</a></li></ul></section></div></li><li class=\"\"><a href=\"https://about.hackernoon.com/\" target=\"_blank\">About</a><div class=\"DropdownNav__Layout-lhyy45-0 jNYqFz dropdownNav\"><section><header><a href=\"https://about.hackernoon.com/\" target=\"_blank\">About</a><div class=\"line\"></div></header><ul class=\"LinksList__Layout-j3vs07-0 gxAheh\"><li class=\"\"><a href=\"https://readwrite.com/2020/06/10/hacker-noon-adds-quantitative-social-proof-and-web-monetization-standards/\" target=\"_blank\">A Story</a></li><li class=\"\"><a href=\"https://careers.hackernoon.com/\" target=\"_blank\">Careers</a></li><li class=\"\"><a href=\"/@David\">CEO</a></li><li class=\"\"><a href=\"/@linh\">COO</a></li><li class=\"\"><a href=\"/@Dane\">CPO</a></li><li class=\"\"><a href=\"https://www.startengine.com/hackernoon\" target=\"_blank\">Equity Crowdfunding</a></li><li class=\"\"><a href=\"/hacker-noon-faqs-with-six-word-answers-aw1ls3z1q\">In Six Words or Less</a></li><li class=\"\"><a href=\"https://www.linkedin.com/company/hackernoon\" target=\"_blank\">LinkedIn</a></li><li class=\"\"><a href=\"https://www.instagram.com/hackernoon/\" target=\"_blank\">On the Gram</a></li><li class=\"\"><a href=\"https://podcast.hackernoon.com/\" target=\"_blank\">Our Podcast</a></li><li class=\"\"><a href=\"https://giphy.com/hackernoon\" target=\"_blank\">Tech GIFs</a></li></ul></section><section><header><a href=\"https://auth.hackernoon.com\" target=\"_blank\">Write</a><div class=\"line\"></div></header><ul class=\"LinksList__Layout-j3vs07-0 gxAheh\"><li class=\"\"><a href=\"https://app.hackernoon.com/profile/rewards\" target=\"_blank\">Add Coil Meta Tag</a></li><li class=\"\"><a href=\"/three-things-about-headlines-3wc23ztl\">Better Headlines</a></li><li class=\"\"><a href=\"https://help.hackernoon.com/app/page/1HNTGwm_UAfdEv9nEKmZHjQHRJtYgLnMIEZ6Vw_ZRZvQ\" target=\"_blank\">Create Your Own Call To Action</a></li><li class=\"\"><a href=\"https://help.hackernoon.com/\" target=\"_blank\">Help Section</a></li><li class=\"\"><a href=\"https://publish.hackernoon.com/\" target=\"_blank\">Get Published</a></li><li class=\"\"><a href=\"https://help.hackernoon.com/app/page/1-wg7bxonxAFWdTYl5G4gJwvWLo0iWfBi-XKbdjcYva0\" target=\"_blank\">Submit a Story Checklist</a></li><li class=\"\"><a href=\"https://help.hackernoon.com/app/page/1fWmAG6zSc-EuxBhHYt-tUIR0wfefRxkmpVRD46byKTw\" target=\"_blank\">Troubleshooting Account Creation</a></li><li class=\"\"><a href=\"/how-to-get-published-on-hacker-noon-a-step-by-step-guide-zcp36rz\">Writing Guide</a></li><li class=\"\"><a href=\"https://auth.hackernoon.com\" target=\"_blank\">Write Now</a></li></ul></section><section><header><a href=\"https://noonies.tech\" target=\"_blank\">Noonies 2020</a><div class=\"line\"></div></header><ul class=\"LinksList__Layout-j3vs07-0 gxAheh\"><li class=\"\"><a href=\"https://noonies.tech/#internet\" target=\"_blank\">Back to the Internet</a></li><li class=\"\"><a href=\"https://noonies.tech/#blockchain\" target=\"_blank\">Decentralization</a></li><li class=\"\"><a href=\"/wtf-are-the-noonies-kjh3yv9\">FAQ</a></li><li class=\"\"><a href=\"https://noonies.tech/#heroes\" target=\"_blank\">Future Heroes</a></li><li class=\"\"><a href=\"/tagged/noonies\">Interviews</a></li><li class=\"\"><a href=\"/podcast-the-2020-noonies-are-here-and-even-greener-than-last-year-vle3y4c\">Podcast</a></li><li class=\"\"><a href=\"https://noonies.tech/#development\" target=\"_blank\">Software</a></li><li class=\"\"><a href=\"/tagged/noonies\">Stories</a></li><li class=\"\"><a href=\"https://noonies.tech/#tech\" target=\"_blank\">Technology</a></li><li class=\"\"><a href=\"https://www.youtube.com/watch?v=A9cdOVuOfp8\" target=\"_blank\">Video</a></li><li class=\"\"><a href=\"https://noonies.hackernoon.com/\" target=\"_blank\">2019 Inaugerial Winners</a></li></ul></section></div></li><li class=\"\"><a href=\"/companies\">Tech Companies</a><div class=\"DropdownNav__Layout-lhyy45-0 jNYqFz dropdownNav\"><section><header><a href=\"/new-feature-alert-913-tech-company-news-pages-on-hacker-noon-th1334q2\">A to F</a><div class=\"line\"></div></header><ul class=\"LinksList__Layout-j3vs07-0 gxAheh\"><li class=\"\"><a href=\"/company/adobe\">Adobe</a></li><li class=\"\"><a href=\"/company/alphabet\">Alphabet</a></li><li class=\"\"><a href=\"/company/amazon\">Amazon</a></li><li class=\"\"><a href=\"/company/apache\">Apache</a></li><li class=\"\"><a href=\"/company/apple\">Apple</a></li><li class=\"\"><a href=\"/company/att\">ATT</a></li><li class=\"\"><a href=\"/company/bankofamerica\">BoA</a></li><li class=\"\"><a href=\"/company/coinbase\">Coinbase</a></li><li class=\"\"><a href=\"/company/comcast\">Comcast</a></li><li class=\"\"><a href=\"/company/ebay\">Ebay</a></li><li class=\"\"><a href=\"/company/facebook\">Facebook</a></li><li class=\"\"><a href=\"/company/foxconn\">Foxconn</a></li></ul></section><section><header><a href=\"/new-feature-alert-913-tech-company-news-pages-on-hacker-noon-th1334q2\">G to N</a><div class=\"line\"></div></header><ul class=\"LinksList__Layout-j3vs07-0 gxAheh\"><li class=\"\"><a href=\"/company/google\">Google</a></li><li class=\"\"><a href=\"/company/hp\">HP</a></li><li class=\"\"><a href=\"/company/huawei\">Huawei</a></li><li class=\"\"><a href=\"/company/ibm\">IBM</a></li><li class=\"\"><a href=\"/company/intel\">Intel</a></li><li class=\"\"><a href=\"/company/intuit\">Intuit</a></li><li class=\"\"><a href=\"/company/lenovogroup\">Lenovo</a></li><li class=\"\"><a href=\"/company/mcdonald\">McDonalds</a></li><li class=\"\"><a href=\"/company/microsoft\">Microsoft</a></li><li class=\"\"><a href=\"/company/netapp\">NetApp</a></li><li class=\"\"><a href=\"/company/netflix\">Netflix</a></li><li class=\"\"><a href=\"/company/nvidia?ref=hackernoon.com\">Nvidia</a></li></ul></section><section><header><a href=\"/new-feature-alert-913-tech-company-news-pages-on-hacker-noon-th1334q2\">O to Z</a><div class=\"line\"></div></header><ul class=\"LinksList__Layout-j3vs07-0 gxAheh\"><li class=\"\"><a href=\"/company/oracle\">Oracle</a></li><li class=\"\"><a href=\"/company/pfizer\">Pfizer</a></li><li class=\"\"><a href=\"/company/samsung\">Samsung</a></li><li class=\"\"><a href=\"/company/sony\">Sony</a></li><li class=\"\"><a href=\"/company/tesla\">Tesla</a></li><li class=\"\"><a href=\"/company/texasinstruments\">Texas Instruments</a></li><li class=\"\"><a href=\"/company/tencent\">Tencent</a></li><li class=\"\"><a href=\"/company/3m\">3m</a></li><li class=\"\"><a href=\"/company/twitter\">Twitter</a></li><li class=\"\"><a href=\"/company/uber\">Uber</a></li><li class=\"\"><a href=\"/about-tech-company-news-pages-by-hacker-noon-uwu34bh\">Learn More</a></li><li class=\"\"><a href=\"/new-feature-alert-913-tech-company-news-pages-on-hacker-noon-th1334q2\">More Tech Companies</a></li></ul></section></div></li><li class=\"sponsor\"><a href=\"https://slogging.com\" target=\"_blank\">Slogging</a></li><li class=\"\"><a href=\"https://help.hackernoon.com/\" target=\"_blank\">Help</a><div class=\"DropdownNav__Layout-lhyy45-0 jNYqFz dropdownNav\"><section><header><a href=\"https://help.hackernoon.com/284e303783eb4b758a3a0b756daf30d3\" target=\"_blank\">For Writers</a><div class=\"line\"></div></header><ul class=\"LinksList__Layout-j3vs07-0 gxAheh\"><li class=\"\"><a href=\"https://help.hackernoon.com/submit-a-story-checklist\" target=\"_blank\">Submit a Story Checklist</a></li><li class=\"\"><a href=\"https://help.hackernoon.com/republishing-guide\" target=\"_blank\">Republishing Guideline</a></li><li class=\"\"><a href=\"https://help.hackernoon.com/your-profile-page\" target=\"_blank\">Understand Your Profile</a></li><li class=\"\"><a href=\"https://help.hackernoon.com/distribution\" target=\"_blank\">Story Distribution</a></li><li class=\"\"><a href=\"https://help.hackernoon.com/account-settings\" target=\"_blank\">Account Settings</a></li><li class=\"\"><a href=\"https://help.hackernoon.com/editorial-guideline\" target=\"_blank\">Editorial Guidelines</a></li><li class=\"\"><a href=\"https://help.hackernoon.com/use-our-editor\" target=\"_blank\">Our Text Editor</a></li><li class=\"\"><a href=\"https://help.hackernoon.com/why-was-my-story-rejected\" target=\"_blank\">Story Rejected?</a></li><li class=\"\"><a href=\"https://help.hackernoon.com/make-your-own-call-to-action-with-the-writer-ad-on-the-story-page-and-profile-page\" target=\"_blank\">Writer Ad</a></li></ul></section><section><header><a href=\"https://help.hackernoon.com/b22b7b1f997e432a81887c2d0b5d1ad2\" target=\"_blank\">For Readers</a><div class=\"line\"></div></header><ul class=\"LinksList__Layout-j3vs07-0 gxAheh\"><li class=\"\"><a href=\"https://help.hackernoon.com/customize-your-tech-brief\" target=\"_blank\">Customize Your Tech Brief</a></li><li class=\"\"><a href=\"/archives/yesterday\">Archive</a></li><li class=\"\"><a href=\"https://help.hackernoon.com/bookmark-stories\" target=\"_blank\">Bookmarks</a></li><li class=\"\"><a href=\"https://help.hackernoon.com/react-with-emojis\" target=\"_blank\">Emoji Reactions</a></li><li class=\"\"><a href=\"https://help.hackernoon.com/getting-started\" target=\"_blank\">Getting Started</a></li><li class=\"\"><a href=\"https://help.hackernoon.com/is-hacker-noon-free-to-read\" target=\"_blank\">Is this really ALL free?</a></li><li class=\"\"><a href=\"/search?query=\">Learn Anything</a></li><li class=\"\"><a href=\"https://help.hackernoon.com/navigate-hacker-noon\" target=\"_blank\">Navigate Tips</a></li><li class=\"\"><a href=\"/signup\">Signup</a></li></ul></section></div></li></ul></div><div class=\"StoryNav__Layout-sc-12ttt65-0 jmzeuS story-nav show\"><div class=\"title\"><a class=\"icon\" href=\"/\"><img src=\"/hn-icon.png\" alt=\"Hackernoon logo\"/></a>Top 9 Use Cases for Human Resources Automation<!-- --> by<a class=\"profile\" href=\"/u/marutitechlabs\">@<!-- -->marutitechlabs</a></div><div class=\"sharing\"><div></div></div></div></header><main class=\"Page__Content-hhevz5-1 dzzaNg\"><div class=\"Container-sc-11afu3a-0 Story__Layout-sc-1k5ahq9-0 ChiNr\"><h1>Top 9 Use Cases for Human Resources Automation</h1><div class=\"StoryMeta__Layout-sc-1z0kit8-0 bUOwyd\"><div><a class=\"date\" href=\"/archives/2021/06/02\">June 2nd 2021<!-- --> </a><span class=\"stat\"><i aria-hidden=\"true\" class=\"fas fa-seedling\"></i> new story</span><button data-tip=\"Bookmark story\" data-for=\"X0Vbj5rySU72836Aza9X\" data-html=\"true\" data-delay-hide=\"1000\" class=\"Bookmark__Layout-sc-9eyvkj-0 jBeNHn bookmark  \"><i aria-hidden=\"true\" class=\"fas fa-bookmark \"></i></button></div><div class=\"StoryReactions__Layout-sc-148l719-0 iGFhHb\"><div class=\"reactions\"><label></label><div class=\"emojis\"><div class=\"emoji-container\"><span></span><img data-usertype=\"user\" data-emoji=\"heart\" class=\"emoji not-active\" src=\"/emojis/heart.png\"/><img class=\"emoji-animation icon-1\" src=\"/emojis/heart.png\"/><img class=\"emoji-animation icon-2\" src=\"/emojis/heart.png\"/><img class=\"emoji-animation icon-3\" src=\"/emojis/heart.png\"/></div><div class=\"emoji-container\"><span></span><img data-usertype=\"user\" data-emoji=\"light\" class=\"emoji not-active\" src=\"/emojis/light.png\"/><img class=\"emoji-animation icon-1\" src=\"/emojis/light.png\"/><img class=\"emoji-animation icon-2\" src=\"/emojis/light.png\"/><img class=\"emoji-animation icon-3\" src=\"/emojis/light.png\"/></div><div class=\"emoji-container\"><span></span><img data-usertype=\"user\" data-emoji=\"boat\" class=\"emoji not-active\" src=\"/emojis/boat.png\"/><img class=\"emoji-animation icon-1\" src=\"/emojis/boat.png\"/><img class=\"emoji-animation icon-2\" src=\"/emojis/boat.png\"/><img class=\"emoji-animation icon-3\" src=\"/emojis/boat.png\"/></div><div class=\"emoji-container\"><span></span><img data-usertype=\"user\" data-emoji=\"money\" class=\"emoji not-active\" src=\"/emojis/money.png\"/><img class=\"emoji-animation icon-1\" src=\"/emojis/money.png\"/><img class=\"emoji-animation icon-2\" src=\"/emojis/money.png\"/><img class=\"emoji-animation icon-3\" src=\"/emojis/money.png\"/></div></div></div></div><div style=\"display:none\"><div class=\"SocialLinks-sc-1bbo2b4-0 ejwIzg\"><button aria-label=\"twitter\" class=\"react-share__ShareButton\" style=\"background-color:transparent;border:none;padding:0;font:inherit;color:inherit;cursor:pointer\"><img src=\"/social-icons/twitter-new.png\" alt=\"Twitter share icon\"/></button><button aria-label=\"facebook\" class=\"react-share__ShareButton\" style=\"background-color:transparent;border:none;padding:0;font:inherit;color:inherit;cursor:pointer\"><img src=\"/social-icons/facebook-new.png\" alt=\"Facebook share icon\"/></button><button aria-label=\"linkedin\" class=\"react-share__ShareButton\" style=\"background-color:transparent;border:none;padding:0;font:inherit;color:inherit;cursor:pointer\"><img src=\"/social-icons/linkedin-new.png\" alt=\"LinkedIn share icon\"/></button><button aria-label=\"email\" class=\"react-share__ShareButton\" style=\"background-color:transparent;border:none;padding:0;font:inherit;color:inherit;cursor:pointer\"><img class=\"email-icon\" src=\"/social-icons/email-new.png\" alt=\"Email share icon\"/></button></div></div></div><div class=\"image-container feat\"><div class=\"FullScreenToggleImage__Layout-yxmb5o-0 fsbpZf\"><div class=\"fullscreen\"><img alt=\"\" src=\"https://cdn.hackernoon.com/images/JT8PoynXQmYP92waUX1nYlVf9Im1-26m341m.jpeg\" class=\"img\"/></div></div></div><div class=\"Profile__Layout-sc-1j6ysg0-0 hPgNlb profile\"><a href=\"/u/marutitechlabs\"><div style=\"width:50px;height:50px;position:relative\" class=\"profileImage\"><div style=\"display:block;overflow:hidden;position:absolute;top:0;left:0;bottom:0;right:0;box-sizing:border-box;margin:0\"><noscript><img alt=\"Maruti Techlabs  Hacker Noon profile picture\" srcSet=\"/_next/image?url=https%3A%2F%2Fcdn.hackernoon.com%2Fimages%2FJT8PoynXQmYP92waUX1nYlVf9Im1-6t03468.jpeg&amp;w=640&amp;q=75 640w, /_next/image?url=https%3A%2F%2Fcdn.hackernoon.com%2Fimages%2FJT8PoynXQmYP92waUX1nYlVf9Im1-6t03468.jpeg&amp;w=750&amp;q=75 750w, /_next/image?url=https%3A%2F%2Fcdn.hackernoon.com%2Fimages%2FJT8PoynXQmYP92waUX1nYlVf9Im1-6t03468.jpeg&amp;w=828&amp;q=75 828w, /_next/image?url=https%3A%2F%2Fcdn.hackernoon.com%2Fimages%2FJT8PoynXQmYP92waUX1nYlVf9Im1-6t03468.jpeg&amp;w=1080&amp;q=75 1080w, /_next/image?url=https%3A%2F%2Fcdn.hackernoon.com%2Fimages%2FJT8PoynXQmYP92waUX1nYlVf9Im1-6t03468.jpeg&amp;w=1200&amp;q=75 1200w, /_next/image?url=https%3A%2F%2Fcdn.hackernoon.com%2Fimages%2FJT8PoynXQmYP92waUX1nYlVf9Im1-6t03468.jpeg&amp;w=1920&amp;q=75 1920w, /_next/image?url=https%3A%2F%2Fcdn.hackernoon.com%2Fimages%2FJT8PoynXQmYP92waUX1nYlVf9Im1-6t03468.jpeg&amp;w=2048&amp;q=75 2048w, /_next/image?url=https%3A%2F%2Fcdn.hackernoon.com%2Fimages%2FJT8PoynXQmYP92waUX1nYlVf9Im1-6t03468.jpeg&amp;w=3840&amp;q=75 3840w\" src=\"https://cdn.hackernoon.com/images/JT8PoynXQmYP92waUX1nYlVf9Im1-6t03468.jpeg\" decoding=\"async\" style=\"position:absolute;top:0;left:0;bottom:0;right:0;box-sizing:border-box;padding:0;border:none;margin:auto;display:block;width:0;height:0;min-width:100%;max-width:100%;min-height:100%;max-height:100%;object-fit:contain\"/></noscript><img alt=\"Maruti Techlabs  Hacker Noon profile picture\" src=\"data:image/gif;base64,R0lGODlhAQABAIAAAAAAAP///yH5BAEAAAAALAAAAAABAAEAAAIBRAA7\" decoding=\"async\" style=\"position:absolute;top:0;left:0;bottom:0;right:0;box-sizing:border-box;padding:0;border:none;margin:auto;display:block;width:0;height:0;min-width:100%;max-width:100%;min-height:100%;max-height:100%;object-fit:contain\"/></div></div></a><div><h3><a href=\"/u/marutitechlabs\" class=\"Link-k8dxie-0 edxnaq\">@<!-- -->marutitechlabs</a><small>Maruti Techlabs </small></h3><p>We are leading chatbot &amp; enterprise software development services provider in India.</p><div class=\"SocialLinks-sc-1bbo2b4-0 Follow__Layout-sc-12l5d2g-0 dcgsMq\"><a href=\"https://www.linkedin.com/company/maruti-techlabs-pvt-ltd/\" target=\"_blank\" rel=\"dofollow\"><img src=\"/social-icons/linkedin-new.png\" alt=\"LinkedIn social icon\" width=\"24\" height=\"24\" loading=\"lazy\"/></a><a href=\"https://facebook.com/marutitech\" target=\"_blank\" rel=\"dofollow\"><img src=\"/social-icons/facebook-new.png\" alt=\"facebook social icon\" width=\"24\" height=\"24\" loading=\"lazy\"/></a><a href=\"https://twitter.com/MarutiTech\" target=\"_blank\" rel=\"dofollow\"><img src=\"/social-icons/twitter-new.png\" alt=\"Twitter social icon\" width=\"24\" height=\"24\" loading=\"lazy\"/></a></div></div></div><p class=\"paragraph\">Robotic Process Automation (RPA) is a relatively recent technology that has fundamentally changed the way we think about routine and repetitive operations. Deloitte’s <a href=\"https://www2.deloitte.com/ch/en/pages/human-capital/solutions/human-capital-robotic-process-automation.html?ref=hackernoon.com\" target=\"_blank\" rel=\"noopener noreferrer ugc\">recent survey</a> results confirmed that more than 74% of respondents are open to engaging with upcoming technologies in the near future, with almost 22% of them have already tried or implemented Robotic Process Automation.</p><p class=\"paragraph\">Human resources automation using RPA will allow organizations to automate transactional processes so that the HR team can focus on more strategic and meaningful responsibilities. It will enable redirection of time and resources on more productive activities such as giving face time to your employees or conflict resolution.</p><h2>Human Resources Automation using RPA</h2><p class=\"paragraph\">RPA in HR operations focuses on micro-tasks, allowing it to integrate all of the processes and programs that the old systems were unable to handle effectively. This is done by running a software code that performs repetitive and high-volume operational activities on behalf of the HR work staff.</p><p class=\"paragraph\">The operations that it covers range from hiring new employees, processing payroll, and evaluating benefits to creating compliance reports that are all very time-consuming and labor-intensive. RPA adds accuracy and speed to data processing and can be instrumental in cutting down HR-related costs. The benefits of RPA in HR can revolutionize the industry by enhancing work efficiency and improving ROIs.</p><h2>9 Real World Use Cases of Human Resources Automation</h2><p class=\"paragraph\">RPA provides firms and their HR departments with a slew of distinct and quantifiable advantages. Some prominent use cases are discussed below:</p><p class=\"paragraph\"><strong>1. CV Screening and Shortlisting</strong></p><p class=\"paragraph\">One significant HR activity constitutes screening resumes and applications received for open positions. The RPA technology makes this process considerably easier by quickly consolidating applications and comparing all of the data to a list of predefined job criteria.</p><p class=\"paragraph\">These requirements may be viewed as predetermined guidelines that influence the whole selection process. The technology also helps with eliminating the need for redundant paperwork by using a database that stores all the potential employees’ profiles. It also automates the communication process by notifying candidates of their interview results.</p><p class=\"paragraph\"><strong>2. Simplifying Onboarding</strong></p><p class=\"paragraph\">Employee onboarding is another tedious task requiring simultaneous efforts of multiple people for approvals, sign-off, access rights, account creation, etc. Here, RPA for human resources automation can be used to activate a specific template for a user account’s onboarding workflow.</p><p class=\"paragraph\">RPA may be utilized to expedite the whole onboarding operation. Software robots may then make rule-based decisions like which onboarding materials to transmit, which credentials to issue to the new employee, and so on. HR automation best practices help in:</p><ul><li>Reducing onboarding process cost</li><li>Increasing onboarding speed and efficiency</li><li>Eliminating manual errors in the onboarding process, thereby increasing accuracy.</li></ul><p class=\"paragraph\"><strong>3. Employee Data Management</strong></p><p class=\"paragraph\">One of the critical areas under HR job functionality is employee data management. Maintaining this database requires organized and consistent activities across databases and data formats, ranging from payroll and employee perks and benefits to company rules and regulations.</p><p class=\"paragraph\">Human resources automation can be leveraged to make jobs like personnel administration much easier to perform, lowering the risk of inaccurate data entry to a bare minimum. RPA additionally performs data cleaning operations regularly to maintain data consistency across numerous databases.</p><p class=\"paragraph\"><strong>4. Payroll Processing</strong></p><p class=\"paragraph\">It is no surprise that processing payments are among the most crucial tasks undertaken by the HR department. Unfortunately, it is a very mundane and repetitive task requiring a large amount of data entry regularly and is highly prone to manual errors.</p><p class=\"paragraph\">Human resources automation can streamline the payroll process by collecting and linking data from numerous systems and databases such as employee management, general ledger, accounts payable, time tracker, etc. They help in employee work-hours verification and create automated reports on the number of working hours registered, overtime, leave, timeouts, missing hours, etc.</p><p class=\"paragraph\"><strong>5. Tracking Attendance</strong></p><p class=\"paragraph\">By cross-checking self-reports against time documented in the business record and reporting any inconsistencies to HR management, RPA-based software robots can make attendance monitoring easier. Furthermore, bots might suggest reallocating various labor resources in the event of significant absenteeism, assisting the HR department in avoiding workflow interruptions.</p><p class=\"paragraph\"><strong>6. Expense Management</strong></p><p class=\"paragraph\">One of the most tedious and time-consuming tasks of HR managers is to keep track of travel, food, and other such expenditures. The task becomes even more grueling when dealing with missing receipts, late expense submissions, unforeseen expenses, unauthorized spending, etc.</p><p class=\"paragraph\">Using an RPA system for expenditure management helps businesses extract all of the necessary information from cost receipts automatically, thereby saving time. This also eliminates the need for them to carry around expenditure receipts because they can take photographs of them, and RPA will automatically retrieve all essential data.</p><p class=\"paragraph\"><strong>7. Calculation of Shift Allowance</strong></p><p class=\"paragraph\">Shift allowances are calculated through employee in-and-out swipe data stored in various HR backend systems. This data is used to generate shift allowance. Because of the vast datasets, this is an entirely manual procedure that takes a long time and has a significant risk of mistakes.</p><p class=\"paragraph\">RPA bots read and validate data from several backend systems automatically. Furthermore, the bots can perform this regularly, resulting in on-time allowance clearance and reduced manual efforts, and average handling time with zero mistakes.</p><p class=\"paragraph\"><strong>8. Performance Management</strong></p><p class=\"paragraph\">RPA can effectively handle employee performance management by reviewing and analyzing employee’s goal settings, expectations, incentives, and reward calculations. It helps the HR department keep the organization’s productivity consistently high, removes extra manual effort, and reduces employee evaluation chances.</p><p class=\"paragraph\"><strong>9. Employee Exit Management</strong></p><p class=\"paragraph\">While exiting an organization, several HR duties must be completed, including the preparation of leave documentation, the revocation of system access, and the full and final settlement. Any scope of error left here can result in several audit flags.</p><p class=\"paragraph\">RPA in HR may be pretty valuable in implementing a more efficient and well-organized off-boarding process. This is done by pre-determination of all the tasks involved in the exit process. The software extracts all the essential details from the various backend systems and sends emails to all the relevant departments for the next steps.\\xa0</p><h2>Concluding Thoughts</h2><p class=\"paragraph\">The scope and <a href=\"https://marutitech.com/roi-of-rpa/?ref=hackernoon.com\" target=\"_blank\" rel=\"noopener noreferrer ugc\">RoI of RPA</a> are continuously growing, and it is no longer restricted to certain aspects of a business. Human resources automation leads to increased accuracy, considerable labor savings, and faster processing times, resulting in happier workers and customers.</p><div class=\"bottom-reactions\"><div class=\"StoryReactions__Layout-sc-148l719-0 iGFhHb\"><div class=\"reactions\"><label></label><div class=\"emojis\"><div class=\"emoji-container\"><span></span><img data-usertype=\"user\" data-emoji=\"heart\" class=\"emoji not-active\" src=\"/emojis/heart.png\"/><img class=\"emoji-animation icon-1\" src=\"/emojis/heart.png\"/><img class=\"emoji-animation icon-2\" src=\"/emojis/heart.png\"/><img class=\"emoji-animation icon-3\" src=\"/emojis/heart.png\"/></div><div class=\"emoji-container\"><span></span><img data-usertype=\"user\" data-emoji=\"light\" class=\"emoji not-active\" src=\"/emojis/light.png\"/><img class=\"emoji-animation icon-1\" src=\"/emojis/light.png\"/><img class=\"emoji-animation icon-2\" src=\"/emojis/light.png\"/><img class=\"emoji-animation icon-3\" src=\"/emojis/light.png\"/></div><div class=\"emoji-container\"><span></span><img data-usertype=\"user\" data-emoji=\"boat\" class=\"emoji not-active\" src=\"/emojis/boat.png\"/><img class=\"emoji-animation icon-1\" src=\"/emojis/boat.png\"/><img class=\"emoji-animation icon-2\" src=\"/emojis/boat.png\"/><img class=\"emoji-animation icon-3\" src=\"/emojis/boat.png\"/></div><div class=\"emoji-container\"><span></span><img data-usertype=\"user\" data-emoji=\"money\" class=\"emoji not-active\" src=\"/emojis/money.png\"/><img class=\"emoji-animation icon-1\" src=\"/emojis/money.png\"/><img class=\"emoji-animation icon-2\" src=\"/emojis/money.png\"/><img class=\"emoji-animation icon-3\" src=\"/emojis/money.png\"/></div></div></div></div></div><footer><div class=\"AuthorBio__Layout-sc-8qvprw-0 jIvNCa\"><div class=\"avatar\"><a href=\"/u/marutitechlabs\"><div style=\"width:80px;height:80px;position:relative\"><div style=\"display:block;overflow:hidden;position:absolute;top:0;left:0;bottom:0;right:0;box-sizing:border-box;margin:0\"><noscript><img alt=\"Maruti Techlabs  Hacker Noon profile picture\" srcSet=\"/_next/image?url=https%3A%2F%2Fcdn.hackernoon.com%2Fimages%2FJT8PoynXQmYP92waUX1nYlVf9Im1-6t03468.jpeg&amp;w=640&amp;q=75 640w, /_next/image?url=https%3A%2F%2Fcdn.hackernoon.com%2Fimages%2FJT8PoynXQmYP92waUX1nYlVf9Im1-6t03468.jpeg&amp;w=750&amp;q=75 750w, /_next/image?url=https%3A%2F%2Fcdn.hackernoon.com%2Fimages%2FJT8PoynXQmYP92waUX1nYlVf9Im1-6t03468.jpeg&amp;w=828&amp;q=75 828w, /_next/image?url=https%3A%2F%2Fcdn.hackernoon.com%2Fimages%2FJT8PoynXQmYP92waUX1nYlVf9Im1-6t03468.jpeg&amp;w=1080&amp;q=75 1080w, /_next/image?url=https%3A%2F%2Fcdn.hackernoon.com%2Fimages%2FJT8PoynXQmYP92waUX1nYlVf9Im1-6t03468.jpeg&amp;w=1200&amp;q=75 1200w, /_next/image?url=https%3A%2F%2Fcdn.hackernoon.com%2Fimages%2FJT8PoynXQmYP92waUX1nYlVf9Im1-6t03468.jpeg&amp;w=1920&amp;q=75 1920w, /_next/image?url=https%3A%2F%2Fcdn.hackernoon.com%2Fimages%2FJT8PoynXQmYP92waUX1nYlVf9Im1-6t03468.jpeg&amp;w=2048&amp;q=75 2048w, /_next/image?url=https%3A%2F%2Fcdn.hackernoon.com%2Fimages%2FJT8PoynXQmYP92waUX1nYlVf9Im1-6t03468.jpeg&amp;w=3840&amp;q=75 3840w\" src=\"https://cdn.hackernoon.com/images/JT8PoynXQmYP92waUX1nYlVf9Im1-6t03468.jpeg\" decoding=\"async\" style=\"position:absolute;top:0;left:0;bottom:0;right:0;box-sizing:border-box;padding:0;border:none;margin:auto;display:block;width:0;height:0;min-width:100%;max-width:100%;min-height:100%;max-height:100%;object-fit:contain\"/></noscript><img alt=\"Maruti Techlabs  Hacker Noon profile picture\" src=\"data:image/gif;base64,R0lGODlhAQABAIAAAAAAAP///yH5BAEAAAAALAAAAAABAAEAAAIBRAA7\" decoding=\"async\" style=\"position:absolute;top:0;left:0;bottom:0;right:0;box-sizing:border-box;padding:0;border:none;margin:auto;display:block;width:0;height:0;min-width:100%;max-width:100%;min-height:100%;max-height:100%;object-fit:contain\"/></div></div></a></div><div class=\"author-info\"><span>by <!-- -->Maruti Techlabs <!-- --> <span class=\"handle\"><a href=\"/u/marutitechlabs\">@<!-- -->marutitechlabs</a></span>. <span class=\"bio\">We are leading chatbot &amp; enterprise software development services provider in India.</span></span><a class=\"bio-cta\" href=\"/u/marutitechlabs\">Read my stories</a></div></div></footer><section class=\"RelatedStories__Layout-q790b3-0 hkGvok related-stories\"><div class=\"bold table-head\">Related Stories</div><div class=\"bold centered table-head\"><a href=\"/tagged\">Subject Matter</a></div><div class=\"related ad\"><a href=\"https://bit.ly/30k5OtZ\">Win $2000 by building a web app on Velo by Wix<!-- --> by @<!-- -->Wix</a></div><div class=\"related ad centered\"><a href=\"https://sponsor.hackernoon.com/ad-by-tag\">#promoted</a></div><div class=\"related\"><a href=\"/selecting-the-right-open-source-project-in-react-ecosystem-5v1034p9\">Selecting The Right Open-Source Project In React Ecosystem</a><span> <!-- -->by <a href=\"/u/katarinaharbuzawa\"> @<!-- -->katarinaharbuzawa<!-- --> </a></span></div><div class=\"related centered\"> <a href=\"/tagged/react-javascript-library\"> #<!-- -->react-javascript-library<!-- --> </a> </div><div class=\"related\"><a href=\"/powerful-tips-to-help-you-learn-programming-language-la2834gn\">Powerful Tips To Help You Learn Programming Language</a><span> <!-- -->by <a href=\"/u/rishabh18\"> @<!-- -->rishabh18<!-- --> </a></span></div><div class=\"related centered\"> <a href=\"/tagged/programming\"> #<!-- -->programming<!-- --> </a> </div><div class=\"related\"><a href=\"/reflections-on-the-topics-of-progress-technological-growth-and-economics-s82y35on\">Reflections On The Topics of Progress, Technological Growth, and Economics</a><span> <!-- -->by <a href=\"/u/avi22\"> @<!-- -->avi22<!-- --> </a></span></div><div class=\"related centered\"> <a href=\"/tagged/progress\"> #<!-- -->progress<!-- --> </a> </div><div class=\"related\"><a href=\"/4-reasons-why-cfos-must-adopt-artificial-intelligence-v9jr34ee\">4 Reasons Why CFOs Must Adopt Artificial Intelligence</a><span> <!-- -->by <a href=\"/u/michael-usiagwu\"> @<!-- -->michael-usiagwu<!-- --> </a></span></div><div class=\"related centered\"> <a href=\"/tagged/ai\"> #<!-- -->ai<!-- --> </a> </div></section><section><h4>Tags</h4><div class=\"tags\"><a href=\"/tagged/rpa-use-cases\" class=\"Badge-sc-1yo3ffo-0 StoryTag__Layout-l8xrl1-0 kVtHZZ\">#<!-- -->rpa-use-cases</a><a href=\"/tagged/rpa-services\" class=\"Badge-sc-1yo3ffo-0 StoryTag__Layout-l8xrl1-0 kVtHZZ\">#<!-- -->rpa-services</a><a href=\"/tagged/hr-ai\" class=\"Badge-sc-1yo3ffo-0 StoryTag__Layout-l8xrl1-0 kVtHZZ\">#<!-- -->hr-ai</a><a href=\"/tagged/automation\" class=\"Badge-sc-1yo3ffo-0 StoryTag__Layout-l8xrl1-0 kVtHZZ\">#<!-- -->automation</a><a href=\"/tagged/robotic-process-automation\" class=\"Badge-sc-1yo3ffo-0 StoryTag__Layout-l8xrl1-0 kVtHZZ\">#<!-- -->robotic-process-automation</a><a href=\"/tagged/ai\" class=\"Badge-sc-1yo3ffo-0 StoryTag__Layout-l8xrl1-0 kVtHZZ\">#<!-- -->ai</a><a href=\"/tagged/technology\" class=\"Badge-sc-1yo3ffo-0 StoryTag__Layout-l8xrl1-0 kVtHZZ\">#<!-- -->technology</a><a href=\"/tagged/tech\" class=\"Badge-sc-1yo3ffo-0 StoryTag__Layout-l8xrl1-0 kVtHZZ\">#<!-- -->tech</a></div></section><div class=\"CallToAction__Layout-sc-1bzkg2-0 idPiOQ\"><a href=\"https://app.hackernoon.com/signup\"><span>Join Hacker Noon</span> <i aria-hidden=\"true\" class=\"fad fa-glasses\"></i></a><p>Create your free account to unlock your custom reading experience.</p></div></div></main><footer class=\"Footer__FooterLayout-sc-1n15wjs-0 dksVax\"><div class=\"Footer__FooterInner-sc-1n15wjs-1 dOxaqc\"><div class=\"Footer__FooterGroups-sc-1n15wjs-7 YpFFA\"><div class=\"Footer__FooterItems-sc-1n15wjs-2 dlFpUX\"><h2 class=\"Footer__FooterHeadings-sc-1n15wjs-3 gDzbPH\"><a href=\"http://about.hackernoon.com\" class=\"Footer__FancyLink-sc-1n15wjs-6 fdiECD\">ABOUT</a></h2><ul class=\"Footer__FooterList-sc-1n15wjs-4 iARieR\"><li class=\"Footer__FooterListItem-sc-1n15wjs-5 cSPwMx\"><a href=\"http://careers.hackernoon.com\" class=\"Footer__FancyLink-sc-1n15wjs-6 fdiECD\">Careers</a></li><li class=\"Footer__FooterListItem-sc-1n15wjs-5 cSPwMx\"><a href=\"https://hackernoon.com/contact\" class=\"Footer__FancyLink-sc-1n15wjs-6 fdiECD\">Contact</a></li><li class=\"Footer__FooterListItem-sc-1n15wjs-5 cSPwMx\"><a href=\"https://hackernoon.com/cookies\" class=\"Footer__FancyLink-sc-1n15wjs-6 fdiECD\">Cookies</a></li><li class=\"Footer__FooterListItem-sc-1n15wjs-5 cSPwMx\"><a href=\"http://help.hackernoon.com\" class=\"Footer__FancyLink-sc-1n15wjs-6 fdiECD\">Help</a></li><li class=\"Footer__FooterListItem-sc-1n15wjs-5 cSPwMx\"><a href=\"https://hackernoon.com/privacy\" class=\"Footer__FancyLink-sc-1n15wjs-6 fdiECD\">Privacy</a></li><li class=\"Footer__FooterListItem-sc-1n15wjs-5 cSPwMx\"><a href=\"https://hackernoon.com/terms\" class=\"Footer__FancyLink-sc-1n15wjs-6 fdiECD\">Terms</a></li></ul></div><div class=\"Footer__FooterItems-sc-1n15wjs-2 dlFpUX\"><h2 class=\"Footer__FooterHeadings-sc-1n15wjs-3 gDzbPH\"><a href=\"https://hackernoon.com/tagged\" class=\"Footer__FancyLink-sc-1n15wjs-6 fdiECD\">READ</a></h2><ul class=\"Footer__FooterList-sc-1n15wjs-4 iARieR\"><li class=\"Footer__FooterListItem-sc-1n15wjs-5 cSPwMx\"><a href=\"https://hackernoon.com/archive\" class=\"Footer__FancyLink-sc-1n15wjs-6 fdiECD\">Archive</a></li><li class=\"Footer__FooterListItem-sc-1n15wjs-5 cSPwMx\"><a href=\"http://leaders.hackernoon.com\" class=\"Footer__FancyLink-sc-1n15wjs-6 fdiECD\">Leaderboard</a></li><li class=\"Footer__FooterListItem-sc-1n15wjs-5 cSPwMx\"><a href=\"https://hackernoon.com/signup\" class=\"Footer__FancyLink-sc-1n15wjs-6 fdiECD\">Signup</a></li><li class=\"Footer__FooterListItem-sc-1n15wjs-5 cSPwMx\"><a href=\"http://techbrief.hackernoon.com\" class=\"Footer__FancyLink-sc-1n15wjs-6 fdiECD\">Tech Brief</a></li><li class=\"Footer__FooterListItem-sc-1n15wjs-5 cSPwMx\"><a href=\"https://hackernoon.com/tagged\" class=\"Footer__FancyLink-sc-1n15wjs-6 fdiECD\">Tech Tags</a></li><li class=\"Footer__FooterListItem-sc-1n15wjs-5 cSPwMx\"><a href=\"https://hackernoon.com/tagged/hackernoon-top-stories\" class=\"Footer__FancyLink-sc-1n15wjs-6 fdiECD\">Top Stories</a></li></ul></div><div class=\"Footer__FooterItems-sc-1n15wjs-2 dlFpUX\"><h2 class=\"Footer__FooterHeadings-sc-1n15wjs-3 gDzbPH\"><a href=\"https://app.hackernoon.com/new\" class=\"Footer__FancyLink-sc-1n15wjs-6 fdiECD\">WRITE</a></h2><ul class=\"Footer__FooterList-sc-1n15wjs-4 iARieR\"><li class=\"Footer__FooterListItem-sc-1n15wjs-5 cSPwMx\"><a href=\"https://help.hackernoon.com/distribution\" class=\"Footer__FancyLink-sc-1n15wjs-6 fdiECD\">Distribution</a></li><li class=\"Footer__FooterListItem-sc-1n15wjs-5 cSPwMx\"><a href=\"https://help.hackernoon.com/use-our-editor\" class=\"Footer__FancyLink-sc-1n15wjs-6 fdiECD\">Editor Tips</a></li><li class=\"Footer__FooterListItem-sc-1n15wjs-5 cSPwMx\"><a href=\"https://help.hackernoon.com/editorial-guideline\" class=\"Footer__FancyLink-sc-1n15wjs-6 fdiECD\">Guidelines</a></li><li class=\"Footer__FooterListItem-sc-1n15wjs-5 cSPwMx\"><a href=\"http://app.hackernoon.com/new\" class=\"Footer__FancyLink-sc-1n15wjs-6 fdiECD\">New Story</a></li><li class=\"Footer__FooterListItem-sc-1n15wjs-5 cSPwMx\"><a href=\"https://help.hackernoon.com/writer-account--perks\" class=\"Footer__FancyLink-sc-1n15wjs-6 fdiECD\">Perks</a></li><li class=\"Footer__FooterListItem-sc-1n15wjs-5 cSPwMx\"><a href=\"https://hackernoon.com/why-i-write-on-hacker-noon-nl28335q\" class=\"Footer__FancyLink-sc-1n15wjs-6 fdiECD\">Why Write</a></li></ul></div><div class=\"Footer__FooterItems-sc-1n15wjs-2 dlFpUX\"><h2 class=\"Footer__FooterHeadings-sc-1n15wjs-3 gDzbPH\"><a href=\"https://sponsor.hackernoon.com/ad-by-tag\" class=\"Footer__FancyLink-sc-1n15wjs-6 fdiECD\">SPONSOR</a></h2><ul class=\"Footer__FooterList-sc-1n15wjs-4 iARieR\"><li class=\"Footer__FooterListItem-sc-1n15wjs-5 cSPwMx\"><a href=\"https://sponsor.hackernoon.com/brand-as-author\" class=\"Footer__FancyLink-sc-1n15wjs-6 fdiECD\">Brand Publishing</a></li><li class=\"Footer__FooterListItem-sc-1n15wjs-5 cSPwMx\"><a href=\"https://sponsor.hackernoon.com/feature-brands\" class=\"Footer__FancyLink-sc-1n15wjs-6 fdiECD\">Case Studies</a></li><li class=\"Footer__FooterListItem-sc-1n15wjs-5 cSPwMx\"><a href=\"https://sponsor.hackernoon.com/ad-by-tag\" class=\"Footer__FancyLink-sc-1n15wjs-6 fdiECD\">Niche Marketing</a></li><li class=\"Footer__FooterListItem-sc-1n15wjs-5 cSPwMx\"><a href=\"https://sponsor.hackernoon.com/newsletter\" class=\"Footer__FancyLink-sc-1n15wjs-6 fdiECD\">Newsletter</a></li><li class=\"Footer__FooterListItem-sc-1n15wjs-5 cSPwMx\"><a href=\"https://sponsor.hackernoon.com/billboard\" class=\"Footer__FancyLink-sc-1n15wjs-6 fdiECD\">Sitewide Billboard</a></li><li class=\"Footer__FooterListItem-sc-1n15wjs-5 cSPwMx\"><a href=\"https://hackernoon.com/velo-writing-contest\" class=\"Footer__FancyLink-sc-1n15wjs-6 fdiECD\">Writing Contests</a></li></ul></div></div><div class=\"Footer__FooterNewsletter-sc-1n15wjs-8 NOvpi\"><form class=\"Form-nn4gmb-0 bbTsEM newsletter-form\"><h2>The Hacker Noon Newsletter</h2><p>Quality Weekly Reads About Technology Infiltrating Everything</p><div class=\"SubscriptionForm__SubscriptionField-xmqark-0 dSDdGT\"><label><input type=\"email\" placeholder=\"name@company.com\" name=\"email\" required=\"\" class=\"Form__Input-nn4gmb-1 kajqce newsletter-form-input\" value=\"\"/></label><button class=\"Button-ugfqup-0 efUaPu newsletter-form-button\">Subscribe<sup><i>free</i></sup></button></div><label class=\"SubscriptionForm__StyledRequiredField-xmqark-1 iLaExz\"><input type=\"checkbox\" required=\"\" name=\"agreed\"/> Yes, I agree to receive emails about tech eating the world.</label></form><div class=\"Footer__StyledFollow-sc-1n15wjs-9 ghbZqd\"><div class=\"SocialLinks-sc-1bbo2b4-0 Follow__Layout-sc-12l5d2g-0 dcgsMq\"><a href=\"https://www.linkedin.com/company/hackernoon/\" target=\"_blank\" rel=\"nofollow\"><img src=\"/social-icons/linkedin-new.png\" alt=\"LinkedIn social icon\" width=\"24\" height=\"24\" loading=\"lazy\"/></a><a href=\"https://facebook.com/hackernoon\" target=\"_blank\" rel=\"nofollow\"><img src=\"/social-icons/facebook-new.png\" alt=\"facebook social icon\" width=\"24\" height=\"24\" loading=\"lazy\"/></a><a href=\"https://twitter.com/hackernoon\" target=\"_blank\" rel=\"nofollow\"><img src=\"/social-icons/twitter-new.png\" alt=\"Twitter social icon\" width=\"24\" height=\"24\" loading=\"lazy\"/></a><a href=\"https://github.com/hackernoon\" target=\"_blank\" rel=\"nofollow\"><img src=\"/social-icons/github-new.png\" alt=\"github social icon\" width=\"24\" height=\"24\" loading=\"lazy\"/></a><a href=\"https://www.youtube.com/c/hackernoon\" target=\"_blank\" rel=\"nofollow\"><img src=\"/social-icons/youtube-new.png\" alt=\"youtube social icon\" width=\"24\" height=\"24\" loading=\"lazy\"/></a><a href=\"https://www.instagram.com/hackernoon\" target=\"_blank\" rel=\"nofollow\"><img src=\"/social-icons/instagram-new.png\" alt=\"instagram social icon\" width=\"24\" height=\"24\" loading=\"lazy\"/></a><a href=\"https://digg.com/hacker-noon\" target=\"_blank\" rel=\"nofollow\"><img src=\"/social-icons/DiggIcon.png\" alt=\"digg social icon\" width=\"24\" height=\"24\" loading=\"lazy\"/></a><a href=\"https://podcast.hackernoon.com/\" target=\"_blank\" rel=\"nofollow\"><img src=\"/social-icons/podcast-new.png\" alt=\"podcast social icon\" width=\"24\" height=\"24\" loading=\"lazy\"/></a><a href=\"https://hackernoon.com/feed\" target=\"_blank\" rel=\"nofollow\"><img src=\"/social-icons/rss-new.png\" alt=\"rss social icon\" width=\"24\" height=\"24\" loading=\"lazy\"/></a></div></div></div></div></footer></div></div><script id=\"__NEXT_DATA__\" type=\"application/json\">{\"props\":{\"pageProps\":{\"data\":{\"id\":\"X0Vbj5rySU72836Aza9X\",\"createdAt\":1622581513,\"title\":\"Top 9 Use Cases for Human Resources Automation\",\"owner\":\"JT8PoynXQmYP92waUX1nYlVf9Im1\",\"published\":true,\"wordCount\":999,\"mainImage\":\"https://cdn.hackernoon.com/images/JT8PoynXQmYP92waUX1nYlVf9Im1-26m341m.jpeg\",\"profile\":{\"avatar\":\"https://cdn.hackernoon.com/images/JT8PoynXQmYP92waUX1nYlVf9Im1-6t03468.jpeg\",\"adLink\":\"https://marutitech.com/\",\"linkedin\":\"https://www.linkedin.com/company/maruti-techlabs-pvt-ltd/\",\"bio\":\"We are leading chatbot \\\\u0026 enterprise software development services provider in India.\",\"adText\":\"\",\"adIcon\":\"\",\"facebook\":\"marutitech\",\"handle\":\"marutitechlabs\",\"instagram\":\"\",\"twitter\":\"MarutiTech\",\"id\":\"JT8PoynXQmYP92waUX1nYlVf9Im1\",\"github\":\"\",\"displayName\":\"Maruti Techlabs \",\"youtube\":\"https://www.youtube.com/channel/UCYUfs2E0HakEmFICFMTKc7A\"},\"mainImageAttributionName\":null,\"mainImageLink\":null,\"firstSeenAt\":false,\"tags\":[\"rpa-use-cases\",\"rpa-services\",\"hr-ai\",\"automation\",\"robotic-process-automation\",\"ai\",\"technology\",\"tech\"],\"markup\":\"\\\\u003cdiv class=\\\\\"paragraph\\\\\"\\\\u003eRobotic Process Automation (RPA) is a relatively recent technology that has fundamentally changed the way we think about routine and repetitive operations. Deloitte’s \\\\u003ca href=\\\\\"https://www2.deloitte.com/ch/en/pages/human-capital/solutions/human-capital-robotic-process-automation.html\\\\\"\\\\u003erecent survey\\\\u003c/a\\\\u003e results confirmed that more than 74% of respondents are open to engaging with upcoming technologies in the near future, with almost 22% of them have already tried or implemented Robotic Process Automation.\\\\u003c/div\\\\u003e\\\\u003cdiv class=\\\\\"paragraph\\\\\"\\\\u003eHuman resources automation using RPA will allow organizations to automate transactional processes so that the HR team can focus on more strategic and meaningful responsibilities. It will enable redirection of time and resources on more productive activities such as giving face time to your employees or conflict resolution.\\\\u003c/div\\\\u003e\\\\u003ch2\\\\u003eHuman Resources Automation using RPA\\\\u003c/h2\\\\u003e\\\\u003cdiv class=\\\\\"paragraph\\\\\"\\\\u003eRPA in HR operations focuses on micro-tasks, allowing it to integrate all of the processes and programs that the old systems were unable to handle effectively. This is done by running a software code that performs repetitive and high-volume operational activities on behalf of the HR work staff.\\\\u003c/div\\\\u003e\\\\u003cdiv class=\\\\\"paragraph\\\\\"\\\\u003eThe operations that it covers range from hiring new employees, processing payroll, and evaluating benefits to creating compliance reports that are all very time-consuming and labor-intensive. RPA adds accuracy and speed to data processing and can be instrumental in cutting down HR-related costs. The benefits of RPA in HR can revolutionize the industry by enhancing work efficiency and improving ROIs.\\\\u003c/div\\\\u003e\\\\u003ch2\\\\u003e9 Real World Use Cases of Human Resources Automation\\\\u003c/h2\\\\u003e\\\\u003cdiv class=\\\\\"paragraph\\\\\"\\\\u003eRPA provides firms and their HR departments with a slew of distinct and quantifiable advantages. Some prominent use cases are discussed below:\\\\u003c/div\\\\u003e\\\\u003cdiv class=\\\\\"paragraph\\\\\"\\\\u003e\\\\u003cstrong\\\\u003e1. CV Screening and Shortlisting\\\\u003c/strong\\\\u003e\\\\u003c/div\\\\u003e\\\\u003cdiv class=\\\\\"paragraph\\\\\"\\\\u003eOne significant HR activity constitutes screening resumes and applications received for open positions. The RPA technology makes this process considerably easier by quickly consolidating applications and comparing all of the data to a list of predefined job criteria.\\\\u003c/div\\\\u003e\\\\u003cdiv class=\\\\\"paragraph\\\\\"\\\\u003eThese requirements may be viewed as predetermined guidelines that influence the whole selection process. The technology also helps with eliminating the need for redundant paperwork by using a database that stores all the potential employees’ profiles. It also automates the communication process by notifying candidates of their interview results.\\\\u003c/div\\\\u003e\\\\u003cdiv class=\\\\\"paragraph\\\\\"\\\\u003e\\\\u003cstrong\\\\u003e2. Simplifying Onboarding\\\\u003c/strong\\\\u003e\\\\u003c/div\\\\u003e\\\\u003cdiv class=\\\\\"paragraph\\\\\"\\\\u003eEmployee onboarding is another tedious task requiring simultaneous efforts of multiple people for approvals, sign-off, access rights, account creation, etc. Here, RPA for human resources automation can be used to activate a specific template for a user account’s onboarding workflow.\\\\u003c/div\\\\u003e\\\\u003cdiv class=\\\\\"paragraph\\\\\"\\\\u003eRPA may be utilized to expedite the whole onboarding operation. Software robots may then make rule-based decisions like which onboarding materials to transmit, which credentials to issue to the new employee, and so on. HR automation best practices help in:\\\\u003c/div\\\\u003e\\\\u003cul\\\\u003e\\\\u003cli\\\\u003eReducing onboarding process cost\\\\u003c/li\\\\u003e\\\\u003cli\\\\u003eIncreasing onboarding speed and efficiency\\\\u003c/li\\\\u003e\\\\u003cli\\\\u003eEliminating manual errors in the onboarding process, thereby increasing accuracy.\\\\u003c/li\\\\u003e\\\\u003c/ul\\\\u003e\\\\u003cdiv class=\\\\\"paragraph\\\\\"\\\\u003e\\\\u003cstrong\\\\u003e3. Employee Data Management\\\\u003c/strong\\\\u003e\\\\u003c/div\\\\u003e\\\\u003cdiv class=\\\\\"paragraph\\\\\"\\\\u003eOne of the critical areas under HR job functionality is employee data management. Maintaining this database requires organized and consistent activities across databases and data formats, ranging from payroll and employee perks and benefits to company rules and regulations.\\\\u003c/div\\\\u003e\\\\u003cdiv class=\\\\\"paragraph\\\\\"\\\\u003eHuman resources automation can be leveraged to make jobs like personnel administration much easier to perform, lowering the risk of inaccurate data entry to a bare minimum. RPA additionally performs data cleaning operations regularly to maintain data consistency across numerous databases.\\\\u003c/div\\\\u003e\\\\u003cdiv class=\\\\\"paragraph\\\\\"\\\\u003e\\\\u003cstrong\\\\u003e4. Payroll Processing\\\\u003c/strong\\\\u003e\\\\u003c/div\\\\u003e\\\\u003cdiv class=\\\\\"paragraph\\\\\"\\\\u003eIt is no surprise that processing payments are among the most crucial tasks undertaken by the HR department. Unfortunately, it is a very mundane and repetitive task requiring a large amount of data entry regularly and is highly prone to manual errors.\\\\u003c/div\\\\u003e\\\\u003cdiv class=\\\\\"paragraph\\\\\"\\\\u003eHuman resources automation can streamline the payroll process by collecting and linking data from numerous systems and databases such as employee management, general ledger, accounts payable, time tracker, etc. They help in employee work-hours verification and create automated reports on the number of working hours registered, overtime, leave, timeouts, missing hours, etc.\\\\u003c/div\\\\u003e\\\\u003cdiv class=\\\\\"paragraph\\\\\"\\\\u003e\\\\u003cstrong\\\\u003e5. Tracking Attendance\\\\u003c/strong\\\\u003e\\\\u003c/div\\\\u003e\\\\u003cdiv class=\\\\\"paragraph\\\\\"\\\\u003eBy cross-checking self-reports against time documented in the business record and reporting any inconsistencies to HR management, RPA-based software robots can make attendance monitoring easier. Furthermore, bots might suggest reallocating various labor resources in the event of significant absenteeism, assisting the HR department in avoiding workflow interruptions.\\\\u003c/div\\\\u003e\\\\u003cdiv class=\\\\\"paragraph\\\\\"\\\\u003e\\\\u003cstrong\\\\u003e6. Expense Management\\\\u003c/strong\\\\u003e\\\\u003c/div\\\\u003e\\\\u003cdiv class=\\\\\"paragraph\\\\\"\\\\u003eOne of the most tedious and time-consuming tasks of HR managers is to keep track of travel, food, and other such expenditures. The task becomes even more grueling when dealing with missing receipts, late expense submissions, unforeseen expenses, unauthorized spending, etc.\\\\u003c/div\\\\u003e\\\\u003cdiv class=\\\\\"paragraph\\\\\"\\\\u003eUsing an RPA system for expenditure management helps businesses extract all of the necessary information from cost receipts automatically, thereby saving time. This also eliminates the need for them to carry around expenditure receipts because they can take photographs of them, and RPA will automatically retrieve all essential data.\\\\u003c/div\\\\u003e\\\\u003cdiv class=\\\\\"paragraph\\\\\"\\\\u003e\\\\u003cstrong\\\\u003e7. Calculation of Shift Allowance\\\\u003c/strong\\\\u003e\\\\u003c/div\\\\u003e\\\\u003cdiv class=\\\\\"paragraph\\\\\"\\\\u003eShift allowances are calculated through employee in-and-out swipe data stored in various HR backend systems. This data is used to generate shift allowance. Because of the vast datasets, this is an entirely manual procedure that takes a long time and has a significant risk of mistakes.\\\\u003c/div\\\\u003e\\\\u003cdiv class=\\\\\"paragraph\\\\\"\\\\u003eRPA bots read and validate data from several backend systems automatically. Furthermore, the bots can perform this regularly, resulting in on-time allowance clearance and reduced manual efforts, and average handling time with zero mistakes.\\\\u003c/div\\\\u003e\\\\u003cdiv class=\\\\\"paragraph\\\\\"\\\\u003e\\\\u003cstrong\\\\u003e8. Performance Management\\\\u003c/strong\\\\u003e\\\\u003c/div\\\\u003e\\\\u003cdiv class=\\\\\"paragraph\\\\\"\\\\u003eRPA can effectively handle employee performance management by reviewing and analyzing employee’s goal settings, expectations, incentives, and reward calculations. It helps the HR department keep the organization’s productivity consistently high, removes extra manual effort, and reduces employee evaluation chances.\\\\u003c/div\\\\u003e\\\\u003cdiv class=\\\\\"paragraph\\\\\"\\\\u003e\\\\u003cstrong\\\\u003e9. Employee Exit Management\\\\u003c/strong\\\\u003e\\\\u003c/div\\\\u003e\\\\u003cdiv class=\\\\\"paragraph\\\\\"\\\\u003eWhile exiting an organization, several HR duties must be completed, including the preparation of leave documentation, the revocation of system access, and the full and final settlement. Any scope of error left here can result in several audit flags.\\\\u003c/div\\\\u003e\\\\u003cdiv class=\\\\\"paragraph\\\\\"\\\\u003eRPA in HR may be pretty valuable in implementing a more efficient and well-organized off-boarding process. This is done by pre-determination of all the tasks involved in the exit process. The software extracts all the essential details from the various backend systems and sends emails to all the relevant departments for the next steps.\\xa0\\\\u003c/div\\\\u003e\\\\u003ch2\\\\u003eConcluding Thoughts\\\\u003c/h2\\\\u003e\\\\u003cdiv class=\\\\\"paragraph\\\\\"\\\\u003eThe scope and \\\\u003ca href=\\\\\"https://marutitech.com/roi-of-rpa/\\\\\"\\\\u003eRoI of RPA\\\\u003c/a\\\\u003e are continuously growing, and it is no longer restricted to certain aspects of a business. Human resources automation leads to increased accuracy, considerable labor savings, and faster processing times, resulting in happier workers and customers.\\\\u003c/div\\\\u003e\",\"editor\":{\"handle\":\"amymtom\",\"displayName\":\"Amy Tom\",\"id\":\"Up825JZF5yROkBJQEVNelNrvnOn1\"},\"excerpt\":\"RPA provides firms and their HR departments with a slew of distinct and quantifiable advantages. Some prominent use cases are discussed below:\",\"mainImageAttributionLink\":null,\"publishedAt\":1622654111,\"slug\":\"top-9-use-cases-for-human-resources-automation-7xv35kn\",\"draftId\":\"604GIQgRInLE1tI0PXNO\",\"estimatedTime\":4,\"fromSlack\":false,\"images\":{\"%2Fimages%2FJT8PoynXQmYP92waUX1nYlVf9Im1-26m341m.jpeg\":{\"height\":1260,\"width\":2240}},\"reactions\":{\"total\":4,\"storyReactions\":{\"heart\":2,\"money\":0,\"boat\":1,\"light\":1},\"sections\":{}},\"relatedStories\":[{\"active\":true,\"type\":\"tag\",\"companyName\":\"Wix\",\"link\":\"http://bit.ly/30k5OtZ\",\"timestamp\":null,\"category\":[{\"label\":\"wix\",\"value\":\"wix\"},{\"label\":\"Programming\",\"value\":\"programming\"}],\"tags\":[],\"image\":\"https://hackernoon.com/images/img-xz033jp.jpeg\",\"website\":\"http://bit.ly/30k5OtZ\",\"text\":\"Win $2000 by building a web app on Velo by Wix\",\"reactionsCount\":0},{\"id\":\"AmzhM4AkOC6ptfE8Dr9s\",\"title\":\"Selecting The Right Open-Source Project In React Ecosystem\",\"slug\":\"selecting-the-right-open-source-project-in-react-ecosystem-5v1034p9\",\"mainImage\":\"https://cdn.hackernoon.com/images/CPZcQZuKTIRNEmHkkkOCBTvsTyd2-1uhl34up.jpeg\",\"tags\":[\"react-javascript-library\",\"web-development\",\"javascript-libraries\",\"technology\",\"ui\",\"material-design\",\"github\",\"react\"],\"profile\":{\"bio\":\"Writer, digital nomad, life lover. https://flatlogic.com/templates\",\"displayName\":\"Katarina Harbuzava\",\"adText\":\"Stay tuned!\",\"handle\":\"katarinaharbuzawa\",\"adIcon\":\"\",\"adLink\":\"https://flatlogic.com/templates\",\"avatar\":\"https://hackernoon.com/images/CPZcQZuKTIRNEmHkkkOCBTvsTyd2-oi033la.jpeg\",\"facebook\":\"katarina.harbuzava\",\"twitter\":\"katrinblanchare\",\"github\":\"\",\"instagram\":\"katyaharbuzava\",\"id\":\"CPZcQZuKTIRNEmHkkkOCBTvsTyd2\",\"linkedin\":\"https://www.linkedin.com/feed/\",\"youtube\":\"https://www.youtube.com/channel/UCDbyjsN_OkJfKTmg2qN-D2Q\"},\"fromSlack\":false,\"publishedAt\":1622790910,\"reactionsCount\":5},{\"id\":\"5WQ7vutbsYDF2TO8V3ga\",\"title\":\"Powerful Tips To Help You Learn Programming Language\",\"slug\":\"powerful-tips-to-help-you-learn-programming-language-la2834gn\",\"mainImage\":\"https://cdn.hackernoon.com/images/hxkIRdVjVadAa10iBb3WnTWSCz82-3m4g386r.png\",\"tags\":[\"programming\",\"programming-languages\",\"coding\",\"beginners-to-coding\",\"coding-interviews\",\"technology\",\"tips-for-programmers\",\"advice\"],\"profile\":{\"avatar\":\"https://cdn.hackernoon.com/avatars/hxkIRdVjVadAa10iBb3WnTWSCz82.png\",\"youtube\":\"\",\"twitter\":\"\",\"bio\":\"4 🌟 C++ coder @ Hackerrank |Open Source Contributor | Linux ❤️ | FrontEnd Developer\",\"instagram\":\"rishabhraghwendra\",\"facebook\":\"\",\"handle\":\"rishabh18\",\"adText\":\"\",\"adLink\":\"\",\"linkedin\":\"https://www.linkedin.com/in/rishabh-sde/\",\"github\":\"Rishabhraghwendra18\",\"adIcon\":\"\",\"displayName\":\"Rishabh Raghwendra\",\"id\":\"hxkIRdVjVadAa10iBb3WnTWSCz82\"},\"fromSlack\":false,\"publishedAt\":1622725209,\"reactionsCount\":3},{\"id\":\"wBf9lyl72kpDfSmpA7ms\",\"title\":\"Reflections On The Topics of Progress, Technological Growth, and Economics\",\"slug\":\"reflections-on-the-topics-of-progress-technological-growth-and-economics-s82y35on\",\"mainImage\":\"https://cdn.hackernoon.com/images/jjVD6LGnzDMzzIVNuJ29Ph9uWSd2-4a1g36dw.jpeg\",\"tags\":[\"progress\",\"technology\",\"growth\",\"history-of-the-internet\",\"history\",\"future\",\"social-media\",\"human-history\"],\"profile\":{\"twitter\":\"avjitsingh22\",\"avatar\":\"https://cdn.hackernoon.com/images/jjVD6LGnzDMzzIVNuJ29Ph9uWSd2-ga0368k.jpeg\",\"github\":\"\",\"handle\":\"avi22\",\"adText\":\"\",\"bio\":\"Startup builder. Amateur Economist. \\\\nWould appreciate feedback on my newsletter focussed on Progress, Tech \\\\u0026 Growth\",\"youtube\":\"\",\"instagram\":\"\",\"id\":\"jjVD6LGnzDMzzIVNuJ29Ph9uWSd2\",\"adLink\":\"https://progressreport.substack.com/p/musings-on-progress-technology-and?r=8qt2u\\\\u0026utm_campaign=post\\\\u0026utm_medium=web\\\\u0026utm_source=copy\",\"displayName\":\"Avjit Singh \",\"facebook\":\"\",\"adIcon\":\"\\\\u003ci class=\\\\\"fas fa-chart-line\\\\\"\\\\u003e\\\\u003c/i\\\\u003e\",\"linkedin\":\"\"},\"fromSlack\":false,\"publishedAt\":1622642404,\"reactionsCount\":8},{\"id\":\"SPuDU3rrm7p4boZEDnZV\",\"title\":\"4 Reasons Why CFOs Must Adopt Artificial Intelligence\",\"slug\":\"4-reasons-why-cfos-must-adopt-artificial-intelligence-v9jr34ee\",\"mainImage\":\"https://cdn.hackernoon.com/images/mo4QqxFHw7VaWyoxBYDINm61A003-0u4b36lc.jpeg\",\"tags\":[\"ai\",\"business\",\"cfo-and-ceo\",\"machine-learning\",\"data\",\"business-strategy\",\"leadership\"],\"profile\":{\"adIcon\":null,\"medium\":\"michaelusiagwu\",\"pub\":\"SQW99jt-8iV6kzX_7ltlscv42ugt1qYetKFczegqMfQ.RWI1axz2oJnftuE9c-WAhUaIic3qYZw8gwxpvebc7vA\",\"displayName\":\"Michael Usiagwu\",\"id\":\"mo4QqxFHw7VaWyoxBYDINm61A003\",\"facebook\":\"Michael Usiagwu\",\"handle\":\"michael-usiagwu\",\"publicBookmarks\":true,\"linkedin\":\"https://www.linkedin.com/in/michael-usiagwu-414616128/\",\"adText\":\"https://visiblelinkspro.com/blog/\",\"adLink\":\"https://visiblelinkspro.com/\",\"bio\":\"Michael is an Entrepreneur,  a Pr Expert, He share actionable content on top publications. \",\"github\":null,\"twitter\":\"michaelusiagwu1\",\"twitterFollowers\":518,\"avatar\":\"https://hackernoon.com/images/avatars/mo4QqxFHw7VaWyoxBYDINm61A003.jpg\"},\"fromSlack\":false,\"publishedAt\":1622642216,\"reactionsCount\":10}],\"stats\":{\"pageviews\":61}},\"headerData\":{\"subNavItems\":[{\"href\":\"https://hackernoon.com/tagged\",\"sections\":[{\"heading\":{\"href\":\"https://hackernoon.com/tagged/tech\",\"text\":\"Tech\"},\"links\":[{\"text\":\"AI\",\"href\":\"https://hackernoon.com/tagged/ai\"},{\"href\":\"https://hackernoon.com/tagged/automation\",\"text\":\"Automation\"},{\"text\":\"Business\",\"href\":\"https://hackernoon.com/tagged/business\"},{\"href\":\"https://hackernoon.com/tagged/data\",\"text\":\"Data\"},{\"text\":\"Data Science\",\"href\":\"https://hackernoon.com/tagged/data-science\"},{\"href\":\"https://hackernoon.com/tagged/deep-fakes\",\"text\":\"Deep Fakes\"},{\"text\":\"Economics\",\"href\":\"https://hackernoon.com/tagged/economics\"},{\"text\":\"Entrepreneurship\",\"href\":\"https://hackernoon.com/tagged/entrepreneurship\"},{\"text\":\"Future\",\"href\":\"https://hackernoon.com/tagged/future\"},{\"href\":\"https://hackernoon.com/tagged/founders\",\"text\":\"Founders\"},{\"href\":\"https://hackernoon.com/tagged/funding\",\"text\":\"Funding\"},{\"href\":\"https://hackernoon.com/tagged/iot\",\"text\":\"Iot\"},{\"text\":\"Management\",\"href\":\"https://hackernoon.com/tagged/management\"},{\"text\":\"Marketing\",\"href\":\"https://hackernoon.com/tagged/marketing\"},{\"href\":\"https://hackernoon.com/rick-and-morty-and-the-meaning-of-life-6640df17e263\",\"text\":\"Meaning of Life\"},{\"text\":\"Robotics\",\"href\":\"https://hackernoon.com/tagged/robotics\"},{\"href\":\"https://hackernoon.com/tagged/self-driving-cars\",\"text\":\"Self-Driving Cars\"},{\"text\":\"Startups\",\"href\":\"https://hackernoon.com/tagged/startups\"},{\"href\":\"https://hackernoon.com/tagged/venture-capital\",\"text\":\"Venture Capital\"},{\"href\":\"https://hackernoon.com/tagged/virtual-reality\",\"text\":\"Virtual Reality\"}]},{\"heading\":{\"href\":\"https://hackernoon.com/tagged/software-development\",\"text\":\"Software\"},\"links\":[{\"text\":\"Agile\",\"href\":\"https://hackernoon.com/tagged/agile\"},{\"text\":\"APIs\",\"href\":\"https://hackernoon.com/tagged/api\"},{\"text\":\"Architecture\",\"href\":\"https://hackernoon.com/tagged/software-architecture\"},{\"text\":\"C\",\"href\":\"https://hackernoon.com/tagged/c\"},{\"text\":\"Coding\",\"href\":\"https://hackernoon.com/tagged/coding\"},{\"text\":\"Engineering\",\"href\":\"https://hackernoon.com/tagged/engineering\"},{\"href\":\"https://hackernoon.com/tagged/java\",\"text\":\"Java\"},{\"href\":\"https://hackernoon.com/tagged/javascript\",\"text\":\"Javascript\"},{\"href\":\"https://hackernoon.com/tagged/lisk\",\"text\":\"Lisk\"},{\"text\":\"Killers\",\"href\":\"https://hackernoon.com/four-startup-engineering-killers-1fb5c498391d\"},{\"href\":\"https://hackernoon.com/tagged/mvp\",\"text\":\"MVP\"},{\"text\":\"NodeJS\",\"href\":\"https://hackernoon.com/tagged/nodejs\"},{\"href\":\"https://hackernoon.com/tagged/open-source\",\"text\":\"Open Source\"},{\"text\":\"PHP\",\"href\":\"https://hackernoon.com/tagged/php\"},{\"href\":\"https://hackernoon.com/tagged/programming\",\"text\":\"Programming\"},{\"text\":\"Python\",\"href\":\"https://hackernoon.com/tagged/python\"},{\"href\":\"https://hackernoon.com/tagged/react\",\"text\":\"React\"},{\"href\":\"https://hackernoon.com/tagged/ruby\",\"text\":\"Ruby\"},{\"text\":\"SQL\",\"href\":\"https://hackernoon.com/tagged/sql\"},{\"href\":\"https://hackernoon.com/tagged/swift\",\"text\":\"Swift\"},{\"href\":\"https://hackernoon.com/tagged/vim\",\"text\":\"Vim\"}]},{\"heading\":{\"href\":\"https://hackernoon.com/tagged/decentralization\",\"text\":\"Decentralization\"},\"links\":[{\"text\":\"Altcoins\",\"href\":\"https://hackernoon.com/tagged/altcoins\"},{\"href\":\"https://hackernoon.com/tagged/bitcoin\",\"text\":\"Bitcoin\"},{\"href\":\"https://hackernoon.com/tagged/bitcoin-spotlight\",\"text\":\"Bitcoin Spotlight\"},{\"text\":\"Blockchain\",\"href\":\"https://hackernoon.com/tagged/blockchain\"},{\"text\":\"Coil\",\"href\":\"https://coil.com?ref=hackernoon.com\"},{\"text\":\"Cryptocurrency\",\"href\":\"https://hackernoon.com/tagged/cryptocurrency\"},{\"href\":\"https://hackernoon.com/tagged/cardano\",\"text\":\"Cardano\"},{\"text\":\"DApps\",\"href\":\"https://hackernoon.com/tagged/dapps\"},{\"text\":\"Does It Work?\",\"href\":\"https://hackernoon.com/decentralizing-everything-never-seems-to-work-2bb0461bd168\"},{\"text\":\"DWeb\",\"href\":\"https://hackernoon.com/tagged/decentralized-web\"},{\"href\":\"https://hackernoon.com/tagged/eos\",\"text\":\"EOS\"},{\"href\":\"https://hackernoon.com/tagged/ethereum\",\"text\":\"Ethereum\"},{\"href\":\"https://hackernoon.com/tagged/finance\",\"text\":\"Finance\"},{\"text\":\"Free TON\",\"href\":\"https://bit.ly/2Pomq1x\"},{\"href\":\"https://hackernoon.com/tagged/libra\",\"text\":\"Libra\"},{\"href\":\"https://hackernoon.com/why-everyone-missed-the-most-important-invention-in-the-last-500-years-c90b0151c169\",\"text\":\"Mind Blown\"},{\"href\":\"https://hackernoon.com/tagged/ripple\",\"text\":\"Ripple\"},{\"text\":\"Space\",\"href\":\"https://hackernoon.com/tagged/space\"},{\"href\":\"https://hackernoon.com/tagged/tether\",\"text\":\"Tether\"},{\"href\":\"https://hackernoon.com/how-to-decentralize-twitter-956a37da\",\"text\":\"Twitter\"}]}],\"text\":\"Read\",\"name\":\"read\"},{\"href\":\"https://hackernoon.com/tagged/hackernoon-top-story/\",\"name\":\"top-stories\",\"sponsor\":true,\"text\":\"Top Stories\",\"sections\":[]},{\"href\":\"https://publish.hackernoon.com\",\"name\":\"write\",\"sections\":[],\"text\":\"Write\",\"sponsor\":true},{\"text\":\"Listen\",\"sections\":[],\"name\":\"listen\",\"sponsor\":true,\"href\":\"https://hackernoon.com/tagged/hackernoon-podcast\"},{\"text\":\"Learn\",\"href\":\"http://bit.ly/3rG0tZy\",\"sections\":[{\"links\":[{\"href\":\"http://bit.ly/3rFSgEM\",\"text\":\"Become a Cloud Developer 🔗\"},{\"text\":\"300 Scholarships - School of Cloud Computing 🔗\",\"href\":\"https://bit.ly/3t14msY\"},{\"href\":\"https://bit.ly/2Z2V9mB\",\"text\":\"Become A Fullstack Developer 🔗\"},{\"href\":\"https://bit.ly/2Z5P4FY\",\"text\":\"Become Android Developer🔗\"},{\"text\":\"Design Patterns\",\"href\":\"https://hackernoon.com/how-to-learn-design-patterns-and-pretty-much-anything-else-9c5af6ceaba4\"},{\"text\":\"Feynman Technique\",\"href\":\"https://hackernoon.com/the-feynman-learning-technique-how-to-learn-anything-well-v9x3w7f\"},{\"text\":\"In 30 Days\",\"href\":\"https://hackernoon.com/learn-to-code-in-30-days-my-personal-journey-yv3y3ua0\"},{\"href\":\"https://hackernoon.com/things-i-learned-from-6-months-of-coding-8w1772dbx\",\"text\":\"In 6 Months\"},{\"href\":\"https://hackernoon.com/tagged/learning-to-code\",\"text\":\"Learning to Code\"},{\"href\":\"https://hackernoon.com/learning-how-to-learn-is-more-important-than-learning-to-code-gy9c3u5c\",\"text\":\"Learning to Learn\"},{\"text\":\"Learning via Games\",\"href\":\"https://hackernoon.com/8-free-online-games-to-help-you-learn-coding-vf1k3wld\"},{\"href\":\"https://bit.ly/3qclfj2\",\"text\":\"Cybersecurity 🔗\"}],\"heading\":{\"text\":\"Web Development\",\"href\":\"https://bit.ly/3aOybUa\"}},{\"heading\":{\"href\":\"https://bit.ly/3p6Xtna\",\"text\":\"Data Science\"},\"links\":[]},{\"links\":[{\"text\":\"Blockchain\",\"href\":\"https://hackernoon.com/search?query=learn+blockchain\"},{\"href\":\"https://hackernoon.com/search?query=learn%20C#\",\"text\":\"C C# C++\"},{\"href\":\"https://hackernoon.com/search?query=learn%20go\",\"text\":\"Go\"},{\"href\":\"https://bit.ly/3q9Egm6\",\"text\":\"HTML \\\\u0026 CSS🔗\"},{\"href\":\"https://bit.ly/2Z5Q1y2\",\"text\":\"Javascript🔗\"},{\"href\":\"https://hackernoon.com/search?query=learn%20php\",\"text\":\"PHP\"},{\"href\":\"https://bit.ly/3p2Wkx7\",\"text\":\"Python 🔗\"},{\"href\":\"https://hackernoon.com/search?query=learn%20ruby-on-rails\",\"text\":\"Ruby on Rails\"},{\"href\":\"https://bit.ly/2Z01G1w\",\"text\":\"SQL 🔗\"},{\"href\":\"https://bit.ly/3rG0tZy\",\"text\":\"In Partnership With Udacity\"}],\"heading\":{\"href\":\"https://bit.ly/2IEtq3D\",\"text\":\"Languages\"}}],\"name\":\"learn\"},{\"text\":\"Live\",\"sponsor\":true,\"href\":\"https://hackernoon.com/live/\",\"sections\":[],\"name\":\"live\"},{\"name\":\"advertise\",\"sponsor\":true,\"text\":\"Advertise\",\"href\":\"https://sponsor.hackernoon.com/\",\"sections\":[{\"links\":[{\"href\":\"https://sponsor.hackernoon.com/brand-as-author\",\"text\":\"Corporate Blog Posts\"},{\"href\":\"https://sponsor.hackernoon.com/brand-as-author\",\"text\":\"Tech News Release\"}],\"heading\":{\"text\":\"Post\",\"href\":\"https://sponsor.hackernoon.com/brand-as-author\"}},{\"heading\":{\"href\":\"https://sponsor.hackernoon.com\",\"text\":\"Place an Ad\"},\"links\":[{\"href\":\"https://sponsor.hackernoon.com/ad-by-tag\",\"text\":\"Targeted Niche Marketing\"},{\"href\":\"https://sponsor.hackernoon.com/billboard\",\"text\":\"Sitewide Takeover\"}]}]},{\"text\":\"About\",\"sections\":[{\"heading\":{\"href\":\"https://about.hackernoon.com/\",\"text\":\"About\"},\"links\":[{\"text\":\"A Story\",\"href\":\"https://readwrite.com/2020/06/10/hacker-noon-adds-quantitative-social-proof-and-web-monetization-standards/\"},{\"href\":\"https://careers.hackernoon.com/\",\"text\":\"Careers\"},{\"href\":\"https://hackernoon.com/@David\",\"text\":\"CEO\"},{\"text\":\"COO\",\"href\":\"https://hackernoon.com/@linh\"},{\"href\":\"https://hackernoon.com/@Dane\",\"text\":\"CPO\"},{\"href\":\"https://www.startengine.com/hackernoon\",\"text\":\"Equity Crowdfunding\"},{\"text\":\"In Six Words or Less\",\"href\":\"https://hackernoon.com/hacker-noon-faqs-with-six-word-answers-aw1ls3z1q\"},{\"text\":\"LinkedIn\",\"href\":\"https://www.linkedin.com/company/hackernoon\"},{\"text\":\"On the Gram\",\"href\":\"https://www.instagram.com/hackernoon/\"},{\"text\":\"Our Podcast\",\"href\":\"https://podcast.hackernoon.com/\"},{\"text\":\"Tech GIFs\",\"href\":\"https://giphy.com/hackernoon\"}]},{\"heading\":{\"href\":\"https://auth.hackernoon.com\",\"text\":\"Write\"},\"links\":[{\"text\":\"Add Coil Meta Tag\",\"href\":\"https://app.hackernoon.com/profile/rewards\"},{\"href\":\"https://hackernoon.com/three-things-about-headlines-3wc23ztl\",\"text\":\"Better Headlines\"},{\"text\":\"Create Your Own Call To Action\",\"href\":\"https://help.hackernoon.com/app/page/1HNTGwm_UAfdEv9nEKmZHjQHRJtYgLnMIEZ6Vw_ZRZvQ\"},{\"href\":\"https://help.hackernoon.com/\",\"text\":\"Help Section\"},{\"href\":\"https://publish.hackernoon.com/\",\"text\":\"Get Published\"},{\"text\":\"Submit a Story Checklist\",\"href\":\"https://help.hackernoon.com/app/page/1-wg7bxonxAFWdTYl5G4gJwvWLo0iWfBi-XKbdjcYva0\"},{\"href\":\"https://help.hackernoon.com/app/page/1fWmAG6zSc-EuxBhHYt-tUIR0wfefRxkmpVRD46byKTw\",\"text\":\"Troubleshooting Account Creation\"},{\"text\":\"Writing Guide\",\"href\":\"https://hackernoon.com/how-to-get-published-on-hacker-noon-a-step-by-step-guide-zcp36rz\"},{\"href\":\"https://auth.hackernoon.com\",\"text\":\"Write Now\"}]},{\"links\":[{\"text\":\"Back to the Internet\",\"href\":\"https://noonies.tech/#internet\"},{\"text\":\"Decentralization\",\"href\":\"https://noonies.tech/#blockchain\"},{\"href\":\"https://hackernoon.com/wtf-are-the-noonies-kjh3yv9\",\"text\":\"FAQ\"},{\"text\":\"Future Heroes\",\"href\":\"https://noonies.tech/#heroes\"},{\"text\":\"Interviews\",\"href\":\"https://hackernoon.com/tagged/noonies\"},{\"href\":\"https://hackernoon.com/podcast-the-2020-noonies-are-here-and-even-greener-than-last-year-vle3y4c\",\"text\":\"Podcast\"},{\"text\":\"Software\",\"href\":\"https://noonies.tech/#development\"},{\"text\":\"Stories\",\"href\":\"https://hackernoon.com/tagged/noonies\"},{\"href\":\"https://noonies.tech/#tech\",\"text\":\"Technology\"},{\"text\":\"Video\",\"href\":\"https://www.youtube.com/watch?v=A9cdOVuOfp8\"},{\"href\":\"https://noonies.hackernoon.com/\",\"text\":\"2019 Inaugerial Winners\"}],\"heading\":{\"href\":\"https://noonies.tech\",\"text\":\"Noonies 2020\"}}],\"name\":\"about\",\"href\":\"https://about.hackernoon.com/\"},{\"text\":\"Tech Companies\",\"href\":\"https://hackernoon.com/companies\",\"name\":\"tech-companies\",\"sections\":[{\"heading\":{\"href\":\"https://hackernoon.com/new-feature-alert-913-tech-company-news-pages-on-hacker-noon-th1334q2\",\"text\":\"A to F\"},\"links\":[{\"text\":\"Adobe\",\"href\":\"https://hackernoon.com/company/adobe\"},{\"href\":\"https://hackernoon.com/company/alphabet\",\"text\":\"Alphabet\"},{\"text\":\"Amazon\",\"href\":\"https://hackernoon.com/company/amazon\"},{\"text\":\"Apache\",\"href\":\"https://hackernoon.com/company/apache\"},{\"text\":\"Apple\",\"href\":\"https://hackernoon.com/company/apple\"},{\"href\":\"https://hackernoon.com/company/att\",\"text\":\"ATT\"},{\"href\":\"https://hackernoon.com/company/bankofamerica\",\"text\":\"BoA\"},{\"text\":\"Coinbase\",\"href\":\"https://hackernoon.com/company/coinbase\"},{\"href\":\"https://hackernoon.com/company/comcast\",\"text\":\"Comcast\"},{\"href\":\"https://hackernoon.com/company/ebay\",\"text\":\"Ebay\"},{\"text\":\"Facebook\",\"href\":\"https://hackernoon.com/company/facebook\"},{\"text\":\"Foxconn\",\"href\":\"https://hackernoon.com/company/foxconn\"}]},{\"heading\":{\"href\":\"https://hackernoon.com/new-feature-alert-913-tech-company-news-pages-on-hacker-noon-th1334q2\",\"text\":\"G to N\"},\"links\":[{\"text\":\"Google\",\"href\":\"https://hackernoon.com/company/google\"},{\"text\":\"HP\",\"href\":\"https://hackernoon.com/company/hp\"},{\"text\":\"Huawei\",\"href\":\"https://hackernoon.com/company/huawei\"},{\"text\":\"IBM\",\"href\":\"https://hackernoon.com/company/ibm\"},{\"text\":\"Intel\",\"href\":\"https://hackernoon.com/company/intel\"},{\"href\":\"https://hackernoon.com/company/intuit\",\"text\":\"Intuit\"},{\"text\":\"Lenovo\",\"href\":\"https://hackernoon.com/company/lenovogroup\"},{\"href\":\"https://hackernoon.com/company/mcdonald\",\"text\":\"McDonalds\"},{\"href\":\"https://hackernoon.com/company/microsoft\",\"text\":\"Microsoft\"},{\"href\":\"https://hackernoon.com/company/netapp\",\"text\":\"NetApp\"},{\"text\":\"Netflix\",\"href\":\"https://hackernoon.com/company/netflix\"},{\"text\":\"Nvidia\",\"href\":\"https://hackernoon.com/company/nvidia?ref=hackernoon.com\"}]},{\"links\":[{\"href\":\"https://hackernoon.com/company/oracle\",\"text\":\"Oracle\"},{\"href\":\"https://hackernoon.com/company/pfizer\",\"text\":\"Pfizer\"},{\"href\":\"https://hackernoon.com/company/samsung\",\"text\":\"Samsung\"},{\"href\":\"https://hackernoon.com/company/sony\",\"text\":\"Sony\"},{\"href\":\"https://hackernoon.com/company/tesla\",\"text\":\"Tesla\"},{\"text\":\"Texas Instruments\",\"href\":\"https://hackernoon.com/company/texasinstruments\"},{\"text\":\"Tencent\",\"href\":\"https://hackernoon.com/company/tencent\"},{\"href\":\"https://hackernoon.com/company/3m\",\"text\":\"3m\"},{\"text\":\"Twitter\",\"href\":\"https://hackernoon.com/company/twitter\"},{\"text\":\"Uber\",\"href\":\"https://hackernoon.com/company/uber\"},{\"href\":\"https://hackernoon.com/about-tech-company-news-pages-by-hacker-noon-uwu34bh\",\"text\":\"Learn More\"},{\"href\":\"https://hackernoon.com/new-feature-alert-913-tech-company-news-pages-on-hacker-noon-th1334q2\",\"text\":\"More Tech Companies\"}],\"heading\":{\"href\":\"https://hackernoon.com/new-feature-alert-913-tech-company-news-pages-on-hacker-noon-th1334q2\",\"text\":\"O to Z\"}}]},{\"sections\":[],\"href\":\"https://slogging.com\",\"sponsor\":true,\"name\":\"slogging\",\"text\":\"Slogging\"},{\"name\":\"help\",\"text\":\"Help\",\"sections\":[{\"links\":[{\"href\":\"https://help.hackernoon.com/submit-a-story-checklist\",\"text\":\"Submit a Story Checklist\"},{\"text\":\"Republishing Guideline\",\"href\":\"https://help.hackernoon.com/republishing-guide\"},{\"text\":\"Understand Your Profile\",\"href\":\"https://help.hackernoon.com/your-profile-page\"},{\"text\":\"Story Distribution\",\"href\":\"https://help.hackernoon.com/distribution\"},{\"text\":\"Account Settings\",\"href\":\"https://help.hackernoon.com/account-settings\"},{\"text\":\"Editorial Guidelines\",\"href\":\"https://help.hackernoon.com/editorial-guideline\"},{\"href\":\"https://help.hackernoon.com/use-our-editor\",\"text\":\"Our Text Editor\"},{\"text\":\"Story Rejected?\",\"href\":\"https://help.hackernoon.com/why-was-my-story-rejected\"},{\"text\":\"Writer Ad\",\"href\":\"https://help.hackernoon.com/make-your-own-call-to-action-with-the-writer-ad-on-the-story-page-and-profile-page\"}],\"heading\":{\"href\":\"https://help.hackernoon.com/284e303783eb4b758a3a0b756daf30d3\",\"text\":\"For Writers\"}},{\"heading\":{\"href\":\"https://help.hackernoon.com/b22b7b1f997e432a81887c2d0b5d1ad2\",\"text\":\"For Readers\"},\"links\":[{\"href\":\"https://help.hackernoon.com/customize-your-tech-brief\",\"text\":\"Customize Your Tech Brief\"},{\"text\":\"Archive\",\"href\":\"https://hackernoon.com/archives/yesterday\"},{\"text\":\"Bookmarks\",\"href\":\"https://help.hackernoon.com/bookmark-stories\"},{\"text\":\"Emoji Reactions\",\"href\":\"https://help.hackernoon.com/react-with-emojis\"},{\"text\":\"Getting Started\",\"href\":\"https://help.hackernoon.com/getting-started\"},{\"text\":\"Is this really ALL free?\",\"href\":\"https://help.hackernoon.com/is-hacker-noon-free-to-read\"},{\"text\":\"Learn Anything\",\"href\":\"https://hackernoon.com/search?query=\"},{\"text\":\"Navigate Tips\",\"href\":\"https://help.hackernoon.com/navigate-hacker-noon\"},{\"text\":\"Signup\",\"href\":\"https://hackernoon.com/signup\"}]}],\"href\":\"https://help.hackernoon.com/\"}],\"topNavAd\":{\"companyName\":\"LaunchDarkly\",\"timestamp\":null,\"tags\":[],\"active\":true,\"category\":\"\",\"website\":\"https://bit.ly/37vb3uO\",\"image\":\"https://cdn.hackernoon.com/images/img-tn0341a.jpeg\",\"text\":\"Download Effective Feature Management\",\"link\":\"https://bit.ly/37vb3uO\",\"type\":\"nav\"}},\"slug\":\"top-9-use-cases-for-human-resources-automation-7xv35kn\"},\"__N_SSG\":true},\"page\":\"/[slug]\",\"query\":{\"slug\":\"top-9-use-cases-for-human-resources-automation-7xv35kn\"},\"buildId\":\"xog0UBDzSHKNP4gthqafk\",\"isFallback\":false,\"gsp\":true}</script><script nomodule=\"\" src=\"/_next/static/chunks/polyfills-d4293e4356a562d322f3.js\"></script><script src=\"/_next/static/chunks/webpack-e480fcbd8374e4f3e253.js\" async=\"\"></script><script src=\"/_next/static/chunks/framework.1abeba43b6b34bf37f97.js\" async=\"\"></script><script src=\"/_next/static/chunks/commons.81a31809d5c26f56951e.js\" async=\"\"></script><script src=\"/_next/static/chunks/d0878c3ec4ef78de959b521400569ebfadfc8839.467cdada6226a92bd374.js\" async=\"\"></script><script src=\"/_next/static/chunks/main-89c0bd11d2d7575698f3.js\" async=\"\"></script><script src=\"/_next/static/chunks/484bcb1e.d47b6ec735ccc340f838.js\" async=\"\"></script><script src=\"/_next/static/chunks/ff239f9d.9ac8349135f0b00c4e83.js\" async=\"\"></script><script src=\"/_next/static/chunks/5e95f259d0ab9931cfe6cd49a9d7d2bb9a550f9f.da7fc3adf22e513a328b.js\" async=\"\"></script><script src=\"/_next/static/chunks/b9dd6d35ce8e0b7ad3e8165d02bd6f44c6c14c21.3439c48f1226a685dcbd.js\" async=\"\"></script><script src=\"/_next/static/chunks/f7dbb9c9481a9274d80a789401a811f717a9a087.e3161c1d88265558933e.js\" async=\"\"></script><script src=\"/_next/static/chunks/pages/_app-0f6a69d3bd8f7c125405.js\" async=\"\"></script><script src=\"/_next/static/chunks/75fc9c18.80deb01cf3fb6596151f.js\" async=\"\"></script><script src=\"/_next/static/chunks/0f1ac474.424891774248987d0493.js\" async=\"\"></script><script src=\"/_next/static/chunks/dd7572af9309768534fbfff4b75cb2767fb58ff4.5ca2f06374242ab4125e.js\" async=\"\"></script><script src=\"/_next/static/chunks/0f00930341e3e3a1d3abb5b622e604e03f23a281.1228152102b7a41c92e9.js\" async=\"\"></script><script src=\"/_next/static/chunks/7b0c3bf41eaace59a68b31a2818018362f812381.c9b8d2fec8c5a2b4171a.js\" async=\"\"></script><script src=\"/_next/static/chunks/4dacb214b8fa362e0b1b0d8fda72c57205adcc11.c44d2854aba5d0b7247a.js\" async=\"\"></script><script src=\"/_next/static/chunks/0d504def4949421c09d54a3f2f526e2647138e59.6a02093719e8f12e51f5.js\" async=\"\"></script><script src=\"/_next/static/chunks/d70c7d513bd0ca311e4052f9bb82482e10009741.169b15f0b95a87a698b5.js\" async=\"\"></script><script src=\"/_next/static/chunks/a275ceac2bfe25899ff865253c978ba4738aede0.d511f740c29f35c26156.js\" async=\"\"></script><script src=\"/_next/static/chunks/90be9110614fb878c5f31fc279ea1b447b8bc922.257aaffb627013f6859c.js\" async=\"\"></script><script src=\"/_next/static/chunks/pages/%5Bslug%5D-297c8288021f866d90b5.js\" async=\"\"></script><script src=\"/_next/static/xog0UBDzSHKNP4gthqafk/_buildManifest.js\" async=\"\"></script><script src=\"/_next/static/xog0UBDzSHKNP4gthqafk/_ssgManifest.js\" async=\"\"></script></body></html>'"
            ]
          },
          "metadata": {
            "tags": []
          },
          "execution_count": 15
        }
      ]
    },
    {
      "cell_type": "code",
      "metadata": {
        "id": "xvpI4oJNmNM7"
      },
      "source": [
        "soup = BeautifulSoup(r.text, 'html.parser')"
      ],
      "execution_count": 16,
      "outputs": []
    },
    {
      "cell_type": "code",
      "metadata": {
        "id": "f9jaqtKOno9j"
      },
      "source": [
        "results = soup.find_all(['h1', 'p'])"
      ],
      "execution_count": 17,
      "outputs": []
    },
    {
      "cell_type": "code",
      "metadata": {
        "colab": {
          "base_uri": "https://localhost:8080/"
        },
        "id": "wObbxVgznxkD",
        "outputId": "ff21cfc9-9243-4fbc-ed50-c067b5a72cd4"
      },
      "source": [
        "results"
      ],
      "execution_count": 18,
      "outputs": [
        {
          "output_type": "execute_result",
          "data": {
            "text/plain": [
              "[<h1>Top 9 Use Cases for Human Resources Automation</h1>,\n",
              " <p>We are leading chatbot &amp; enterprise software development services provider in India.</p>,\n",
              " <p class=\"paragraph\">Robotic Process Automation (RPA) is a relatively recent technology that has fundamentally changed the way we think about routine and repetitive operations. Deloitte’s <a href=\"https://www2.deloitte.com/ch/en/pages/human-capital/solutions/human-capital-robotic-process-automation.html?ref=hackernoon.com\" rel=\"noopener noreferrer ugc\" target=\"_blank\">recent survey</a> results confirmed that more than 74% of respondents are open to engaging with upcoming technologies in the near future, with almost 22% of them have already tried or implemented Robotic Process Automation.</p>,\n",
              " <p class=\"paragraph\">Human resources automation using RPA will allow organizations to automate transactional processes so that the HR team can focus on more strategic and meaningful responsibilities. It will enable redirection of time and resources on more productive activities such as giving face time to your employees or conflict resolution.</p>,\n",
              " <p class=\"paragraph\">RPA in HR operations focuses on micro-tasks, allowing it to integrate all of the processes and programs that the old systems were unable to handle effectively. This is done by running a software code that performs repetitive and high-volume operational activities on behalf of the HR work staff.</p>,\n",
              " <p class=\"paragraph\">The operations that it covers range from hiring new employees, processing payroll, and evaluating benefits to creating compliance reports that are all very time-consuming and labor-intensive. RPA adds accuracy and speed to data processing and can be instrumental in cutting down HR-related costs. The benefits of RPA in HR can revolutionize the industry by enhancing work efficiency and improving ROIs.</p>,\n",
              " <p class=\"paragraph\">RPA provides firms and their HR departments with a slew of distinct and quantifiable advantages. Some prominent use cases are discussed below:</p>,\n",
              " <p class=\"paragraph\"><strong>1. CV Screening and Shortlisting</strong></p>,\n",
              " <p class=\"paragraph\">One significant HR activity constitutes screening resumes and applications received for open positions. The RPA technology makes this process considerably easier by quickly consolidating applications and comparing all of the data to a list of predefined job criteria.</p>,\n",
              " <p class=\"paragraph\">These requirements may be viewed as predetermined guidelines that influence the whole selection process. The technology also helps with eliminating the need for redundant paperwork by using a database that stores all the potential employees’ profiles. It also automates the communication process by notifying candidates of their interview results.</p>,\n",
              " <p class=\"paragraph\"><strong>2. Simplifying Onboarding</strong></p>,\n",
              " <p class=\"paragraph\">Employee onboarding is another tedious task requiring simultaneous efforts of multiple people for approvals, sign-off, access rights, account creation, etc. Here, RPA for human resources automation can be used to activate a specific template for a user account’s onboarding workflow.</p>,\n",
              " <p class=\"paragraph\">RPA may be utilized to expedite the whole onboarding operation. Software robots may then make rule-based decisions like which onboarding materials to transmit, which credentials to issue to the new employee, and so on. HR automation best practices help in:</p>,\n",
              " <p class=\"paragraph\"><strong>3. Employee Data Management</strong></p>,\n",
              " <p class=\"paragraph\">One of the critical areas under HR job functionality is employee data management. Maintaining this database requires organized and consistent activities across databases and data formats, ranging from payroll and employee perks and benefits to company rules and regulations.</p>,\n",
              " <p class=\"paragraph\">Human resources automation can be leveraged to make jobs like personnel administration much easier to perform, lowering the risk of inaccurate data entry to a bare minimum. RPA additionally performs data cleaning operations regularly to maintain data consistency across numerous databases.</p>,\n",
              " <p class=\"paragraph\"><strong>4. Payroll Processing</strong></p>,\n",
              " <p class=\"paragraph\">It is no surprise that processing payments are among the most crucial tasks undertaken by the HR department. Unfortunately, it is a very mundane and repetitive task requiring a large amount of data entry regularly and is highly prone to manual errors.</p>,\n",
              " <p class=\"paragraph\">Human resources automation can streamline the payroll process by collecting and linking data from numerous systems and databases such as employee management, general ledger, accounts payable, time tracker, etc. They help in employee work-hours verification and create automated reports on the number of working hours registered, overtime, leave, timeouts, missing hours, etc.</p>,\n",
              " <p class=\"paragraph\"><strong>5. Tracking Attendance</strong></p>,\n",
              " <p class=\"paragraph\">By cross-checking self-reports against time documented in the business record and reporting any inconsistencies to HR management, RPA-based software robots can make attendance monitoring easier. Furthermore, bots might suggest reallocating various labor resources in the event of significant absenteeism, assisting the HR department in avoiding workflow interruptions.</p>,\n",
              " <p class=\"paragraph\"><strong>6. Expense Management</strong></p>,\n",
              " <p class=\"paragraph\">One of the most tedious and time-consuming tasks of HR managers is to keep track of travel, food, and other such expenditures. The task becomes even more grueling when dealing with missing receipts, late expense submissions, unforeseen expenses, unauthorized spending, etc.</p>,\n",
              " <p class=\"paragraph\">Using an RPA system for expenditure management helps businesses extract all of the necessary information from cost receipts automatically, thereby saving time. This also eliminates the need for them to carry around expenditure receipts because they can take photographs of them, and RPA will automatically retrieve all essential data.</p>,\n",
              " <p class=\"paragraph\"><strong>7. Calculation of Shift Allowance</strong></p>,\n",
              " <p class=\"paragraph\">Shift allowances are calculated through employee in-and-out swipe data stored in various HR backend systems. This data is used to generate shift allowance. Because of the vast datasets, this is an entirely manual procedure that takes a long time and has a significant risk of mistakes.</p>,\n",
              " <p class=\"paragraph\">RPA bots read and validate data from several backend systems automatically. Furthermore, the bots can perform this regularly, resulting in on-time allowance clearance and reduced manual efforts, and average handling time with zero mistakes.</p>,\n",
              " <p class=\"paragraph\"><strong>8. Performance Management</strong></p>,\n",
              " <p class=\"paragraph\">RPA can effectively handle employee performance management by reviewing and analyzing employee’s goal settings, expectations, incentives, and reward calculations. It helps the HR department keep the organization’s productivity consistently high, removes extra manual effort, and reduces employee evaluation chances.</p>,\n",
              " <p class=\"paragraph\"><strong>9. Employee Exit Management</strong></p>,\n",
              " <p class=\"paragraph\">While exiting an organization, several HR duties must be completed, including the preparation of leave documentation, the revocation of system access, and the full and final settlement. Any scope of error left here can result in several audit flags.</p>,\n",
              " <p class=\"paragraph\">RPA in HR may be pretty valuable in implementing a more efficient and well-organized off-boarding process. This is done by pre-determination of all the tasks involved in the exit process. The software extracts all the essential details from the various backend systems and sends emails to all the relevant departments for the next steps. </p>,\n",
              " <p class=\"paragraph\">The scope and <a href=\"https://marutitech.com/roi-of-rpa/?ref=hackernoon.com\" rel=\"noopener noreferrer ugc\" target=\"_blank\">RoI of RPA</a> are continuously growing, and it is no longer restricted to certain aspects of a business. Human resources automation leads to increased accuracy, considerable labor savings, and faster processing times, resulting in happier workers and customers.</p>,\n",
              " <p>Create your free account to unlock your custom reading experience.</p>,\n",
              " <p>Quality Weekly Reads About Technology Infiltrating Everything</p>]"
            ]
          },
          "metadata": {
            "tags": []
          },
          "execution_count": 18
        }
      ]
    },
    {
      "cell_type": "code",
      "metadata": {
        "id": "wOnSKPOVnzHK"
      },
      "source": [
        "text = [result.text for result in results]\n",
        "ARTICLE = ' '.join(text)"
      ],
      "execution_count": 19,
      "outputs": []
    },
    {
      "cell_type": "code",
      "metadata": {
        "colab": {
          "base_uri": "https://localhost:8080/"
        },
        "id": "-wkv3gUcoiAE",
        "outputId": "0fa3e595-8938-4e08-d9f6-422d87a94103"
      },
      "source": [
        "text"
      ],
      "execution_count": 20,
      "outputs": [
        {
          "output_type": "execute_result",
          "data": {
            "text/plain": [
              "['Top 9 Use Cases for Human Resources Automation',\n",
              " 'We are leading chatbot & enterprise software development services provider in India.',\n",
              " 'Robotic Process Automation (RPA) is a relatively recent technology that has fundamentally changed the way we think about routine and repetitive operations. Deloitte’s recent survey results confirmed that more than 74% of respondents are open to engaging with upcoming technologies in the near future, with almost 22% of them have already tried or implemented Robotic Process Automation.',\n",
              " 'Human resources automation using RPA will allow organizations to automate transactional processes so that the HR team can focus on more strategic and meaningful responsibilities. It will enable redirection of time and resources on more productive activities such as giving face time to your employees or conflict resolution.',\n",
              " 'RPA in HR operations focuses on micro-tasks, allowing it to integrate all of the processes and programs that the old systems were unable to handle effectively. This is done by running a software code that performs repetitive and high-volume operational activities on behalf of the HR work staff.',\n",
              " 'The operations that it covers range from hiring new employees, processing payroll, and evaluating benefits to creating compliance reports that are all very time-consuming and labor-intensive. RPA adds accuracy and speed to data processing and can be instrumental in cutting down HR-related costs. The benefits of RPA in HR can revolutionize the industry by enhancing work efficiency and improving ROIs.',\n",
              " 'RPA provides firms and their HR departments with a slew of distinct and quantifiable advantages. Some prominent use cases are discussed below:',\n",
              " '1. CV Screening and Shortlisting',\n",
              " 'One significant HR activity constitutes screening resumes and applications received for open positions. The RPA technology makes this process considerably easier by quickly consolidating applications and comparing all of the data to a list of predefined job criteria.',\n",
              " 'These requirements may be viewed as predetermined guidelines that influence the whole selection process. The technology also helps with eliminating the need for redundant paperwork by using a database that stores all the potential employees’ profiles. It also automates the communication process by notifying candidates of their interview results.',\n",
              " '2. Simplifying Onboarding',\n",
              " 'Employee onboarding is another tedious task requiring simultaneous efforts of multiple people for approvals, sign-off, access rights, account creation, etc. Here, RPA for human resources automation can be used to activate a specific template for a user account’s onboarding workflow.',\n",
              " 'RPA may be utilized to expedite the whole onboarding operation. Software robots may then make rule-based decisions like which onboarding materials to transmit, which credentials to issue to the new employee, and so on. HR automation best practices help in:',\n",
              " '3. Employee Data Management',\n",
              " 'One of the critical areas under HR job functionality is employee data management. Maintaining this database requires organized and consistent activities across databases and data formats, ranging from payroll and employee perks and benefits to company rules and regulations.',\n",
              " 'Human resources automation can be leveraged to make jobs like personnel administration much easier to perform, lowering the risk of inaccurate data entry to a bare minimum. RPA additionally performs data cleaning operations regularly to maintain data consistency across numerous databases.',\n",
              " '4. Payroll Processing',\n",
              " 'It is no surprise that processing payments are among the most crucial tasks undertaken by the HR department. Unfortunately, it is a very mundane and repetitive task requiring a large amount of data entry regularly and is highly prone to manual errors.',\n",
              " 'Human resources automation can streamline the payroll process by collecting and linking data from numerous systems and databases such as employee management, general ledger, accounts payable, time tracker, etc. They help in employee work-hours verification and create automated reports on the number of working hours registered, overtime, leave, timeouts, missing hours, etc.',\n",
              " '5. Tracking Attendance',\n",
              " 'By cross-checking self-reports against time documented in the business record and reporting any inconsistencies to HR management, RPA-based software robots can make attendance monitoring easier. Furthermore, bots might suggest reallocating various labor resources in the event of significant absenteeism, assisting the HR department in avoiding workflow interruptions.',\n",
              " '6. Expense Management',\n",
              " 'One of the most tedious and time-consuming tasks of HR managers is to keep track of travel, food, and other such expenditures. The task becomes even more grueling when dealing with missing receipts, late expense submissions, unforeseen expenses, unauthorized spending, etc.',\n",
              " 'Using an RPA system for expenditure management helps businesses extract all of the necessary information from cost receipts automatically, thereby saving time. This also eliminates the need for them to carry around expenditure receipts because they can take photographs of them, and RPA will automatically retrieve all essential data.',\n",
              " '7. Calculation of Shift Allowance',\n",
              " 'Shift allowances are calculated through employee in-and-out swipe data stored in various HR backend systems. This data is used to generate shift allowance. Because of the vast datasets, this is an entirely manual procedure that takes a long time and has a significant risk of mistakes.',\n",
              " 'RPA bots read and validate data from several backend systems automatically. Furthermore, the bots can perform this regularly, resulting in on-time allowance clearance and reduced manual efforts, and average handling time with zero mistakes.',\n",
              " '8. Performance Management',\n",
              " 'RPA can effectively handle employee performance management by reviewing and analyzing employee’s goal settings, expectations, incentives, and reward calculations. It helps the HR department keep the organization’s productivity consistently high, removes extra manual effort, and reduces employee evaluation chances.',\n",
              " '9. Employee Exit Management',\n",
              " 'While exiting an organization, several HR duties must be completed, including the preparation of leave documentation, the revocation of system access, and the full and final settlement. Any scope of error left here can result in several audit flags.',\n",
              " 'RPA in HR may be pretty valuable in implementing a more efficient and well-organized off-boarding process. This is done by pre-determination of all the tasks involved in the exit process. The software extracts all the essential details from the various backend systems and sends emails to all the relevant departments for the next steps.\\xa0',\n",
              " 'The scope and RoI of RPA are continuously growing, and it is no longer restricted to certain aspects of a business. Human resources automation leads to increased accuracy, considerable labor savings, and faster processing times, resulting in happier workers and customers.',\n",
              " 'Create your free account to unlock your custom reading experience.',\n",
              " 'Quality Weekly Reads About Technology Infiltrating Everything']"
            ]
          },
          "metadata": {
            "tags": []
          },
          "execution_count": 20
        }
      ]
    },
    {
      "cell_type": "code",
      "metadata": {
        "colab": {
          "base_uri": "https://localhost:8080/",
          "height": 124
        },
        "id": "iHwBTSIpo2Xc",
        "outputId": "85c64e81-e6b0-47c0-b613-a36985ae68b0"
      },
      "source": [
        "ARTICLE"
      ],
      "execution_count": 21,
      "outputs": [
        {
          "output_type": "execute_result",
          "data": {
            "application/vnd.google.colaboratory.intrinsic+json": {
              "type": "string"
            },
            "text/plain": [
              "'Top 9 Use Cases for Human Resources Automation We are leading chatbot & enterprise software development services provider in India. Robotic Process Automation (RPA) is a relatively recent technology that has fundamentally changed the way we think about routine and repetitive operations. Deloitte’s recent survey results confirmed that more than 74% of respondents are open to engaging with upcoming technologies in the near future, with almost 22% of them have already tried or implemented Robotic Process Automation. Human resources automation using RPA will allow organizations to automate transactional processes so that the HR team can focus on more strategic and meaningful responsibilities. It will enable redirection of time and resources on more productive activities such as giving face time to your employees or conflict resolution. RPA in HR operations focuses on micro-tasks, allowing it to integrate all of the processes and programs that the old systems were unable to handle effectively. This is done by running a software code that performs repetitive and high-volume operational activities on behalf of the HR work staff. The operations that it covers range from hiring new employees, processing payroll, and evaluating benefits to creating compliance reports that are all very time-consuming and labor-intensive. RPA adds accuracy and speed to data processing and can be instrumental in cutting down HR-related costs. The benefits of RPA in HR can revolutionize the industry by enhancing work efficiency and improving ROIs. RPA provides firms and their HR departments with a slew of distinct and quantifiable advantages. Some prominent use cases are discussed below: 1. CV Screening and Shortlisting One significant HR activity constitutes screening resumes and applications received for open positions. The RPA technology makes this process considerably easier by quickly consolidating applications and comparing all of the data to a list of predefined job criteria. These requirements may be viewed as predetermined guidelines that influence the whole selection process. The technology also helps with eliminating the need for redundant paperwork by using a database that stores all the potential employees’ profiles. It also automates the communication process by notifying candidates of their interview results. 2. Simplifying Onboarding Employee onboarding is another tedious task requiring simultaneous efforts of multiple people for approvals, sign-off, access rights, account creation, etc. Here, RPA for human resources automation can be used to activate a specific template for a user account’s onboarding workflow. RPA may be utilized to expedite the whole onboarding operation. Software robots may then make rule-based decisions like which onboarding materials to transmit, which credentials to issue to the new employee, and so on. HR automation best practices help in: 3. Employee Data Management One of the critical areas under HR job functionality is employee data management. Maintaining this database requires organized and consistent activities across databases and data formats, ranging from payroll and employee perks and benefits to company rules and regulations. Human resources automation can be leveraged to make jobs like personnel administration much easier to perform, lowering the risk of inaccurate data entry to a bare minimum. RPA additionally performs data cleaning operations regularly to maintain data consistency across numerous databases. 4. Payroll Processing It is no surprise that processing payments are among the most crucial tasks undertaken by the HR department. Unfortunately, it is a very mundane and repetitive task requiring a large amount of data entry regularly and is highly prone to manual errors. Human resources automation can streamline the payroll process by collecting and linking data from numerous systems and databases such as employee management, general ledger, accounts payable, time tracker, etc. They help in employee work-hours verification and create automated reports on the number of working hours registered, overtime, leave, timeouts, missing hours, etc. 5. Tracking Attendance By cross-checking self-reports against time documented in the business record and reporting any inconsistencies to HR management, RPA-based software robots can make attendance monitoring easier. Furthermore, bots might suggest reallocating various labor resources in the event of significant absenteeism, assisting the HR department in avoiding workflow interruptions. 6. Expense Management One of the most tedious and time-consuming tasks of HR managers is to keep track of travel, food, and other such expenditures. The task becomes even more grueling when dealing with missing receipts, late expense submissions, unforeseen expenses, unauthorized spending, etc. Using an RPA system for expenditure management helps businesses extract all of the necessary information from cost receipts automatically, thereby saving time. This also eliminates the need for them to carry around expenditure receipts because they can take photographs of them, and RPA will automatically retrieve all essential data. 7. Calculation of Shift Allowance Shift allowances are calculated through employee in-and-out swipe data stored in various HR backend systems. This data is used to generate shift allowance. Because of the vast datasets, this is an entirely manual procedure that takes a long time and has a significant risk of mistakes. RPA bots read and validate data from several backend systems automatically. Furthermore, the bots can perform this regularly, resulting in on-time allowance clearance and reduced manual efforts, and average handling time with zero mistakes. 8. Performance Management RPA can effectively handle employee performance management by reviewing and analyzing employee’s goal settings, expectations, incentives, and reward calculations. It helps the HR department keep the organization’s productivity consistently high, removes extra manual effort, and reduces employee evaluation chances. 9. Employee Exit Management While exiting an organization, several HR duties must be completed, including the preparation of leave documentation, the revocation of system access, and the full and final settlement. Any scope of error left here can result in several audit flags. RPA in HR may be pretty valuable in implementing a more efficient and well-organized off-boarding process. This is done by pre-determination of all the tasks involved in the exit process. The software extracts all the essential details from the various backend systems and sends emails to all the relevant departments for the next steps.\\xa0 The scope and RoI of RPA are continuously growing, and it is no longer restricted to certain aspects of a business. Human resources automation leads to increased accuracy, considerable labor savings, and faster processing times, resulting in happier workers and customers. Create your free account to unlock your custom reading experience. Quality Weekly Reads About Technology Infiltrating Everything'"
            ]
          },
          "metadata": {
            "tags": []
          },
          "execution_count": 21
        }
      ]
    },
    {
      "cell_type": "code",
      "metadata": {
        "id": "vGJpZTFPo2xq"
      },
      "source": [
        "ARTICLE = ARTICLE.replace('.', '.<eos>')\n",
        "ARTICLE = ARTICLE.replace('!', '!<eos>')\n",
        "ARTICLE = ARTICLE.replace('?', '?<eos>')"
      ],
      "execution_count": 22,
      "outputs": []
    },
    {
      "cell_type": "code",
      "metadata": {
        "id": "AnzdVU0eppsy"
      },
      "source": [
        "sentences = ARTICLE.split('<eos>')"
      ],
      "execution_count": 23,
      "outputs": []
    },
    {
      "cell_type": "code",
      "metadata": {
        "colab": {
          "base_uri": "https://localhost:8080/"
        },
        "id": "Gdauf3LFpvzK",
        "outputId": "e2a8a70b-2cba-4294-e428-c1bfbc7fe1c0"
      },
      "source": [
        "sentences"
      ],
      "execution_count": 24,
      "outputs": [
        {
          "output_type": "execute_result",
          "data": {
            "text/plain": [
              "['Top 9 Use Cases for Human Resources Automation We are leading chatbot & enterprise software development services provider in India.',\n",
              " ' Robotic Process Automation (RPA) is a relatively recent technology that has fundamentally changed the way we think about routine and repetitive operations.',\n",
              " ' Deloitte’s recent survey results confirmed that more than 74% of respondents are open to engaging with upcoming technologies in the near future, with almost 22% of them have already tried or implemented Robotic Process Automation.',\n",
              " ' Human resources automation using RPA will allow organizations to automate transactional processes so that the HR team can focus on more strategic and meaningful responsibilities.',\n",
              " ' It will enable redirection of time and resources on more productive activities such as giving face time to your employees or conflict resolution.',\n",
              " ' RPA in HR operations focuses on micro-tasks, allowing it to integrate all of the processes and programs that the old systems were unable to handle effectively.',\n",
              " ' This is done by running a software code that performs repetitive and high-volume operational activities on behalf of the HR work staff.',\n",
              " ' The operations that it covers range from hiring new employees, processing payroll, and evaluating benefits to creating compliance reports that are all very time-consuming and labor-intensive.',\n",
              " ' RPA adds accuracy and speed to data processing and can be instrumental in cutting down HR-related costs.',\n",
              " ' The benefits of RPA in HR can revolutionize the industry by enhancing work efficiency and improving ROIs.',\n",
              " ' RPA provides firms and their HR departments with a slew of distinct and quantifiable advantages.',\n",
              " ' Some prominent use cases are discussed below: 1.',\n",
              " ' CV Screening and Shortlisting One significant HR activity constitutes screening resumes and applications received for open positions.',\n",
              " ' The RPA technology makes this process considerably easier by quickly consolidating applications and comparing all of the data to a list of predefined job criteria.',\n",
              " ' These requirements may be viewed as predetermined guidelines that influence the whole selection process.',\n",
              " ' The technology also helps with eliminating the need for redundant paperwork by using a database that stores all the potential employees’ profiles.',\n",
              " ' It also automates the communication process by notifying candidates of their interview results.',\n",
              " ' 2.',\n",
              " ' Simplifying Onboarding Employee onboarding is another tedious task requiring simultaneous efforts of multiple people for approvals, sign-off, access rights, account creation, etc.',\n",
              " ' Here, RPA for human resources automation can be used to activate a specific template for a user account’s onboarding workflow.',\n",
              " ' RPA may be utilized to expedite the whole onboarding operation.',\n",
              " ' Software robots may then make rule-based decisions like which onboarding materials to transmit, which credentials to issue to the new employee, and so on.',\n",
              " ' HR automation best practices help in: 3.',\n",
              " ' Employee Data Management One of the critical areas under HR job functionality is employee data management.',\n",
              " ' Maintaining this database requires organized and consistent activities across databases and data formats, ranging from payroll and employee perks and benefits to company rules and regulations.',\n",
              " ' Human resources automation can be leveraged to make jobs like personnel administration much easier to perform, lowering the risk of inaccurate data entry to a bare minimum.',\n",
              " ' RPA additionally performs data cleaning operations regularly to maintain data consistency across numerous databases.',\n",
              " ' 4.',\n",
              " ' Payroll Processing It is no surprise that processing payments are among the most crucial tasks undertaken by the HR department.',\n",
              " ' Unfortunately, it is a very mundane and repetitive task requiring a large amount of data entry regularly and is highly prone to manual errors.',\n",
              " ' Human resources automation can streamline the payroll process by collecting and linking data from numerous systems and databases such as employee management, general ledger, accounts payable, time tracker, etc.',\n",
              " ' They help in employee work-hours verification and create automated reports on the number of working hours registered, overtime, leave, timeouts, missing hours, etc.',\n",
              " ' 5.',\n",
              " ' Tracking Attendance By cross-checking self-reports against time documented in the business record and reporting any inconsistencies to HR management, RPA-based software robots can make attendance monitoring easier.',\n",
              " ' Furthermore, bots might suggest reallocating various labor resources in the event of significant absenteeism, assisting the HR department in avoiding workflow interruptions.',\n",
              " ' 6.',\n",
              " ' Expense Management One of the most tedious and time-consuming tasks of HR managers is to keep track of travel, food, and other such expenditures.',\n",
              " ' The task becomes even more grueling when dealing with missing receipts, late expense submissions, unforeseen expenses, unauthorized spending, etc.',\n",
              " ' Using an RPA system for expenditure management helps businesses extract all of the necessary information from cost receipts automatically, thereby saving time.',\n",
              " ' This also eliminates the need for them to carry around expenditure receipts because they can take photographs of them, and RPA will automatically retrieve all essential data.',\n",
              " ' 7.',\n",
              " ' Calculation of Shift Allowance Shift allowances are calculated through employee in-and-out swipe data stored in various HR backend systems.',\n",
              " ' This data is used to generate shift allowance.',\n",
              " ' Because of the vast datasets, this is an entirely manual procedure that takes a long time and has a significant risk of mistakes.',\n",
              " ' RPA bots read and validate data from several backend systems automatically.',\n",
              " ' Furthermore, the bots can perform this regularly, resulting in on-time allowance clearance and reduced manual efforts, and average handling time with zero mistakes.',\n",
              " ' 8.',\n",
              " ' Performance Management RPA can effectively handle employee performance management by reviewing and analyzing employee’s goal settings, expectations, incentives, and reward calculations.',\n",
              " ' It helps the HR department keep the organization’s productivity consistently high, removes extra manual effort, and reduces employee evaluation chances.',\n",
              " ' 9.',\n",
              " ' Employee Exit Management While exiting an organization, several HR duties must be completed, including the preparation of leave documentation, the revocation of system access, and the full and final settlement.',\n",
              " ' Any scope of error left here can result in several audit flags.',\n",
              " ' RPA in HR may be pretty valuable in implementing a more efficient and well-organized off-boarding process.',\n",
              " ' This is done by pre-determination of all the tasks involved in the exit process.',\n",
              " ' The software extracts all the essential details from the various backend systems and sends emails to all the relevant departments for the next steps.',\n",
              " '\\xa0 The scope and RoI of RPA are continuously growing, and it is no longer restricted to certain aspects of a business.',\n",
              " ' Human resources automation leads to increased accuracy, considerable labor savings, and faster processing times, resulting in happier workers and customers.',\n",
              " ' Create your free account to unlock your custom reading experience.',\n",
              " ' Quality Weekly Reads About Technology Infiltrating Everything']"
            ]
          },
          "metadata": {
            "tags": []
          },
          "execution_count": 24
        }
      ]
    },
    {
      "cell_type": "code",
      "metadata": {
        "colab": {
          "base_uri": "https://localhost:8080/",
          "height": 53
        },
        "id": "0x4S_tcdpw96",
        "outputId": "a81a6efb-b342-401c-b04c-68be7753fafa"
      },
      "source": [
        "sentences[2]"
      ],
      "execution_count": 26,
      "outputs": [
        {
          "output_type": "execute_result",
          "data": {
            "application/vnd.google.colaboratory.intrinsic+json": {
              "type": "string"
            },
            "text/plain": [
              "' Deloitte’s recent survey results confirmed that more than 74% of respondents are open to engaging with upcoming technologies in the near future, with almost 22% of them have already tried or implemented Robotic Process Automation.'"
            ]
          },
          "metadata": {
            "tags": []
          },
          "execution_count": 26
        }
      ]
    },
    {
      "cell_type": "code",
      "metadata": {
        "colab": {
          "base_uri": "https://localhost:8080/"
        },
        "id": "-28OrIZxqIyK",
        "outputId": "8ebab009-1e48-4990-a518-a267b0319efe"
      },
      "source": [
        "max_chunk = 500\n",
        "current_chunk = 0\n",
        "chunks = []\n",
        "\n",
        "\n",
        "for sentence in sentences:\n",
        "  if len(chunks) == current_chunk +1:\n",
        "    if len(chunks[current_chunk]) + len(sentence.split(' ')) <= max_chunk:\n",
        "      chunks[current_chunk].extend(sentence.split(' '))\n",
        "\n",
        "    else:\n",
        "      current_chunk += 1\n",
        "      chunks.append(sentence.split(' '))\n",
        "\n",
        "  else:\n",
        "    print(current_chunk)\n",
        "    chunks.append(sentence.split(' '))"
      ],
      "execution_count": 27,
      "outputs": [
        {
          "output_type": "stream",
          "text": [
            "0\n"
          ],
          "name": "stdout"
        }
      ]
    },
    {
      "cell_type": "code",
      "metadata": {
        "id": "mZGNSofBta--"
      },
      "source": [
        "chunks[0]"
      ],
      "execution_count": null,
      "outputs": []
    },
    {
      "cell_type": "code",
      "metadata": {
        "id": "6lSl5PkRsNEy"
      },
      "source": [
        "for i in range(len(chunks)):\n",
        "  chunks[i] = ' '.join(chunks[i])\n"
      ],
      "execution_count": 29,
      "outputs": []
    },
    {
      "cell_type": "code",
      "metadata": {
        "colab": {
          "base_uri": "https://localhost:8080/",
          "height": 124
        },
        "id": "I-qKEciwtn22",
        "outputId": "d3065ec3-6b2d-4ba1-c6a9-175f9e1e79d5"
      },
      "source": [
        "chunks[0]"
      ],
      "execution_count": 30,
      "outputs": [
        {
          "output_type": "execute_result",
          "data": {
            "application/vnd.google.colaboratory.intrinsic+json": {
              "type": "string"
            },
            "text/plain": [
              "'Top 9 Use Cases for Human Resources Automation We are leading chatbot & enterprise software development services provider in India.  Robotic Process Automation (RPA) is a relatively recent technology that has fundamentally changed the way we think about routine and repetitive operations.  Deloitte’s recent survey results confirmed that more than 74% of respondents are open to engaging with upcoming technologies in the near future, with almost 22% of them have already tried or implemented Robotic Process Automation.  Human resources automation using RPA will allow organizations to automate transactional processes so that the HR team can focus on more strategic and meaningful responsibilities.  It will enable redirection of time and resources on more productive activities such as giving face time to your employees or conflict resolution.  RPA in HR operations focuses on micro-tasks, allowing it to integrate all of the processes and programs that the old systems were unable to handle effectively.  This is done by running a software code that performs repetitive and high-volume operational activities on behalf of the HR work staff.  The operations that it covers range from hiring new employees, processing payroll, and evaluating benefits to creating compliance reports that are all very time-consuming and labor-intensive.  RPA adds accuracy and speed to data processing and can be instrumental in cutting down HR-related costs.  The benefits of RPA in HR can revolutionize the industry by enhancing work efficiency and improving ROIs.  RPA provides firms and their HR departments with a slew of distinct and quantifiable advantages.  Some prominent use cases are discussed below: 1.  CV Screening and Shortlisting One significant HR activity constitutes screening resumes and applications received for open positions.  The RPA technology makes this process considerably easier by quickly consolidating applications and comparing all of the data to a list of predefined job criteria.  These requirements may be viewed as predetermined guidelines that influence the whole selection process.  The technology also helps with eliminating the need for redundant paperwork by using a database that stores all the potential employees’ profiles.  It also automates the communication process by notifying candidates of their interview results.  2.  Simplifying Onboarding Employee onboarding is another tedious task requiring simultaneous efforts of multiple people for approvals, sign-off, access rights, account creation, etc.  Here, RPA for human resources automation can be used to activate a specific template for a user account’s onboarding workflow.  RPA may be utilized to expedite the whole onboarding operation.  Software robots may then make rule-based decisions like which onboarding materials to transmit, which credentials to issue to the new employee, and so on.  HR automation best practices help in: 3.  Employee Data Management One of the critical areas under HR job functionality is employee data management.  Maintaining this database requires organized and consistent activities across databases and data formats, ranging from payroll and employee perks and benefits to company rules and regulations.'"
            ]
          },
          "metadata": {
            "tags": []
          },
          "execution_count": 30
        }
      ]
    },
    {
      "cell_type": "code",
      "metadata": {
        "colab": {
          "base_uri": "https://localhost:8080/",
          "height": 124
        },
        "id": "bP34sX-ItpnY",
        "outputId": "072f8e53-106b-4673-b672-be2c71ebc315"
      },
      "source": [
        "chunks[1]"
      ],
      "execution_count": 32,
      "outputs": [
        {
          "output_type": "execute_result",
          "data": {
            "application/vnd.google.colaboratory.intrinsic+json": {
              "type": "string"
            },
            "text/plain": [
              "' Human resources automation can be leveraged to make jobs like personnel administration much easier to perform, lowering the risk of inaccurate data entry to a bare minimum.  RPA additionally performs data cleaning operations regularly to maintain data consistency across numerous databases.  4.  Payroll Processing It is no surprise that processing payments are among the most crucial tasks undertaken by the HR department.  Unfortunately, it is a very mundane and repetitive task requiring a large amount of data entry regularly and is highly prone to manual errors.  Human resources automation can streamline the payroll process by collecting and linking data from numerous systems and databases such as employee management, general ledger, accounts payable, time tracker, etc.  They help in employee work-hours verification and create automated reports on the number of working hours registered, overtime, leave, timeouts, missing hours, etc.  5.  Tracking Attendance By cross-checking self-reports against time documented in the business record and reporting any inconsistencies to HR management, RPA-based software robots can make attendance monitoring easier.  Furthermore, bots might suggest reallocating various labor resources in the event of significant absenteeism, assisting the HR department in avoiding workflow interruptions.  6.  Expense Management One of the most tedious and time-consuming tasks of HR managers is to keep track of travel, food, and other such expenditures.  The task becomes even more grueling when dealing with missing receipts, late expense submissions, unforeseen expenses, unauthorized spending, etc.  Using an RPA system for expenditure management helps businesses extract all of the necessary information from cost receipts automatically, thereby saving time.  This also eliminates the need for them to carry around expenditure receipts because they can take photographs of them, and RPA will automatically retrieve all essential data.  7.  Calculation of Shift Allowance Shift allowances are calculated through employee in-and-out swipe data stored in various HR backend systems.  This data is used to generate shift allowance.  Because of the vast datasets, this is an entirely manual procedure that takes a long time and has a significant risk of mistakes.  RPA bots read and validate data from several backend systems automatically.  Furthermore, the bots can perform this regularly, resulting in on-time allowance clearance and reduced manual efforts, and average handling time with zero mistakes.  8.  Performance Management RPA can effectively handle employee performance management by reviewing and analyzing employee’s goal settings, expectations, incentives, and reward calculations.  It helps the HR department keep the organization’s productivity consistently high, removes extra manual effort, and reduces employee evaluation chances.  9.  Employee Exit Management While exiting an organization, several HR duties must be completed, including the preparation of leave documentation, the revocation of system access, and the full and final settlement.  Any scope of error left here can result in several audit flags.  RPA in HR may be pretty valuable in implementing a more efficient and well-organized off-boarding process.'"
            ]
          },
          "metadata": {
            "tags": []
          },
          "execution_count": 32
        }
      ]
    },
    {
      "cell_type": "code",
      "metadata": {
        "id": "IOl_PogAtq9o"
      },
      "source": [
        "res = summarizer(chunks,max_length = 100, min_length=20)"
      ],
      "execution_count": 36,
      "outputs": []
    },
    {
      "cell_type": "code",
      "metadata": {
        "colab": {
          "base_uri": "https://localhost:8080/"
        },
        "id": "BZ0YW7EuuO5o",
        "outputId": "b8511ba4-b419-42f3-ab5c-854a56cbcd63"
      },
      "source": [
        "res"
      ],
      "execution_count": 37,
      "outputs": [
        {
          "output_type": "execute_result",
          "data": {
            "text/plain": [
              "[{'summary_text': ' Robotic Process Automation (RPA) is a relatively recent technology that has fundamentally changed the way we think about routine and repetitive operations . Deloitte’s recent survey results confirmed that more than 74% of respondents are open to engaging with upcoming technologies in the near future . The benefits of RPA in HR can revolutionize the industry by enhancing work efficiency and improving ROIs .'},\n",
              " {'summary_text': ' Human resources automation can streamline the payroll process by collecting and linking data from numerous systems and databases such as employee management, general ledger, accounts payable, time tracker, etc. They help in employee work-hours verification and create automated reports on the number of working hours registered, overtime, leave, timeouts, missing hours, etc . RPA-based software robots can make attendance monitoring easier .'},\n",
              " {'summary_text': ' The scope and RoI of RPA are continuously growing, and it is no longer restricted to certain aspects of a business . Human resources automation leads to increased accuracy, considerable labor savings, and faster processing times, resulting in happier workers and customers .'}]"
            ]
          },
          "metadata": {
            "tags": []
          },
          "execution_count": 37
        }
      ]
    },
    {
      "cell_type": "code",
      "metadata": {
        "colab": {
          "base_uri": "https://localhost:8080/"
        },
        "id": "Q66cUNx8uZMg",
        "outputId": "db331ca5-1a6d-4e0c-cb57-8efc286fe5b3"
      },
      "source": [
        "res[0]"
      ],
      "execution_count": 38,
      "outputs": [
        {
          "output_type": "execute_result",
          "data": {
            "text/plain": [
              "{'summary_text': ' Robotic Process Automation (RPA) is a relatively recent technology that has fundamentally changed the way we think about routine and repetitive operations . Deloitte’s recent survey results confirmed that more than 74% of respondents are open to engaging with upcoming technologies in the near future . The benefits of RPA in HR can revolutionize the industry by enhancing work efficiency and improving ROIs .'}"
            ]
          },
          "metadata": {
            "tags": []
          },
          "execution_count": 38
        }
      ]
    },
    {
      "cell_type": "code",
      "metadata": {
        "colab": {
          "base_uri": "https://localhost:8080/",
          "height": 71
        },
        "id": "A8tbpD40vgdQ",
        "outputId": "ecf501bb-5e59-427e-b615-ef503f1c45c7"
      },
      "source": [
        "res[0]['summary_text']"
      ],
      "execution_count": 39,
      "outputs": [
        {
          "output_type": "execute_result",
          "data": {
            "application/vnd.google.colaboratory.intrinsic+json": {
              "type": "string"
            },
            "text/plain": [
              "' Robotic Process Automation (RPA) is a relatively recent technology that has fundamentally changed the way we think about routine and repetitive operations . Deloitte’s recent survey results confirmed that more than 74% of respondents are open to engaging with upcoming technologies in the near future . The benefits of RPA in HR can revolutionize the industry by enhancing work efficiency and improving ROIs .'"
            ]
          },
          "metadata": {
            "tags": []
          },
          "execution_count": 39
        }
      ]
    },
    {
      "cell_type": "code",
      "metadata": {
        "colab": {
          "base_uri": "https://localhost:8080/",
          "height": 124
        },
        "id": "XHLPSmglvldX",
        "outputId": "234532ac-12de-40f6-f99f-429dac5f0373"
      },
      "source": [
        "\" \".join([x['summary_text'] for x in res])"
      ],
      "execution_count": 40,
      "outputs": [
        {
          "output_type": "execute_result",
          "data": {
            "application/vnd.google.colaboratory.intrinsic+json": {
              "type": "string"
            },
            "text/plain": [
              "' Robotic Process Automation (RPA) is a relatively recent technology that has fundamentally changed the way we think about routine and repetitive operations . Deloitte’s recent survey results confirmed that more than 74% of respondents are open to engaging with upcoming technologies in the near future . The benefits of RPA in HR can revolutionize the industry by enhancing work efficiency and improving ROIs .  Human resources automation can streamline the payroll process by collecting and linking data from numerous systems and databases such as employee management, general ledger, accounts payable, time tracker, etc. They help in employee work-hours verification and create automated reports on the number of working hours registered, overtime, leave, timeouts, missing hours, etc . RPA-based software robots can make attendance monitoring easier .  The scope and RoI of RPA are continuously growing, and it is no longer restricted to certain aspects of a business . Human resources automation leads to increased accuracy, considerable labor savings, and faster processing times, resulting in happier workers and customers .'"
            ]
          },
          "metadata": {
            "tags": []
          },
          "execution_count": 40
        }
      ]
    },
    {
      "cell_type": "code",
      "metadata": {
        "id": "hy-8vUKPv6S3"
      },
      "source": [
        ""
      ],
      "execution_count": null,
      "outputs": []
    }
  ]
}